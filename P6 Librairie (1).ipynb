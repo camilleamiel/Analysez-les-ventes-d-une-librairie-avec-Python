{
 "cells": [
  {
   "cell_type": "code",
   "execution_count": 1,
   "id": "9dd8fc3f",
   "metadata": {},
   "outputs": [],
   "source": [
    "#chargement des différentes librairies \n",
    "import pandas as pd \n",
    "import numpy as np \n",
    "import matplotlib.pyplot as plt\n",
    "import seaborn as sns\n",
    "import scipy.stats as stats\n",
    "from scipy.stats import ttest_ind\n",
    "from scipy.stats import t"
   ]
  },
  {
   "cell_type": "code",
   "execution_count": 2,
   "id": "ec4fd6e2",
   "metadata": {},
   "outputs": [
    {
     "name": "stdout",
     "output_type": "stream",
     "text": [
      "Requirement already satisfied: researchpy in c:\\users\\camille.amiel\\anaconda3\\lib\\site-packages (0.3.5)\n",
      "Requirement already satisfied: patsy in c:\\users\\camille.amiel\\anaconda3\\lib\\site-packages (from researchpy) (0.5.2)\n",
      "Requirement already satisfied: pandas in c:\\users\\camille.amiel\\anaconda3\\lib\\site-packages (from researchpy) (1.4.2)\n",
      "Requirement already satisfied: scipy in c:\\users\\camille.amiel\\anaconda3\\lib\\site-packages (from researchpy) (1.7.3)\n",
      "Requirement already satisfied: numpy in c:\\users\\camille.amiel\\anaconda3\\lib\\site-packages (from researchpy) (1.21.5)\n",
      "Requirement already satisfied: statsmodels in c:\\users\\camille.amiel\\anaconda3\\lib\\site-packages (from researchpy) (0.13.2)\n",
      "Requirement already satisfied: python-dateutil>=2.8.1 in c:\\users\\camille.amiel\\anaconda3\\lib\\site-packages (from pandas->researchpy) (2.8.2)\n",
      "Requirement already satisfied: pytz>=2020.1 in c:\\users\\camille.amiel\\anaconda3\\lib\\site-packages (from pandas->researchpy) (2021.3)\n",
      "Requirement already satisfied: six>=1.5 in c:\\users\\camille.amiel\\anaconda3\\lib\\site-packages (from python-dateutil>=2.8.1->pandas->researchpy) (1.16.0)\n",
      "Requirement already satisfied: packaging>=21.3 in c:\\users\\camille.amiel\\anaconda3\\lib\\site-packages (from statsmodels->researchpy) (21.3)\n",
      "Requirement already satisfied: pyparsing!=3.0.5,>=2.0.2 in c:\\users\\camille.amiel\\anaconda3\\lib\\site-packages (from packaging>=21.3->statsmodels->researchpy) (3.0.4)\n",
      "Note: you may need to restart the kernel to use updated packages.\n"
     ]
    }
   ],
   "source": [
    "pip install researchpy"
   ]
  },
  {
   "cell_type": "code",
   "execution_count": 3,
   "id": "34c62348",
   "metadata": {},
   "outputs": [
    {
     "data": {
      "text/html": [
       "<div>\n",
       "<style scoped>\n",
       "    .dataframe tbody tr th:only-of-type {\n",
       "        vertical-align: middle;\n",
       "    }\n",
       "\n",
       "    .dataframe tbody tr th {\n",
       "        vertical-align: top;\n",
       "    }\n",
       "\n",
       "    .dataframe thead th {\n",
       "        text-align: right;\n",
       "    }\n",
       "</style>\n",
       "<table border=\"1\" class=\"dataframe\">\n",
       "  <thead>\n",
       "    <tr style=\"text-align: right;\">\n",
       "      <th></th>\n",
       "      <th>client_id</th>\n",
       "      <th>sex</th>\n",
       "      <th>birth</th>\n",
       "    </tr>\n",
       "  </thead>\n",
       "  <tbody>\n",
       "    <tr>\n",
       "      <th>0</th>\n",
       "      <td>c_4410</td>\n",
       "      <td>f</td>\n",
       "      <td>1967</td>\n",
       "    </tr>\n",
       "    <tr>\n",
       "      <th>1</th>\n",
       "      <td>c_7839</td>\n",
       "      <td>f</td>\n",
       "      <td>1975</td>\n",
       "    </tr>\n",
       "    <tr>\n",
       "      <th>2</th>\n",
       "      <td>c_1699</td>\n",
       "      <td>f</td>\n",
       "      <td>1984</td>\n",
       "    </tr>\n",
       "    <tr>\n",
       "      <th>3</th>\n",
       "      <td>c_5961</td>\n",
       "      <td>f</td>\n",
       "      <td>1962</td>\n",
       "    </tr>\n",
       "    <tr>\n",
       "      <th>4</th>\n",
       "      <td>c_5320</td>\n",
       "      <td>m</td>\n",
       "      <td>1943</td>\n",
       "    </tr>\n",
       "    <tr>\n",
       "      <th>...</th>\n",
       "      <td>...</td>\n",
       "      <td>...</td>\n",
       "      <td>...</td>\n",
       "    </tr>\n",
       "    <tr>\n",
       "      <th>8618</th>\n",
       "      <td>c_7920</td>\n",
       "      <td>m</td>\n",
       "      <td>1956</td>\n",
       "    </tr>\n",
       "    <tr>\n",
       "      <th>8619</th>\n",
       "      <td>c_7403</td>\n",
       "      <td>f</td>\n",
       "      <td>1970</td>\n",
       "    </tr>\n",
       "    <tr>\n",
       "      <th>8620</th>\n",
       "      <td>c_5119</td>\n",
       "      <td>m</td>\n",
       "      <td>1974</td>\n",
       "    </tr>\n",
       "    <tr>\n",
       "      <th>8621</th>\n",
       "      <td>c_5643</td>\n",
       "      <td>f</td>\n",
       "      <td>1968</td>\n",
       "    </tr>\n",
       "    <tr>\n",
       "      <th>8622</th>\n",
       "      <td>c_84</td>\n",
       "      <td>f</td>\n",
       "      <td>1982</td>\n",
       "    </tr>\n",
       "  </tbody>\n",
       "</table>\n",
       "<p>8623 rows × 3 columns</p>\n",
       "</div>"
      ],
      "text/plain": [
       "     client_id sex  birth\n",
       "0       c_4410   f   1967\n",
       "1       c_7839   f   1975\n",
       "2       c_1699   f   1984\n",
       "3       c_5961   f   1962\n",
       "4       c_5320   m   1943\n",
       "...        ...  ..    ...\n",
       "8618    c_7920   m   1956\n",
       "8619    c_7403   f   1970\n",
       "8620    c_5119   m   1974\n",
       "8621    c_5643   f   1968\n",
       "8622      c_84   f   1982\n",
       "\n",
       "[8623 rows x 3 columns]"
      ]
     },
     "execution_count": 3,
     "metadata": {},
     "output_type": "execute_result"
    }
   ],
   "source": [
    "df_customers = pd.read_csv('customers.csv') #chargement du fichier \"customers\"\n",
    "df_customers #affichage des données contenues du fichier"
   ]
  },
  {
   "cell_type": "code",
   "execution_count": 4,
   "id": "bfea5df0",
   "metadata": {},
   "outputs": [
    {
     "data": {
      "text/html": [
       "<div>\n",
       "<style scoped>\n",
       "    .dataframe tbody tr th:only-of-type {\n",
       "        vertical-align: middle;\n",
       "    }\n",
       "\n",
       "    .dataframe tbody tr th {\n",
       "        vertical-align: top;\n",
       "    }\n",
       "\n",
       "    .dataframe thead th {\n",
       "        text-align: right;\n",
       "    }\n",
       "</style>\n",
       "<table border=\"1\" class=\"dataframe\">\n",
       "  <thead>\n",
       "    <tr style=\"text-align: right;\">\n",
       "      <th></th>\n",
       "      <th>id_prod</th>\n",
       "      <th>price</th>\n",
       "      <th>categ</th>\n",
       "    </tr>\n",
       "  </thead>\n",
       "  <tbody>\n",
       "    <tr>\n",
       "      <th>0</th>\n",
       "      <td>0_1421</td>\n",
       "      <td>19.99</td>\n",
       "      <td>0</td>\n",
       "    </tr>\n",
       "    <tr>\n",
       "      <th>1</th>\n",
       "      <td>0_1368</td>\n",
       "      <td>5.13</td>\n",
       "      <td>0</td>\n",
       "    </tr>\n",
       "    <tr>\n",
       "      <th>2</th>\n",
       "      <td>0_731</td>\n",
       "      <td>17.99</td>\n",
       "      <td>0</td>\n",
       "    </tr>\n",
       "    <tr>\n",
       "      <th>3</th>\n",
       "      <td>1_587</td>\n",
       "      <td>4.99</td>\n",
       "      <td>1</td>\n",
       "    </tr>\n",
       "    <tr>\n",
       "      <th>4</th>\n",
       "      <td>0_1507</td>\n",
       "      <td>3.99</td>\n",
       "      <td>0</td>\n",
       "    </tr>\n",
       "    <tr>\n",
       "      <th>...</th>\n",
       "      <td>...</td>\n",
       "      <td>...</td>\n",
       "      <td>...</td>\n",
       "    </tr>\n",
       "    <tr>\n",
       "      <th>3282</th>\n",
       "      <td>2_23</td>\n",
       "      <td>115.99</td>\n",
       "      <td>2</td>\n",
       "    </tr>\n",
       "    <tr>\n",
       "      <th>3283</th>\n",
       "      <td>0_146</td>\n",
       "      <td>17.14</td>\n",
       "      <td>0</td>\n",
       "    </tr>\n",
       "    <tr>\n",
       "      <th>3284</th>\n",
       "      <td>0_802</td>\n",
       "      <td>11.22</td>\n",
       "      <td>0</td>\n",
       "    </tr>\n",
       "    <tr>\n",
       "      <th>3285</th>\n",
       "      <td>1_140</td>\n",
       "      <td>38.56</td>\n",
       "      <td>1</td>\n",
       "    </tr>\n",
       "    <tr>\n",
       "      <th>3286</th>\n",
       "      <td>0_1920</td>\n",
       "      <td>25.16</td>\n",
       "      <td>0</td>\n",
       "    </tr>\n",
       "  </tbody>\n",
       "</table>\n",
       "<p>3287 rows × 3 columns</p>\n",
       "</div>"
      ],
      "text/plain": [
       "     id_prod   price  categ\n",
       "0     0_1421   19.99      0\n",
       "1     0_1368    5.13      0\n",
       "2      0_731   17.99      0\n",
       "3      1_587    4.99      1\n",
       "4     0_1507    3.99      0\n",
       "...      ...     ...    ...\n",
       "3282    2_23  115.99      2\n",
       "3283   0_146   17.14      0\n",
       "3284   0_802   11.22      0\n",
       "3285   1_140   38.56      1\n",
       "3286  0_1920   25.16      0\n",
       "\n",
       "[3287 rows x 3 columns]"
      ]
     },
     "execution_count": 4,
     "metadata": {},
     "output_type": "execute_result"
    }
   ],
   "source": [
    "df_products = pd.read_csv('products.csv') #chargement du fichier \"products\"\n",
    "df_products #affichage des données contenues du fichier"
   ]
  },
  {
   "cell_type": "code",
   "execution_count": 5,
   "id": "b20527e0",
   "metadata": {},
   "outputs": [
    {
     "data": {
      "text/html": [
       "<div>\n",
       "<style scoped>\n",
       "    .dataframe tbody tr th:only-of-type {\n",
       "        vertical-align: middle;\n",
       "    }\n",
       "\n",
       "    .dataframe tbody tr th {\n",
       "        vertical-align: top;\n",
       "    }\n",
       "\n",
       "    .dataframe thead th {\n",
       "        text-align: right;\n",
       "    }\n",
       "</style>\n",
       "<table border=\"1\" class=\"dataframe\">\n",
       "  <thead>\n",
       "    <tr style=\"text-align: right;\">\n",
       "      <th></th>\n",
       "      <th>id_prod</th>\n",
       "      <th>date</th>\n",
       "      <th>session_id</th>\n",
       "      <th>client_id</th>\n",
       "    </tr>\n",
       "  </thead>\n",
       "  <tbody>\n",
       "    <tr>\n",
       "      <th>0</th>\n",
       "      <td>0_1518</td>\n",
       "      <td>2022-05-20 13:21:29.043970</td>\n",
       "      <td>s_211425</td>\n",
       "      <td>c_103</td>\n",
       "    </tr>\n",
       "    <tr>\n",
       "      <th>1</th>\n",
       "      <td>1_251</td>\n",
       "      <td>2022-02-02 07:55:19.149409</td>\n",
       "      <td>s_158752</td>\n",
       "      <td>c_8534</td>\n",
       "    </tr>\n",
       "    <tr>\n",
       "      <th>2</th>\n",
       "      <td>0_1277</td>\n",
       "      <td>2022-06-18 15:44:33.155329</td>\n",
       "      <td>s_225667</td>\n",
       "      <td>c_6714</td>\n",
       "    </tr>\n",
       "    <tr>\n",
       "      <th>3</th>\n",
       "      <td>2_209</td>\n",
       "      <td>2021-06-24 04:19:29.835891</td>\n",
       "      <td>s_52962</td>\n",
       "      <td>c_6941</td>\n",
       "    </tr>\n",
       "    <tr>\n",
       "      <th>4</th>\n",
       "      <td>0_1509</td>\n",
       "      <td>2023-01-11 08:22:08.194479</td>\n",
       "      <td>s_325227</td>\n",
       "      <td>c_4232</td>\n",
       "    </tr>\n",
       "    <tr>\n",
       "      <th>...</th>\n",
       "      <td>...</td>\n",
       "      <td>...</td>\n",
       "      <td>...</td>\n",
       "      <td>...</td>\n",
       "    </tr>\n",
       "    <tr>\n",
       "      <th>679527</th>\n",
       "      <td>0_1551</td>\n",
       "      <td>2022-01-15 13:05:06.246925</td>\n",
       "      <td>s_150195</td>\n",
       "      <td>c_8489</td>\n",
       "    </tr>\n",
       "    <tr>\n",
       "      <th>679528</th>\n",
       "      <td>1_639</td>\n",
       "      <td>2022-03-19 16:03:23.429229</td>\n",
       "      <td>s_181434</td>\n",
       "      <td>c_4370</td>\n",
       "    </tr>\n",
       "    <tr>\n",
       "      <th>679529</th>\n",
       "      <td>0_1425</td>\n",
       "      <td>2022-12-20 04:33:37.584749</td>\n",
       "      <td>s_314704</td>\n",
       "      <td>c_304</td>\n",
       "    </tr>\n",
       "    <tr>\n",
       "      <th>679530</th>\n",
       "      <td>0_1994</td>\n",
       "      <td>2021-07-16 20:36:35.350579</td>\n",
       "      <td>s_63204</td>\n",
       "      <td>c_2227</td>\n",
       "    </tr>\n",
       "    <tr>\n",
       "      <th>679531</th>\n",
       "      <td>1_523</td>\n",
       "      <td>2022-09-28 01:12:01.973763</td>\n",
       "      <td>s_274568</td>\n",
       "      <td>c_3873</td>\n",
       "    </tr>\n",
       "  </tbody>\n",
       "</table>\n",
       "<p>679532 rows × 4 columns</p>\n",
       "</div>"
      ],
      "text/plain": [
       "       id_prod                        date session_id client_id\n",
       "0       0_1518  2022-05-20 13:21:29.043970   s_211425     c_103\n",
       "1        1_251  2022-02-02 07:55:19.149409   s_158752    c_8534\n",
       "2       0_1277  2022-06-18 15:44:33.155329   s_225667    c_6714\n",
       "3        2_209  2021-06-24 04:19:29.835891    s_52962    c_6941\n",
       "4       0_1509  2023-01-11 08:22:08.194479   s_325227    c_4232\n",
       "...        ...                         ...        ...       ...\n",
       "679527  0_1551  2022-01-15 13:05:06.246925   s_150195    c_8489\n",
       "679528   1_639  2022-03-19 16:03:23.429229   s_181434    c_4370\n",
       "679529  0_1425  2022-12-20 04:33:37.584749   s_314704     c_304\n",
       "679530  0_1994  2021-07-16 20:36:35.350579    s_63204    c_2227\n",
       "679531   1_523  2022-09-28 01:12:01.973763   s_274568    c_3873\n",
       "\n",
       "[679532 rows x 4 columns]"
      ]
     },
     "execution_count": 5,
     "metadata": {},
     "output_type": "execute_result"
    }
   ],
   "source": [
    "df_transactions = pd.read_csv('transactions.csv') #chargement du fichier \"transactions\"\n",
    "df_transactions #affichage des données contenues du fichier"
   ]
  },
  {
   "cell_type": "markdown",
   "id": "92f4f6c3",
   "metadata": {},
   "source": [
    "<font size='5'><font color='darkgreen'><b>1ère Partie : Nettoyage des données</b>"
   ]
  },
  {
   "cell_type": "markdown",
   "id": "fb820ed2",
   "metadata": {},
   "source": [
    "<font size='4'><b><u>Nettoyage de la table \"customers\":</b></u>"
   ]
  },
  {
   "cell_type": "code",
   "execution_count": 6,
   "id": "e8114b5f",
   "metadata": {},
   "outputs": [
    {
     "data": {
      "text/plain": [
       "client_id    0\n",
       "sex          0\n",
       "birth        0\n",
       "dtype: int64"
      ]
     },
     "execution_count": 6,
     "metadata": {},
     "output_type": "execute_result"
    }
   ],
   "source": [
    "#Nombre de NaN présent dans le dataframe pour identifier les colonnes vides \n",
    "df_customers.isna().sum()"
   ]
  },
  {
   "cell_type": "markdown",
   "id": "3ca81e26",
   "metadata": {},
   "source": [
    "On constate qu'il n'y a pas de valeurs NaN dans cette table "
   ]
  },
  {
   "cell_type": "code",
   "execution_count": 7,
   "id": "73485a44",
   "metadata": {},
   "outputs": [
    {
     "data": {
      "text/html": [
       "<div>\n",
       "<style scoped>\n",
       "    .dataframe tbody tr th:only-of-type {\n",
       "        vertical-align: middle;\n",
       "    }\n",
       "\n",
       "    .dataframe tbody tr th {\n",
       "        vertical-align: top;\n",
       "    }\n",
       "\n",
       "    .dataframe thead th {\n",
       "        text-align: right;\n",
       "    }\n",
       "</style>\n",
       "<table border=\"1\" class=\"dataframe\">\n",
       "  <thead>\n",
       "    <tr style=\"text-align: right;\">\n",
       "      <th></th>\n",
       "      <th>client_id</th>\n",
       "      <th>sex</th>\n",
       "      <th>birth</th>\n",
       "    </tr>\n",
       "  </thead>\n",
       "  <tbody>\n",
       "    <tr>\n",
       "      <th>count</th>\n",
       "      <td>8623</td>\n",
       "      <td>8623</td>\n",
       "      <td>8623.000000</td>\n",
       "    </tr>\n",
       "    <tr>\n",
       "      <th>unique</th>\n",
       "      <td>8623</td>\n",
       "      <td>2</td>\n",
       "      <td>NaN</td>\n",
       "    </tr>\n",
       "    <tr>\n",
       "      <th>top</th>\n",
       "      <td>c_4410</td>\n",
       "      <td>f</td>\n",
       "      <td>NaN</td>\n",
       "    </tr>\n",
       "    <tr>\n",
       "      <th>freq</th>\n",
       "      <td>1</td>\n",
       "      <td>4491</td>\n",
       "      <td>NaN</td>\n",
       "    </tr>\n",
       "    <tr>\n",
       "      <th>mean</th>\n",
       "      <td>NaN</td>\n",
       "      <td>NaN</td>\n",
       "      <td>1978.280877</td>\n",
       "    </tr>\n",
       "    <tr>\n",
       "      <th>std</th>\n",
       "      <td>NaN</td>\n",
       "      <td>NaN</td>\n",
       "      <td>16.919535</td>\n",
       "    </tr>\n",
       "    <tr>\n",
       "      <th>min</th>\n",
       "      <td>NaN</td>\n",
       "      <td>NaN</td>\n",
       "      <td>1929.000000</td>\n",
       "    </tr>\n",
       "    <tr>\n",
       "      <th>25%</th>\n",
       "      <td>NaN</td>\n",
       "      <td>NaN</td>\n",
       "      <td>1966.000000</td>\n",
       "    </tr>\n",
       "    <tr>\n",
       "      <th>50%</th>\n",
       "      <td>NaN</td>\n",
       "      <td>NaN</td>\n",
       "      <td>1979.000000</td>\n",
       "    </tr>\n",
       "    <tr>\n",
       "      <th>75%</th>\n",
       "      <td>NaN</td>\n",
       "      <td>NaN</td>\n",
       "      <td>1992.000000</td>\n",
       "    </tr>\n",
       "    <tr>\n",
       "      <th>max</th>\n",
       "      <td>NaN</td>\n",
       "      <td>NaN</td>\n",
       "      <td>2004.000000</td>\n",
       "    </tr>\n",
       "  </tbody>\n",
       "</table>\n",
       "</div>"
      ],
      "text/plain": [
       "       client_id   sex        birth\n",
       "count       8623  8623  8623.000000\n",
       "unique      8623     2          NaN\n",
       "top       c_4410     f          NaN\n",
       "freq           1  4491          NaN\n",
       "mean         NaN   NaN  1978.280877\n",
       "std          NaN   NaN    16.919535\n",
       "min          NaN   NaN  1929.000000\n",
       "25%          NaN   NaN  1966.000000\n",
       "50%          NaN   NaN  1979.000000\n",
       "75%          NaN   NaN  1992.000000\n",
       "max          NaN   NaN  2004.000000"
      ]
     },
     "execution_count": 7,
     "metadata": {},
     "output_type": "execute_result"
    }
   ],
   "source": [
    "#analyse de la table customers\n",
    "df_customers.describe(include = 'all')"
   ]
  },
  {
   "cell_type": "markdown",
   "id": "00fda5be",
   "metadata": {},
   "source": [
    "On constate qu'il n'y a pas de doublons, il y a 8623 clients uniques basé sur le champ client_id\n",
    "Il n'y a pas d'outliers non plus, les dates de naissance s'étendent de 1929 à 2004 ce qui semble tout à fait cohérent"
   ]
  },
  {
   "cell_type": "markdown",
   "id": "673f710c",
   "metadata": {},
   "source": [
    "<font size='4'><b><u>Nettoyage de la table \"products\":</b></u>"
   ]
  },
  {
   "cell_type": "code",
   "execution_count": 8,
   "id": "f315a82e",
   "metadata": {},
   "outputs": [
    {
     "data": {
      "text/plain": [
       "id_prod    0\n",
       "price      0\n",
       "categ      0\n",
       "dtype: int64"
      ]
     },
     "execution_count": 8,
     "metadata": {},
     "output_type": "execute_result"
    }
   ],
   "source": [
    "#Nombre de NaN présent dans le dataframe pour identifier les colonnes vides \n",
    "df_products.isna().sum()"
   ]
  },
  {
   "cell_type": "markdown",
   "id": "71b2843f",
   "metadata": {},
   "source": [
    "On constate qu'il n'y a pas de valeurs NaN dans cette table non plus "
   ]
  },
  {
   "cell_type": "code",
   "execution_count": 9,
   "id": "6cfd62a9",
   "metadata": {},
   "outputs": [
    {
     "data": {
      "text/html": [
       "<div>\n",
       "<style scoped>\n",
       "    .dataframe tbody tr th:only-of-type {\n",
       "        vertical-align: middle;\n",
       "    }\n",
       "\n",
       "    .dataframe tbody tr th {\n",
       "        vertical-align: top;\n",
       "    }\n",
       "\n",
       "    .dataframe thead th {\n",
       "        text-align: right;\n",
       "    }\n",
       "</style>\n",
       "<table border=\"1\" class=\"dataframe\">\n",
       "  <thead>\n",
       "    <tr style=\"text-align: right;\">\n",
       "      <th></th>\n",
       "      <th>id_prod</th>\n",
       "      <th>price</th>\n",
       "      <th>categ</th>\n",
       "    </tr>\n",
       "  </thead>\n",
       "  <tbody>\n",
       "    <tr>\n",
       "      <th>count</th>\n",
       "      <td>3287</td>\n",
       "      <td>3287.000000</td>\n",
       "      <td>3287.000000</td>\n",
       "    </tr>\n",
       "    <tr>\n",
       "      <th>unique</th>\n",
       "      <td>3287</td>\n",
       "      <td>NaN</td>\n",
       "      <td>NaN</td>\n",
       "    </tr>\n",
       "    <tr>\n",
       "      <th>top</th>\n",
       "      <td>0_1421</td>\n",
       "      <td>NaN</td>\n",
       "      <td>NaN</td>\n",
       "    </tr>\n",
       "    <tr>\n",
       "      <th>freq</th>\n",
       "      <td>1</td>\n",
       "      <td>NaN</td>\n",
       "      <td>NaN</td>\n",
       "    </tr>\n",
       "    <tr>\n",
       "      <th>mean</th>\n",
       "      <td>NaN</td>\n",
       "      <td>21.856641</td>\n",
       "      <td>0.370246</td>\n",
       "    </tr>\n",
       "    <tr>\n",
       "      <th>std</th>\n",
       "      <td>NaN</td>\n",
       "      <td>29.847908</td>\n",
       "      <td>0.615387</td>\n",
       "    </tr>\n",
       "    <tr>\n",
       "      <th>min</th>\n",
       "      <td>NaN</td>\n",
       "      <td>-1.000000</td>\n",
       "      <td>0.000000</td>\n",
       "    </tr>\n",
       "    <tr>\n",
       "      <th>25%</th>\n",
       "      <td>NaN</td>\n",
       "      <td>6.990000</td>\n",
       "      <td>0.000000</td>\n",
       "    </tr>\n",
       "    <tr>\n",
       "      <th>50%</th>\n",
       "      <td>NaN</td>\n",
       "      <td>13.060000</td>\n",
       "      <td>0.000000</td>\n",
       "    </tr>\n",
       "    <tr>\n",
       "      <th>75%</th>\n",
       "      <td>NaN</td>\n",
       "      <td>22.990000</td>\n",
       "      <td>1.000000</td>\n",
       "    </tr>\n",
       "    <tr>\n",
       "      <th>max</th>\n",
       "      <td>NaN</td>\n",
       "      <td>300.000000</td>\n",
       "      <td>2.000000</td>\n",
       "    </tr>\n",
       "  </tbody>\n",
       "</table>\n",
       "</div>"
      ],
      "text/plain": [
       "       id_prod        price        categ\n",
       "count     3287  3287.000000  3287.000000\n",
       "unique    3287          NaN          NaN\n",
       "top     0_1421          NaN          NaN\n",
       "freq         1          NaN          NaN\n",
       "mean       NaN    21.856641     0.370246\n",
       "std        NaN    29.847908     0.615387\n",
       "min        NaN    -1.000000     0.000000\n",
       "25%        NaN     6.990000     0.000000\n",
       "50%        NaN    13.060000     0.000000\n",
       "75%        NaN    22.990000     1.000000\n",
       "max        NaN   300.000000     2.000000"
      ]
     },
     "execution_count": 9,
     "metadata": {},
     "output_type": "execute_result"
    }
   ],
   "source": [
    "#analyse de la table products\n",
    "df_products.describe(include = 'all')"
   ]
  },
  {
   "cell_type": "markdown",
   "id": "09e11d08",
   "metadata": {},
   "source": [
    "On constate qu'il n'y a pas de doublons, il y a 3287 produits uniques basé sur le champ id_prod\n",
    "On s'aperçoit qu'il y a 1 outlier, le prix minimum est négatif \"-1\""
   ]
  },
  {
   "cell_type": "code",
   "execution_count": 10,
   "id": "393cfac3",
   "metadata": {},
   "outputs": [
    {
     "data": {
      "text/html": [
       "<div>\n",
       "<style scoped>\n",
       "    .dataframe tbody tr th:only-of-type {\n",
       "        vertical-align: middle;\n",
       "    }\n",
       "\n",
       "    .dataframe tbody tr th {\n",
       "        vertical-align: top;\n",
       "    }\n",
       "\n",
       "    .dataframe thead th {\n",
       "        text-align: right;\n",
       "    }\n",
       "</style>\n",
       "<table border=\"1\" class=\"dataframe\">\n",
       "  <thead>\n",
       "    <tr style=\"text-align: right;\">\n",
       "      <th></th>\n",
       "      <th>id_prod</th>\n",
       "      <th>price</th>\n",
       "      <th>categ</th>\n",
       "    </tr>\n",
       "  </thead>\n",
       "  <tbody>\n",
       "    <tr>\n",
       "      <th>731</th>\n",
       "      <td>T_0</td>\n",
       "      <td>-1.0</td>\n",
       "      <td>0</td>\n",
       "    </tr>\n",
       "  </tbody>\n",
       "</table>\n",
       "</div>"
      ],
      "text/plain": [
       "    id_prod  price  categ\n",
       "731     T_0   -1.0      0"
      ]
     },
     "execution_count": 10,
     "metadata": {},
     "output_type": "execute_result"
    }
   ],
   "source": [
    "#identification de l'outlier:\n",
    "df_products[df_products['price'] <= 0]"
   ]
  },
  {
   "cell_type": "markdown",
   "id": "c6571203",
   "metadata": {},
   "source": [
    "Il s'agit du produit T_0 qui a un prix négatif, il doit s'agir d'une erreur"
   ]
  },
  {
   "cell_type": "markdown",
   "id": "c0a062a6",
   "metadata": {},
   "source": [
    "<font size='4'><b><u>Nettoyage de la table \"transactions\":</b></u>"
   ]
  },
  {
   "cell_type": "code",
   "execution_count": 11,
   "id": "e4cff9a5",
   "metadata": {},
   "outputs": [
    {
     "data": {
      "text/plain": [
       "id_prod       0\n",
       "date          0\n",
       "session_id    0\n",
       "client_id     0\n",
       "dtype: int64"
      ]
     },
     "execution_count": 11,
     "metadata": {},
     "output_type": "execute_result"
    }
   ],
   "source": [
    "#Nombre de NaN présent dans le dataframe pour identifier les colonnes vides \n",
    "df_transactions.isna().sum()"
   ]
  },
  {
   "cell_type": "markdown",
   "id": "22ced15b",
   "metadata": {},
   "source": [
    "On constate qu'il n'y a pas de valeurs NaN dans la table transactions non plus"
   ]
  },
  {
   "cell_type": "code",
   "execution_count": 12,
   "id": "64deb163",
   "metadata": {},
   "outputs": [
    {
     "data": {
      "text/html": [
       "<div>\n",
       "<style scoped>\n",
       "    .dataframe tbody tr th:only-of-type {\n",
       "        vertical-align: middle;\n",
       "    }\n",
       "\n",
       "    .dataframe tbody tr th {\n",
       "        vertical-align: top;\n",
       "    }\n",
       "\n",
       "    .dataframe thead th {\n",
       "        text-align: right;\n",
       "    }\n",
       "</style>\n",
       "<table border=\"1\" class=\"dataframe\">\n",
       "  <thead>\n",
       "    <tr style=\"text-align: right;\">\n",
       "      <th></th>\n",
       "      <th>id_prod</th>\n",
       "      <th>date</th>\n",
       "      <th>session_id</th>\n",
       "      <th>client_id</th>\n",
       "    </tr>\n",
       "  </thead>\n",
       "  <tbody>\n",
       "    <tr>\n",
       "      <th>count</th>\n",
       "      <td>679532</td>\n",
       "      <td>679532</td>\n",
       "      <td>679532</td>\n",
       "      <td>679532</td>\n",
       "    </tr>\n",
       "    <tr>\n",
       "      <th>unique</th>\n",
       "      <td>3267</td>\n",
       "      <td>679371</td>\n",
       "      <td>342316</td>\n",
       "      <td>8602</td>\n",
       "    </tr>\n",
       "    <tr>\n",
       "      <th>top</th>\n",
       "      <td>1_369</td>\n",
       "      <td>test_2021-03-01 02:30:02.237413</td>\n",
       "      <td>s_0</td>\n",
       "      <td>c_1609</td>\n",
       "    </tr>\n",
       "    <tr>\n",
       "      <th>freq</th>\n",
       "      <td>2252</td>\n",
       "      <td>13</td>\n",
       "      <td>200</td>\n",
       "      <td>25488</td>\n",
       "    </tr>\n",
       "  </tbody>\n",
       "</table>\n",
       "</div>"
      ],
      "text/plain": [
       "       id_prod                             date session_id client_id\n",
       "count   679532                           679532     679532    679532\n",
       "unique    3267                           679371     342316      8602\n",
       "top      1_369  test_2021-03-01 02:30:02.237413        s_0    c_1609\n",
       "freq      2252                               13        200     25488"
      ]
     },
     "execution_count": 12,
     "metadata": {},
     "output_type": "execute_result"
    }
   ],
   "source": [
    "#analyse de la table transactions\n",
    "df_transactions.describe(include = 'all')"
   ]
  },
  {
   "cell_type": "markdown",
   "id": "b73fa12f",
   "metadata": {},
   "source": [
    "On remarque que des dates sont identifiées comme \"test\""
   ]
  },
  {
   "cell_type": "code",
   "execution_count": 13,
   "id": "87d07638",
   "metadata": {},
   "outputs": [
    {
     "name": "stdout",
     "output_type": "stream",
     "text": [
      "<class 'pandas.core.frame.DataFrame'>\n",
      "RangeIndex: 679532 entries, 0 to 679531\n",
      "Data columns (total 4 columns):\n",
      " #   Column      Non-Null Count   Dtype \n",
      "---  ------      --------------   ----- \n",
      " 0   id_prod     679532 non-null  object\n",
      " 1   date        679532 non-null  object\n",
      " 2   session_id  679532 non-null  object\n",
      " 3   client_id   679532 non-null  object\n",
      "dtypes: object(4)\n",
      "memory usage: 20.7+ MB\n"
     ]
    }
   ],
   "source": [
    "#affichage des types pour convertir la colonne \"date\" en format  date \n",
    "df_transactions.info()"
   ]
  },
  {
   "cell_type": "code",
   "execution_count": 14,
   "id": "617dc9e3",
   "metadata": {},
   "outputs": [
    {
     "data": {
      "text/plain": [
       "0        2022-05-20 13:21:29.043970\n",
       "1        2022-02-02 07:55:19.149409\n",
       "2        2022-06-18 15:44:33.155329\n",
       "3        2021-06-24 04:19:29.835891\n",
       "4        2023-01-11 08:22:08.194479\n",
       "                    ...            \n",
       "679527   2022-01-15 13:05:06.246925\n",
       "679528   2022-03-19 16:03:23.429229\n",
       "679529   2022-12-20 04:33:37.584749\n",
       "679530   2021-07-16 20:36:35.350579\n",
       "679531   2022-09-28 01:12:01.973763\n",
       "Name: date, Length: 679532, dtype: datetime64[ns]"
      ]
     },
     "execution_count": 14,
     "metadata": {},
     "output_type": "execute_result"
    }
   ],
   "source": [
    "#conversion de la colonne \"date\" en type date et les valeurs en erreurs seront par défaut imputées en NaN\n",
    "df_transactions['date'] = pd.to_datetime(df_transactions['date'], errors = 'coerce')\n",
    "df_transactions['date']"
   ]
  },
  {
   "cell_type": "code",
   "execution_count": 15,
   "id": "27547f22",
   "metadata": {},
   "outputs": [
    {
     "data": {
      "text/html": [
       "<div>\n",
       "<style scoped>\n",
       "    .dataframe tbody tr th:only-of-type {\n",
       "        vertical-align: middle;\n",
       "    }\n",
       "\n",
       "    .dataframe tbody tr th {\n",
       "        vertical-align: top;\n",
       "    }\n",
       "\n",
       "    .dataframe thead th {\n",
       "        text-align: right;\n",
       "    }\n",
       "</style>\n",
       "<table border=\"1\" class=\"dataframe\">\n",
       "  <thead>\n",
       "    <tr style=\"text-align: right;\">\n",
       "      <th></th>\n",
       "      <th>id_prod</th>\n",
       "      <th>date</th>\n",
       "      <th>session_id</th>\n",
       "      <th>client_id</th>\n",
       "    </tr>\n",
       "  </thead>\n",
       "  <tbody>\n",
       "    <tr>\n",
       "      <th>3019</th>\n",
       "      <td>T_0</td>\n",
       "      <td>NaT</td>\n",
       "      <td>s_0</td>\n",
       "      <td>ct_0</td>\n",
       "    </tr>\n",
       "    <tr>\n",
       "      <th>5138</th>\n",
       "      <td>T_0</td>\n",
       "      <td>NaT</td>\n",
       "      <td>s_0</td>\n",
       "      <td>ct_0</td>\n",
       "    </tr>\n",
       "    <tr>\n",
       "      <th>9668</th>\n",
       "      <td>T_0</td>\n",
       "      <td>NaT</td>\n",
       "      <td>s_0</td>\n",
       "      <td>ct_1</td>\n",
       "    </tr>\n",
       "    <tr>\n",
       "      <th>10728</th>\n",
       "      <td>T_0</td>\n",
       "      <td>NaT</td>\n",
       "      <td>s_0</td>\n",
       "      <td>ct_0</td>\n",
       "    </tr>\n",
       "    <tr>\n",
       "      <th>15292</th>\n",
       "      <td>T_0</td>\n",
       "      <td>NaT</td>\n",
       "      <td>s_0</td>\n",
       "      <td>ct_0</td>\n",
       "    </tr>\n",
       "    <tr>\n",
       "      <th>...</th>\n",
       "      <td>...</td>\n",
       "      <td>...</td>\n",
       "      <td>...</td>\n",
       "      <td>...</td>\n",
       "    </tr>\n",
       "    <tr>\n",
       "      <th>657830</th>\n",
       "      <td>T_0</td>\n",
       "      <td>NaT</td>\n",
       "      <td>s_0</td>\n",
       "      <td>ct_0</td>\n",
       "    </tr>\n",
       "    <tr>\n",
       "      <th>662081</th>\n",
       "      <td>T_0</td>\n",
       "      <td>NaT</td>\n",
       "      <td>s_0</td>\n",
       "      <td>ct_1</td>\n",
       "    </tr>\n",
       "    <tr>\n",
       "      <th>670680</th>\n",
       "      <td>T_0</td>\n",
       "      <td>NaT</td>\n",
       "      <td>s_0</td>\n",
       "      <td>ct_1</td>\n",
       "    </tr>\n",
       "    <tr>\n",
       "      <th>671647</th>\n",
       "      <td>T_0</td>\n",
       "      <td>NaT</td>\n",
       "      <td>s_0</td>\n",
       "      <td>ct_1</td>\n",
       "    </tr>\n",
       "    <tr>\n",
       "      <th>679180</th>\n",
       "      <td>T_0</td>\n",
       "      <td>NaT</td>\n",
       "      <td>s_0</td>\n",
       "      <td>ct_1</td>\n",
       "    </tr>\n",
       "  </tbody>\n",
       "</table>\n",
       "<p>200 rows × 4 columns</p>\n",
       "</div>"
      ],
      "text/plain": [
       "       id_prod date session_id client_id\n",
       "3019       T_0  NaT        s_0      ct_0\n",
       "5138       T_0  NaT        s_0      ct_0\n",
       "9668       T_0  NaT        s_0      ct_1\n",
       "10728      T_0  NaT        s_0      ct_0\n",
       "15292      T_0  NaT        s_0      ct_0\n",
       "...        ...  ...        ...       ...\n",
       "657830     T_0  NaT        s_0      ct_0\n",
       "662081     T_0  NaT        s_0      ct_1\n",
       "670680     T_0  NaT        s_0      ct_1\n",
       "671647     T_0  NaT        s_0      ct_1\n",
       "679180     T_0  NaT        s_0      ct_1\n",
       "\n",
       "[200 rows x 4 columns]"
      ]
     },
     "execution_count": 15,
     "metadata": {},
     "output_type": "execute_result"
    }
   ],
   "source": [
    "#affichage des \"test\" qui ont été transformés en valeurs NaT:\n",
    "df_transactions_test = df_transactions[pd.isnull(df_transactions['date']) == True]\n",
    "df_transactions_test"
   ]
  },
  {
   "cell_type": "markdown",
   "id": "ed80f191",
   "metadata": {},
   "source": [
    "On s'aperçoit que tous ces test ont pour id_prod T_0 soit la valeur aberrante relevée plus haut avec le prix négatif -1, il s'agit donc de 200 lignes de test que nous allons supprimer afin de ne pas biaiser notre analyse par la suite "
   ]
  },
  {
   "cell_type": "markdown",
   "id": "5c0add5a",
   "metadata": {},
   "source": [
    "Nous allons donc supprimer :\n",
    "- tous les id_prod = T_0\n",
    "- tous les clients_id = ct_1 ou ct_0\n",
    "- toutes les lignes en date NaT"
   ]
  },
  {
   "cell_type": "code",
   "execution_count": 16,
   "id": "bfe2bd51",
   "metadata": {},
   "outputs": [],
   "source": [
    "df_customers.drop(df_customers[(df_customers['client_id'] == 'ct_0') | (df_customers['client_id'] == 'ct_1')].index, inplace = True)\n",
    "df_products.drop(df_products[df_products['id_prod'] == 'T_0'].index, inplace = True)\n",
    "df_transactions.drop(df_transactions[pd.isnull(df_transactions['date']) == True].index, inplace = True)"
   ]
  },
  {
   "cell_type": "code",
   "execution_count": 17,
   "id": "b0cedfc2",
   "metadata": {},
   "outputs": [],
   "source": [
    "#séparation de la colonne \"date\" en jour, mois et année\n",
    "df_transactions['date_jour'] = df_transactions['date'].dt.day\n",
    "df_transactions['date_mois'] = df_transactions['date'].dt.month\n",
    "df_transactions['date_annee'] = df_transactions['date'].dt.year"
   ]
  },
  {
   "cell_type": "code",
   "execution_count": 18,
   "id": "5f9b1dd1",
   "metadata": {},
   "outputs": [
    {
     "data": {
      "text/html": [
       "<div>\n",
       "<style scoped>\n",
       "    .dataframe tbody tr th:only-of-type {\n",
       "        vertical-align: middle;\n",
       "    }\n",
       "\n",
       "    .dataframe tbody tr th {\n",
       "        vertical-align: top;\n",
       "    }\n",
       "\n",
       "    .dataframe thead th {\n",
       "        text-align: right;\n",
       "    }\n",
       "</style>\n",
       "<table border=\"1\" class=\"dataframe\">\n",
       "  <thead>\n",
       "    <tr style=\"text-align: right;\">\n",
       "      <th></th>\n",
       "      <th>id_prod</th>\n",
       "      <th>date</th>\n",
       "      <th>session_id</th>\n",
       "      <th>client_id</th>\n",
       "      <th>date_jour</th>\n",
       "      <th>date_mois</th>\n",
       "      <th>date_annee</th>\n",
       "    </tr>\n",
       "  </thead>\n",
       "  <tbody>\n",
       "    <tr>\n",
       "      <th>0</th>\n",
       "      <td>0_1518</td>\n",
       "      <td>2022-05-20 13:21:29.043970</td>\n",
       "      <td>s_211425</td>\n",
       "      <td>c_103</td>\n",
       "      <td>20</td>\n",
       "      <td>5</td>\n",
       "      <td>2022</td>\n",
       "    </tr>\n",
       "    <tr>\n",
       "      <th>1</th>\n",
       "      <td>1_251</td>\n",
       "      <td>2022-02-02 07:55:19.149409</td>\n",
       "      <td>s_158752</td>\n",
       "      <td>c_8534</td>\n",
       "      <td>2</td>\n",
       "      <td>2</td>\n",
       "      <td>2022</td>\n",
       "    </tr>\n",
       "    <tr>\n",
       "      <th>2</th>\n",
       "      <td>0_1277</td>\n",
       "      <td>2022-06-18 15:44:33.155329</td>\n",
       "      <td>s_225667</td>\n",
       "      <td>c_6714</td>\n",
       "      <td>18</td>\n",
       "      <td>6</td>\n",
       "      <td>2022</td>\n",
       "    </tr>\n",
       "    <tr>\n",
       "      <th>3</th>\n",
       "      <td>2_209</td>\n",
       "      <td>2021-06-24 04:19:29.835891</td>\n",
       "      <td>s_52962</td>\n",
       "      <td>c_6941</td>\n",
       "      <td>24</td>\n",
       "      <td>6</td>\n",
       "      <td>2021</td>\n",
       "    </tr>\n",
       "    <tr>\n",
       "      <th>4</th>\n",
       "      <td>0_1509</td>\n",
       "      <td>2023-01-11 08:22:08.194479</td>\n",
       "      <td>s_325227</td>\n",
       "      <td>c_4232</td>\n",
       "      <td>11</td>\n",
       "      <td>1</td>\n",
       "      <td>2023</td>\n",
       "    </tr>\n",
       "    <tr>\n",
       "      <th>...</th>\n",
       "      <td>...</td>\n",
       "      <td>...</td>\n",
       "      <td>...</td>\n",
       "      <td>...</td>\n",
       "      <td>...</td>\n",
       "      <td>...</td>\n",
       "      <td>...</td>\n",
       "    </tr>\n",
       "    <tr>\n",
       "      <th>679527</th>\n",
       "      <td>0_1551</td>\n",
       "      <td>2022-01-15 13:05:06.246925</td>\n",
       "      <td>s_150195</td>\n",
       "      <td>c_8489</td>\n",
       "      <td>15</td>\n",
       "      <td>1</td>\n",
       "      <td>2022</td>\n",
       "    </tr>\n",
       "    <tr>\n",
       "      <th>679528</th>\n",
       "      <td>1_639</td>\n",
       "      <td>2022-03-19 16:03:23.429229</td>\n",
       "      <td>s_181434</td>\n",
       "      <td>c_4370</td>\n",
       "      <td>19</td>\n",
       "      <td>3</td>\n",
       "      <td>2022</td>\n",
       "    </tr>\n",
       "    <tr>\n",
       "      <th>679529</th>\n",
       "      <td>0_1425</td>\n",
       "      <td>2022-12-20 04:33:37.584749</td>\n",
       "      <td>s_314704</td>\n",
       "      <td>c_304</td>\n",
       "      <td>20</td>\n",
       "      <td>12</td>\n",
       "      <td>2022</td>\n",
       "    </tr>\n",
       "    <tr>\n",
       "      <th>679530</th>\n",
       "      <td>0_1994</td>\n",
       "      <td>2021-07-16 20:36:35.350579</td>\n",
       "      <td>s_63204</td>\n",
       "      <td>c_2227</td>\n",
       "      <td>16</td>\n",
       "      <td>7</td>\n",
       "      <td>2021</td>\n",
       "    </tr>\n",
       "    <tr>\n",
       "      <th>679531</th>\n",
       "      <td>1_523</td>\n",
       "      <td>2022-09-28 01:12:01.973763</td>\n",
       "      <td>s_274568</td>\n",
       "      <td>c_3873</td>\n",
       "      <td>28</td>\n",
       "      <td>9</td>\n",
       "      <td>2022</td>\n",
       "    </tr>\n",
       "  </tbody>\n",
       "</table>\n",
       "<p>679332 rows × 7 columns</p>\n",
       "</div>"
      ],
      "text/plain": [
       "       id_prod                       date session_id client_id  date_jour  \\\n",
       "0       0_1518 2022-05-20 13:21:29.043970   s_211425     c_103         20   \n",
       "1        1_251 2022-02-02 07:55:19.149409   s_158752    c_8534          2   \n",
       "2       0_1277 2022-06-18 15:44:33.155329   s_225667    c_6714         18   \n",
       "3        2_209 2021-06-24 04:19:29.835891    s_52962    c_6941         24   \n",
       "4       0_1509 2023-01-11 08:22:08.194479   s_325227    c_4232         11   \n",
       "...        ...                        ...        ...       ...        ...   \n",
       "679527  0_1551 2022-01-15 13:05:06.246925   s_150195    c_8489         15   \n",
       "679528   1_639 2022-03-19 16:03:23.429229   s_181434    c_4370         19   \n",
       "679529  0_1425 2022-12-20 04:33:37.584749   s_314704     c_304         20   \n",
       "679530  0_1994 2021-07-16 20:36:35.350579    s_63204    c_2227         16   \n",
       "679531   1_523 2022-09-28 01:12:01.973763   s_274568    c_3873         28   \n",
       "\n",
       "        date_mois  date_annee  \n",
       "0               5        2022  \n",
       "1               2        2022  \n",
       "2               6        2022  \n",
       "3               6        2021  \n",
       "4               1        2023  \n",
       "...           ...         ...  \n",
       "679527          1        2022  \n",
       "679528          3        2022  \n",
       "679529         12        2022  \n",
       "679530          7        2021  \n",
       "679531          9        2022  \n",
       "\n",
       "[679332 rows x 7 columns]"
      ]
     },
     "execution_count": 18,
     "metadata": {},
     "output_type": "execute_result"
    }
   ],
   "source": [
    "df_transactions"
   ]
  },
  {
   "cell_type": "markdown",
   "id": "df730798",
   "metadata": {},
   "source": [
    "### <font size='5' color='green'>Création du jeu de données finales </font>"
   ]
  },
  {
   "cell_type": "code",
   "execution_count": 19,
   "id": "6236db94",
   "metadata": {
    "scrolled": false
   },
   "outputs": [
    {
     "data": {
      "text/html": [
       "<div>\n",
       "<style scoped>\n",
       "    .dataframe tbody tr th:only-of-type {\n",
       "        vertical-align: middle;\n",
       "    }\n",
       "\n",
       "    .dataframe tbody tr th {\n",
       "        vertical-align: top;\n",
       "    }\n",
       "\n",
       "    .dataframe thead th {\n",
       "        text-align: right;\n",
       "    }\n",
       "</style>\n",
       "<table border=\"1\" class=\"dataframe\">\n",
       "  <thead>\n",
       "    <tr style=\"text-align: right;\">\n",
       "      <th></th>\n",
       "      <th>id_prod</th>\n",
       "      <th>date</th>\n",
       "      <th>session_id</th>\n",
       "      <th>client_id</th>\n",
       "      <th>date_jour</th>\n",
       "      <th>date_mois</th>\n",
       "      <th>date_annee</th>\n",
       "      <th>price</th>\n",
       "      <th>categ</th>\n",
       "      <th>sex</th>\n",
       "      <th>birth</th>\n",
       "    </tr>\n",
       "  </thead>\n",
       "  <tbody>\n",
       "    <tr>\n",
       "      <th>0</th>\n",
       "      <td>0_1518</td>\n",
       "      <td>2022-05-20 13:21:29.043970</td>\n",
       "      <td>s_211425</td>\n",
       "      <td>c_103</td>\n",
       "      <td>20</td>\n",
       "      <td>5</td>\n",
       "      <td>2022</td>\n",
       "      <td>4.18</td>\n",
       "      <td>0.0</td>\n",
       "      <td>f</td>\n",
       "      <td>1986</td>\n",
       "    </tr>\n",
       "    <tr>\n",
       "      <th>1</th>\n",
       "      <td>1_251</td>\n",
       "      <td>2022-02-02 07:55:19.149409</td>\n",
       "      <td>s_158752</td>\n",
       "      <td>c_8534</td>\n",
       "      <td>2</td>\n",
       "      <td>2</td>\n",
       "      <td>2022</td>\n",
       "      <td>15.99</td>\n",
       "      <td>1.0</td>\n",
       "      <td>m</td>\n",
       "      <td>1988</td>\n",
       "    </tr>\n",
       "    <tr>\n",
       "      <th>2</th>\n",
       "      <td>0_1277</td>\n",
       "      <td>2022-06-18 15:44:33.155329</td>\n",
       "      <td>s_225667</td>\n",
       "      <td>c_6714</td>\n",
       "      <td>18</td>\n",
       "      <td>6</td>\n",
       "      <td>2022</td>\n",
       "      <td>7.99</td>\n",
       "      <td>0.0</td>\n",
       "      <td>f</td>\n",
       "      <td>1968</td>\n",
       "    </tr>\n",
       "    <tr>\n",
       "      <th>3</th>\n",
       "      <td>2_209</td>\n",
       "      <td>2021-06-24 04:19:29.835891</td>\n",
       "      <td>s_52962</td>\n",
       "      <td>c_6941</td>\n",
       "      <td>24</td>\n",
       "      <td>6</td>\n",
       "      <td>2021</td>\n",
       "      <td>69.99</td>\n",
       "      <td>2.0</td>\n",
       "      <td>m</td>\n",
       "      <td>2000</td>\n",
       "    </tr>\n",
       "    <tr>\n",
       "      <th>4</th>\n",
       "      <td>0_1509</td>\n",
       "      <td>2023-01-11 08:22:08.194479</td>\n",
       "      <td>s_325227</td>\n",
       "      <td>c_4232</td>\n",
       "      <td>11</td>\n",
       "      <td>1</td>\n",
       "      <td>2023</td>\n",
       "      <td>4.99</td>\n",
       "      <td>0.0</td>\n",
       "      <td>m</td>\n",
       "      <td>1980</td>\n",
       "    </tr>\n",
       "    <tr>\n",
       "      <th>...</th>\n",
       "      <td>...</td>\n",
       "      <td>...</td>\n",
       "      <td>...</td>\n",
       "      <td>...</td>\n",
       "      <td>...</td>\n",
       "      <td>...</td>\n",
       "      <td>...</td>\n",
       "      <td>...</td>\n",
       "      <td>...</td>\n",
       "      <td>...</td>\n",
       "      <td>...</td>\n",
       "    </tr>\n",
       "    <tr>\n",
       "      <th>679327</th>\n",
       "      <td>0_1551</td>\n",
       "      <td>2022-01-15 13:05:06.246925</td>\n",
       "      <td>s_150195</td>\n",
       "      <td>c_8489</td>\n",
       "      <td>15</td>\n",
       "      <td>1</td>\n",
       "      <td>2022</td>\n",
       "      <td>12.99</td>\n",
       "      <td>0.0</td>\n",
       "      <td>f</td>\n",
       "      <td>1951</td>\n",
       "    </tr>\n",
       "    <tr>\n",
       "      <th>679328</th>\n",
       "      <td>1_639</td>\n",
       "      <td>2022-03-19 16:03:23.429229</td>\n",
       "      <td>s_181434</td>\n",
       "      <td>c_4370</td>\n",
       "      <td>19</td>\n",
       "      <td>3</td>\n",
       "      <td>2022</td>\n",
       "      <td>10.99</td>\n",
       "      <td>1.0</td>\n",
       "      <td>f</td>\n",
       "      <td>1977</td>\n",
       "    </tr>\n",
       "    <tr>\n",
       "      <th>679329</th>\n",
       "      <td>0_1425</td>\n",
       "      <td>2022-12-20 04:33:37.584749</td>\n",
       "      <td>s_314704</td>\n",
       "      <td>c_304</td>\n",
       "      <td>20</td>\n",
       "      <td>12</td>\n",
       "      <td>2022</td>\n",
       "      <td>12.99</td>\n",
       "      <td>0.0</td>\n",
       "      <td>f</td>\n",
       "      <td>1988</td>\n",
       "    </tr>\n",
       "    <tr>\n",
       "      <th>679330</th>\n",
       "      <td>0_1994</td>\n",
       "      <td>2021-07-16 20:36:35.350579</td>\n",
       "      <td>s_63204</td>\n",
       "      <td>c_2227</td>\n",
       "      <td>16</td>\n",
       "      <td>7</td>\n",
       "      <td>2021</td>\n",
       "      <td>4.98</td>\n",
       "      <td>0.0</td>\n",
       "      <td>m</td>\n",
       "      <td>1986</td>\n",
       "    </tr>\n",
       "    <tr>\n",
       "      <th>679331</th>\n",
       "      <td>1_523</td>\n",
       "      <td>2022-09-28 01:12:01.973763</td>\n",
       "      <td>s_274568</td>\n",
       "      <td>c_3873</td>\n",
       "      <td>28</td>\n",
       "      <td>9</td>\n",
       "      <td>2022</td>\n",
       "      <td>23.99</td>\n",
       "      <td>1.0</td>\n",
       "      <td>m</td>\n",
       "      <td>1995</td>\n",
       "    </tr>\n",
       "  </tbody>\n",
       "</table>\n",
       "<p>679332 rows × 11 columns</p>\n",
       "</div>"
      ],
      "text/plain": [
       "       id_prod                       date session_id client_id  date_jour  \\\n",
       "0       0_1518 2022-05-20 13:21:29.043970   s_211425     c_103         20   \n",
       "1        1_251 2022-02-02 07:55:19.149409   s_158752    c_8534          2   \n",
       "2       0_1277 2022-06-18 15:44:33.155329   s_225667    c_6714         18   \n",
       "3        2_209 2021-06-24 04:19:29.835891    s_52962    c_6941         24   \n",
       "4       0_1509 2023-01-11 08:22:08.194479   s_325227    c_4232         11   \n",
       "...        ...                        ...        ...       ...        ...   \n",
       "679327  0_1551 2022-01-15 13:05:06.246925   s_150195    c_8489         15   \n",
       "679328   1_639 2022-03-19 16:03:23.429229   s_181434    c_4370         19   \n",
       "679329  0_1425 2022-12-20 04:33:37.584749   s_314704     c_304         20   \n",
       "679330  0_1994 2021-07-16 20:36:35.350579    s_63204    c_2227         16   \n",
       "679331   1_523 2022-09-28 01:12:01.973763   s_274568    c_3873         28   \n",
       "\n",
       "        date_mois  date_annee  price  categ sex  birth  \n",
       "0               5        2022   4.18    0.0   f   1986  \n",
       "1               2        2022  15.99    1.0   m   1988  \n",
       "2               6        2022   7.99    0.0   f   1968  \n",
       "3               6        2021  69.99    2.0   m   2000  \n",
       "4               1        2023   4.99    0.0   m   1980  \n",
       "...           ...         ...    ...    ...  ..    ...  \n",
       "679327          1        2022  12.99    0.0   f   1951  \n",
       "679328          3        2022  10.99    1.0   f   1977  \n",
       "679329         12        2022  12.99    0.0   f   1988  \n",
       "679330          7        2021   4.98    0.0   m   1986  \n",
       "679331          9        2022  23.99    1.0   m   1995  \n",
       "\n",
       "[679332 rows x 11 columns]"
      ]
     },
     "execution_count": 19,
     "metadata": {},
     "output_type": "execute_result"
    }
   ],
   "source": [
    "fusion_transac_prod = df_transactions.merge(df_products, on='id_prod', how='left')\n",
    "df_final=fusion_transac_prod.merge(df_customers, on='client_id', how='left')\n",
    "df_final"
   ]
  },
  {
   "cell_type": "code",
   "execution_count": 20,
   "id": "3173009c",
   "metadata": {},
   "outputs": [
    {
     "name": "stdout",
     "output_type": "stream",
     "text": [
      "<class 'pandas.core.frame.DataFrame'>\n",
      "Int64Index: 679332 entries, 0 to 679331\n",
      "Data columns (total 11 columns):\n",
      " #   Column      Non-Null Count   Dtype         \n",
      "---  ------      --------------   -----         \n",
      " 0   id_prod     679332 non-null  object        \n",
      " 1   date        679332 non-null  datetime64[ns]\n",
      " 2   session_id  679332 non-null  object        \n",
      " 3   client_id   679332 non-null  object        \n",
      " 4   date_jour   679332 non-null  int64         \n",
      " 5   date_mois   679332 non-null  int64         \n",
      " 6   date_annee  679332 non-null  int64         \n",
      " 7   price       679111 non-null  float64       \n",
      " 8   categ       679111 non-null  float64       \n",
      " 9   sex         679332 non-null  object        \n",
      " 10  birth       679332 non-null  int64         \n",
      "dtypes: datetime64[ns](1), float64(2), int64(4), object(4)\n",
      "memory usage: 62.2+ MB\n"
     ]
    }
   ],
   "source": [
    "df_final.info()"
   ]
  },
  {
   "cell_type": "code",
   "execution_count": 21,
   "id": "729fa678",
   "metadata": {},
   "outputs": [
    {
     "data": {
      "text/html": [
       "<div>\n",
       "<style scoped>\n",
       "    .dataframe tbody tr th:only-of-type {\n",
       "        vertical-align: middle;\n",
       "    }\n",
       "\n",
       "    .dataframe tbody tr th {\n",
       "        vertical-align: top;\n",
       "    }\n",
       "\n",
       "    .dataframe thead th {\n",
       "        text-align: right;\n",
       "    }\n",
       "</style>\n",
       "<table border=\"1\" class=\"dataframe\">\n",
       "  <thead>\n",
       "    <tr style=\"text-align: right;\">\n",
       "      <th></th>\n",
       "      <th>date_jour</th>\n",
       "      <th>date_mois</th>\n",
       "      <th>date_annee</th>\n",
       "      <th>price</th>\n",
       "      <th>categ</th>\n",
       "      <th>birth</th>\n",
       "    </tr>\n",
       "  </thead>\n",
       "  <tbody>\n",
       "    <tr>\n",
       "      <th>count</th>\n",
       "      <td>679332.000000</td>\n",
       "      <td>679332.000000</td>\n",
       "      <td>679332.000000</td>\n",
       "      <td>679111.000000</td>\n",
       "      <td>679111.000000</td>\n",
       "      <td>679332.000000</td>\n",
       "    </tr>\n",
       "    <tr>\n",
       "      <th>mean</th>\n",
       "      <td>15.763892</td>\n",
       "      <td>6.504354</td>\n",
       "      <td>2021.670503</td>\n",
       "      <td>17.454773</td>\n",
       "      <td>0.441953</td>\n",
       "      <td>1977.811139</td>\n",
       "    </tr>\n",
       "    <tr>\n",
       "      <th>std</th>\n",
       "      <td>8.803106</td>\n",
       "      <td>3.480716</td>\n",
       "      <td>0.617553</td>\n",
       "      <td>18.328998</td>\n",
       "      <td>0.595042</td>\n",
       "      <td>13.574553</td>\n",
       "    </tr>\n",
       "    <tr>\n",
       "      <th>min</th>\n",
       "      <td>1.000000</td>\n",
       "      <td>1.000000</td>\n",
       "      <td>2021.000000</td>\n",
       "      <td>0.620000</td>\n",
       "      <td>0.000000</td>\n",
       "      <td>1929.000000</td>\n",
       "    </tr>\n",
       "    <tr>\n",
       "      <th>25%</th>\n",
       "      <td>8.000000</td>\n",
       "      <td>3.000000</td>\n",
       "      <td>2021.000000</td>\n",
       "      <td>8.870000</td>\n",
       "      <td>0.000000</td>\n",
       "      <td>1970.000000</td>\n",
       "    </tr>\n",
       "    <tr>\n",
       "      <th>50%</th>\n",
       "      <td>16.000000</td>\n",
       "      <td>6.000000</td>\n",
       "      <td>2022.000000</td>\n",
       "      <td>13.990000</td>\n",
       "      <td>0.000000</td>\n",
       "      <td>1980.000000</td>\n",
       "    </tr>\n",
       "    <tr>\n",
       "      <th>75%</th>\n",
       "      <td>23.000000</td>\n",
       "      <td>9.000000</td>\n",
       "      <td>2022.000000</td>\n",
       "      <td>18.990000</td>\n",
       "      <td>1.000000</td>\n",
       "      <td>1987.000000</td>\n",
       "    </tr>\n",
       "    <tr>\n",
       "      <th>max</th>\n",
       "      <td>31.000000</td>\n",
       "      <td>12.000000</td>\n",
       "      <td>2023.000000</td>\n",
       "      <td>300.000000</td>\n",
       "      <td>2.000000</td>\n",
       "      <td>2004.000000</td>\n",
       "    </tr>\n",
       "  </tbody>\n",
       "</table>\n",
       "</div>"
      ],
      "text/plain": [
       "           date_jour      date_mois     date_annee          price  \\\n",
       "count  679332.000000  679332.000000  679332.000000  679111.000000   \n",
       "mean       15.763892       6.504354    2021.670503      17.454773   \n",
       "std         8.803106       3.480716       0.617553      18.328998   \n",
       "min         1.000000       1.000000    2021.000000       0.620000   \n",
       "25%         8.000000       3.000000    2021.000000       8.870000   \n",
       "50%        16.000000       6.000000    2022.000000      13.990000   \n",
       "75%        23.000000       9.000000    2022.000000      18.990000   \n",
       "max        31.000000      12.000000    2023.000000     300.000000   \n",
       "\n",
       "               categ          birth  \n",
       "count  679111.000000  679332.000000  \n",
       "mean        0.441953    1977.811139  \n",
       "std         0.595042      13.574553  \n",
       "min         0.000000    1929.000000  \n",
       "25%         0.000000    1970.000000  \n",
       "50%         0.000000    1980.000000  \n",
       "75%         1.000000    1987.000000  \n",
       "max         2.000000    2004.000000  "
      ]
     },
     "execution_count": 21,
     "metadata": {},
     "output_type": "execute_result"
    }
   ],
   "source": [
    "df_final.describe()"
   ]
  },
  {
   "cell_type": "code",
   "execution_count": 22,
   "id": "1aa47751",
   "metadata": {
    "scrolled": false
   },
   "outputs": [
    {
     "data": {
      "text/plain": [
       "id_prod         0\n",
       "date            0\n",
       "session_id      0\n",
       "client_id       0\n",
       "date_jour       0\n",
       "date_mois       0\n",
       "date_annee      0\n",
       "price         221\n",
       "categ         221\n",
       "sex             0\n",
       "birth           0\n",
       "dtype: int64"
      ]
     },
     "execution_count": 22,
     "metadata": {},
     "output_type": "execute_result"
    }
   ],
   "source": [
    "df_final.isna().sum()"
   ]
  },
  {
   "cell_type": "code",
   "execution_count": 23,
   "id": "fbf12773",
   "metadata": {},
   "outputs": [
    {
     "data": {
      "text/html": [
       "<div>\n",
       "<style scoped>\n",
       "    .dataframe tbody tr th:only-of-type {\n",
       "        vertical-align: middle;\n",
       "    }\n",
       "\n",
       "    .dataframe tbody tr th {\n",
       "        vertical-align: top;\n",
       "    }\n",
       "\n",
       "    .dataframe thead th {\n",
       "        text-align: right;\n",
       "    }\n",
       "</style>\n",
       "<table border=\"1\" class=\"dataframe\">\n",
       "  <thead>\n",
       "    <tr style=\"text-align: right;\">\n",
       "      <th></th>\n",
       "      <th>id_prod</th>\n",
       "      <th>date</th>\n",
       "      <th>session_id</th>\n",
       "      <th>client_id</th>\n",
       "      <th>date_jour</th>\n",
       "      <th>date_mois</th>\n",
       "      <th>date_annee</th>\n",
       "      <th>price</th>\n",
       "      <th>categ</th>\n",
       "      <th>sex</th>\n",
       "      <th>birth</th>\n",
       "    </tr>\n",
       "  </thead>\n",
       "  <tbody>\n",
       "    <tr>\n",
       "      <th>2633</th>\n",
       "      <td>0_2245</td>\n",
       "      <td>2022-09-23 07:22:38.636773</td>\n",
       "      <td>s_272266</td>\n",
       "      <td>c_4746</td>\n",
       "      <td>23</td>\n",
       "      <td>9</td>\n",
       "      <td>2022</td>\n",
       "      <td>NaN</td>\n",
       "      <td>NaN</td>\n",
       "      <td>m</td>\n",
       "      <td>1940</td>\n",
       "    </tr>\n",
       "    <tr>\n",
       "      <th>10103</th>\n",
       "      <td>0_2245</td>\n",
       "      <td>2022-07-23 09:24:14.133889</td>\n",
       "      <td>s_242482</td>\n",
       "      <td>c_6713</td>\n",
       "      <td>23</td>\n",
       "      <td>7</td>\n",
       "      <td>2022</td>\n",
       "      <td>NaN</td>\n",
       "      <td>NaN</td>\n",
       "      <td>f</td>\n",
       "      <td>1963</td>\n",
       "    </tr>\n",
       "    <tr>\n",
       "      <th>11723</th>\n",
       "      <td>0_2245</td>\n",
       "      <td>2022-12-03 03:26:35.696673</td>\n",
       "      <td>s_306338</td>\n",
       "      <td>c_5108</td>\n",
       "      <td>3</td>\n",
       "      <td>12</td>\n",
       "      <td>2022</td>\n",
       "      <td>NaN</td>\n",
       "      <td>NaN</td>\n",
       "      <td>m</td>\n",
       "      <td>1978</td>\n",
       "    </tr>\n",
       "    <tr>\n",
       "      <th>15670</th>\n",
       "      <td>0_2245</td>\n",
       "      <td>2021-08-16 11:33:25.481411</td>\n",
       "      <td>s_76493</td>\n",
       "      <td>c_1391</td>\n",
       "      <td>16</td>\n",
       "      <td>8</td>\n",
       "      <td>2021</td>\n",
       "      <td>NaN</td>\n",
       "      <td>NaN</td>\n",
       "      <td>m</td>\n",
       "      <td>1991</td>\n",
       "    </tr>\n",
       "    <tr>\n",
       "      <th>16372</th>\n",
       "      <td>0_2245</td>\n",
       "      <td>2022-07-16 05:53:01.627491</td>\n",
       "      <td>s_239078</td>\n",
       "      <td>c_7954</td>\n",
       "      <td>16</td>\n",
       "      <td>7</td>\n",
       "      <td>2022</td>\n",
       "      <td>NaN</td>\n",
       "      <td>NaN</td>\n",
       "      <td>m</td>\n",
       "      <td>1973</td>\n",
       "    </tr>\n",
       "    <tr>\n",
       "      <th>...</th>\n",
       "      <td>...</td>\n",
       "      <td>...</td>\n",
       "      <td>...</td>\n",
       "      <td>...</td>\n",
       "      <td>...</td>\n",
       "      <td>...</td>\n",
       "      <td>...</td>\n",
       "      <td>...</td>\n",
       "      <td>...</td>\n",
       "      <td>...</td>\n",
       "      <td>...</td>\n",
       "    </tr>\n",
       "    <tr>\n",
       "      <th>669533</th>\n",
       "      <td>0_2245</td>\n",
       "      <td>2021-08-25 09:06:03.504061</td>\n",
       "      <td>s_80395</td>\n",
       "      <td>c_131</td>\n",
       "      <td>25</td>\n",
       "      <td>8</td>\n",
       "      <td>2021</td>\n",
       "      <td>NaN</td>\n",
       "      <td>NaN</td>\n",
       "      <td>m</td>\n",
       "      <td>1981</td>\n",
       "    </tr>\n",
       "    <tr>\n",
       "      <th>670484</th>\n",
       "      <td>0_2245</td>\n",
       "      <td>2022-03-06 19:59:19.462288</td>\n",
       "      <td>s_175311</td>\n",
       "      <td>c_4167</td>\n",
       "      <td>6</td>\n",
       "      <td>3</td>\n",
       "      <td>2022</td>\n",
       "      <td>NaN</td>\n",
       "      <td>NaN</td>\n",
       "      <td>f</td>\n",
       "      <td>1979</td>\n",
       "    </tr>\n",
       "    <tr>\n",
       "      <th>671088</th>\n",
       "      <td>0_2245</td>\n",
       "      <td>2022-05-16 11:35:20.319501</td>\n",
       "      <td>s_209381</td>\n",
       "      <td>c_4453</td>\n",
       "      <td>16</td>\n",
       "      <td>5</td>\n",
       "      <td>2022</td>\n",
       "      <td>NaN</td>\n",
       "      <td>NaN</td>\n",
       "      <td>m</td>\n",
       "      <td>1981</td>\n",
       "    </tr>\n",
       "    <tr>\n",
       "      <th>675480</th>\n",
       "      <td>0_2245</td>\n",
       "      <td>2022-02-11 09:05:43.952857</td>\n",
       "      <td>s_163405</td>\n",
       "      <td>c_1098</td>\n",
       "      <td>11</td>\n",
       "      <td>2</td>\n",
       "      <td>2022</td>\n",
       "      <td>NaN</td>\n",
       "      <td>NaN</td>\n",
       "      <td>m</td>\n",
       "      <td>1986</td>\n",
       "    </tr>\n",
       "    <tr>\n",
       "      <th>677797</th>\n",
       "      <td>0_2245</td>\n",
       "      <td>2021-12-14 22:34:54.589921</td>\n",
       "      <td>s_134446</td>\n",
       "      <td>c_4854</td>\n",
       "      <td>14</td>\n",
       "      <td>12</td>\n",
       "      <td>2021</td>\n",
       "      <td>NaN</td>\n",
       "      <td>NaN</td>\n",
       "      <td>m</td>\n",
       "      <td>1968</td>\n",
       "    </tr>\n",
       "  </tbody>\n",
       "</table>\n",
       "<p>221 rows × 11 columns</p>\n",
       "</div>"
      ],
      "text/plain": [
       "       id_prod                       date session_id client_id  date_jour  \\\n",
       "2633    0_2245 2022-09-23 07:22:38.636773   s_272266    c_4746         23   \n",
       "10103   0_2245 2022-07-23 09:24:14.133889   s_242482    c_6713         23   \n",
       "11723   0_2245 2022-12-03 03:26:35.696673   s_306338    c_5108          3   \n",
       "15670   0_2245 2021-08-16 11:33:25.481411    s_76493    c_1391         16   \n",
       "16372   0_2245 2022-07-16 05:53:01.627491   s_239078    c_7954         16   \n",
       "...        ...                        ...        ...       ...        ...   \n",
       "669533  0_2245 2021-08-25 09:06:03.504061    s_80395     c_131         25   \n",
       "670484  0_2245 2022-03-06 19:59:19.462288   s_175311    c_4167          6   \n",
       "671088  0_2245 2022-05-16 11:35:20.319501   s_209381    c_4453         16   \n",
       "675480  0_2245 2022-02-11 09:05:43.952857   s_163405    c_1098         11   \n",
       "677797  0_2245 2021-12-14 22:34:54.589921   s_134446    c_4854         14   \n",
       "\n",
       "        date_mois  date_annee  price  categ sex  birth  \n",
       "2633            9        2022    NaN    NaN   m   1940  \n",
       "10103           7        2022    NaN    NaN   f   1963  \n",
       "11723          12        2022    NaN    NaN   m   1978  \n",
       "15670           8        2021    NaN    NaN   m   1991  \n",
       "16372           7        2022    NaN    NaN   m   1973  \n",
       "...           ...         ...    ...    ...  ..    ...  \n",
       "669533          8        2021    NaN    NaN   m   1981  \n",
       "670484          3        2022    NaN    NaN   f   1979  \n",
       "671088          5        2022    NaN    NaN   m   1981  \n",
       "675480          2        2022    NaN    NaN   m   1986  \n",
       "677797         12        2021    NaN    NaN   m   1968  \n",
       "\n",
       "[221 rows x 11 columns]"
      ]
     },
     "execution_count": 23,
     "metadata": {},
     "output_type": "execute_result"
    }
   ],
   "source": [
    "#affichage des lignes \"NaN qui n'ont pas de catégories ni de prix:\n",
    "df_NaN = df_final[pd.isnull(df_final['categ']) == True]\n",
    "df_NaN"
   ]
  },
  {
   "cell_type": "markdown",
   "id": "52e59e2c",
   "metadata": {},
   "source": [
    "on constate que le produit 0_2245 n'a ni de prix ni de catégorie, afin de traiter ces 221 lignes, nous l'identifirons telle que la categorie = 0 au vue de sa nomenclature (\"0_xxx\") et intégrerons le prix moyen de la catégorie 0:\n"
   ]
  },
  {
   "cell_type": "code",
   "execution_count": 24,
   "id": "c1461bef",
   "metadata": {},
   "outputs": [
    {
     "data": {
      "text/plain": [
       "id_prod         0\n",
       "date            0\n",
       "session_id      0\n",
       "client_id       0\n",
       "date_jour       0\n",
       "date_mois       0\n",
       "date_annee      0\n",
       "price         221\n",
       "categ           0\n",
       "sex             0\n",
       "birth           0\n",
       "dtype: int64"
      ]
     },
     "execution_count": 24,
     "metadata": {},
     "output_type": "execute_result"
    }
   ],
   "source": [
    "# Remplacement des donnees manquantes de la catégorie du produit 0_2245:\n",
    "df_final['categ'] = np.where(df_final['id_prod'] == '0_2245',\n",
    "                               0,\n",
    "                               df_final['categ'])\n",
    "df_final.isna().sum()"
   ]
  },
  {
   "cell_type": "code",
   "execution_count": 25,
   "id": "dc98c3de",
   "metadata": {},
   "outputs": [
    {
     "name": "stdout",
     "output_type": "stream",
     "text": [
      "<class 'pandas.core.frame.DataFrame'>\n",
      "Int64Index: 679332 entries, 0 to 679331\n",
      "Data columns (total 11 columns):\n",
      " #   Column      Non-Null Count   Dtype         \n",
      "---  ------      --------------   -----         \n",
      " 0   id_prod     679332 non-null  object        \n",
      " 1   date        679332 non-null  datetime64[ns]\n",
      " 2   session_id  679332 non-null  object        \n",
      " 3   client_id   679332 non-null  object        \n",
      " 4   date_jour   679332 non-null  int64         \n",
      " 5   date_mois   679332 non-null  int64         \n",
      " 6   date_annee  679332 non-null  int64         \n",
      " 7   price       679111 non-null  float64       \n",
      " 8   categ       679332 non-null  int32         \n",
      " 9   sex         679332 non-null  object        \n",
      " 10  birth       679332 non-null  int64         \n",
      "dtypes: datetime64[ns](1), float64(1), int32(1), int64(4), object(4)\n",
      "memory usage: 59.6+ MB\n"
     ]
    }
   ],
   "source": [
    "df_final['categ']=df_final['categ'].astype('int')\n",
    "df_final.info()"
   ]
  },
  {
   "cell_type": "code",
   "execution_count": 26,
   "id": "5c440d39",
   "metadata": {},
   "outputs": [
    {
     "data": {
      "text/html": [
       "<div>\n",
       "<style scoped>\n",
       "    .dataframe tbody tr th:only-of-type {\n",
       "        vertical-align: middle;\n",
       "    }\n",
       "\n",
       "    .dataframe tbody tr th {\n",
       "        vertical-align: top;\n",
       "    }\n",
       "\n",
       "    .dataframe thead th {\n",
       "        text-align: right;\n",
       "    }\n",
       "</style>\n",
       "<table border=\"1\" class=\"dataframe\">\n",
       "  <thead>\n",
       "    <tr style=\"text-align: right;\">\n",
       "      <th></th>\n",
       "      <th>id_prod</th>\n",
       "      <th>date</th>\n",
       "      <th>session_id</th>\n",
       "      <th>client_id</th>\n",
       "      <th>date_jour</th>\n",
       "      <th>date_mois</th>\n",
       "      <th>date_annee</th>\n",
       "      <th>price</th>\n",
       "      <th>categ</th>\n",
       "      <th>sex</th>\n",
       "      <th>birth</th>\n",
       "    </tr>\n",
       "  </thead>\n",
       "  <tbody>\n",
       "    <tr>\n",
       "      <th>0</th>\n",
       "      <td>0_1518</td>\n",
       "      <td>2022-05-20 13:21:29.043970</td>\n",
       "      <td>s_211425</td>\n",
       "      <td>c_103</td>\n",
       "      <td>20</td>\n",
       "      <td>5</td>\n",
       "      <td>2022</td>\n",
       "      <td>4.18</td>\n",
       "      <td>0</td>\n",
       "      <td>f</td>\n",
       "      <td>1986</td>\n",
       "    </tr>\n",
       "    <tr>\n",
       "      <th>1</th>\n",
       "      <td>1_251</td>\n",
       "      <td>2022-02-02 07:55:19.149409</td>\n",
       "      <td>s_158752</td>\n",
       "      <td>c_8534</td>\n",
       "      <td>2</td>\n",
       "      <td>2</td>\n",
       "      <td>2022</td>\n",
       "      <td>15.99</td>\n",
       "      <td>1</td>\n",
       "      <td>m</td>\n",
       "      <td>1988</td>\n",
       "    </tr>\n",
       "    <tr>\n",
       "      <th>2</th>\n",
       "      <td>0_1277</td>\n",
       "      <td>2022-06-18 15:44:33.155329</td>\n",
       "      <td>s_225667</td>\n",
       "      <td>c_6714</td>\n",
       "      <td>18</td>\n",
       "      <td>6</td>\n",
       "      <td>2022</td>\n",
       "      <td>7.99</td>\n",
       "      <td>0</td>\n",
       "      <td>f</td>\n",
       "      <td>1968</td>\n",
       "    </tr>\n",
       "    <tr>\n",
       "      <th>3</th>\n",
       "      <td>2_209</td>\n",
       "      <td>2021-06-24 04:19:29.835891</td>\n",
       "      <td>s_52962</td>\n",
       "      <td>c_6941</td>\n",
       "      <td>24</td>\n",
       "      <td>6</td>\n",
       "      <td>2021</td>\n",
       "      <td>69.99</td>\n",
       "      <td>2</td>\n",
       "      <td>m</td>\n",
       "      <td>2000</td>\n",
       "    </tr>\n",
       "    <tr>\n",
       "      <th>4</th>\n",
       "      <td>0_1509</td>\n",
       "      <td>2023-01-11 08:22:08.194479</td>\n",
       "      <td>s_325227</td>\n",
       "      <td>c_4232</td>\n",
       "      <td>11</td>\n",
       "      <td>1</td>\n",
       "      <td>2023</td>\n",
       "      <td>4.99</td>\n",
       "      <td>0</td>\n",
       "      <td>m</td>\n",
       "      <td>1980</td>\n",
       "    </tr>\n",
       "    <tr>\n",
       "      <th>...</th>\n",
       "      <td>...</td>\n",
       "      <td>...</td>\n",
       "      <td>...</td>\n",
       "      <td>...</td>\n",
       "      <td>...</td>\n",
       "      <td>...</td>\n",
       "      <td>...</td>\n",
       "      <td>...</td>\n",
       "      <td>...</td>\n",
       "      <td>...</td>\n",
       "      <td>...</td>\n",
       "    </tr>\n",
       "    <tr>\n",
       "      <th>679327</th>\n",
       "      <td>0_1551</td>\n",
       "      <td>2022-01-15 13:05:06.246925</td>\n",
       "      <td>s_150195</td>\n",
       "      <td>c_8489</td>\n",
       "      <td>15</td>\n",
       "      <td>1</td>\n",
       "      <td>2022</td>\n",
       "      <td>12.99</td>\n",
       "      <td>0</td>\n",
       "      <td>f</td>\n",
       "      <td>1951</td>\n",
       "    </tr>\n",
       "    <tr>\n",
       "      <th>679328</th>\n",
       "      <td>1_639</td>\n",
       "      <td>2022-03-19 16:03:23.429229</td>\n",
       "      <td>s_181434</td>\n",
       "      <td>c_4370</td>\n",
       "      <td>19</td>\n",
       "      <td>3</td>\n",
       "      <td>2022</td>\n",
       "      <td>10.99</td>\n",
       "      <td>1</td>\n",
       "      <td>f</td>\n",
       "      <td>1977</td>\n",
       "    </tr>\n",
       "    <tr>\n",
       "      <th>679329</th>\n",
       "      <td>0_1425</td>\n",
       "      <td>2022-12-20 04:33:37.584749</td>\n",
       "      <td>s_314704</td>\n",
       "      <td>c_304</td>\n",
       "      <td>20</td>\n",
       "      <td>12</td>\n",
       "      <td>2022</td>\n",
       "      <td>12.99</td>\n",
       "      <td>0</td>\n",
       "      <td>f</td>\n",
       "      <td>1988</td>\n",
       "    </tr>\n",
       "    <tr>\n",
       "      <th>679330</th>\n",
       "      <td>0_1994</td>\n",
       "      <td>2021-07-16 20:36:35.350579</td>\n",
       "      <td>s_63204</td>\n",
       "      <td>c_2227</td>\n",
       "      <td>16</td>\n",
       "      <td>7</td>\n",
       "      <td>2021</td>\n",
       "      <td>4.98</td>\n",
       "      <td>0</td>\n",
       "      <td>m</td>\n",
       "      <td>1986</td>\n",
       "    </tr>\n",
       "    <tr>\n",
       "      <th>679331</th>\n",
       "      <td>1_523</td>\n",
       "      <td>2022-09-28 01:12:01.973763</td>\n",
       "      <td>s_274568</td>\n",
       "      <td>c_3873</td>\n",
       "      <td>28</td>\n",
       "      <td>9</td>\n",
       "      <td>2022</td>\n",
       "      <td>23.99</td>\n",
       "      <td>1</td>\n",
       "      <td>m</td>\n",
       "      <td>1995</td>\n",
       "    </tr>\n",
       "  </tbody>\n",
       "</table>\n",
       "<p>679332 rows × 11 columns</p>\n",
       "</div>"
      ],
      "text/plain": [
       "       id_prod                       date session_id client_id  date_jour  \\\n",
       "0       0_1518 2022-05-20 13:21:29.043970   s_211425     c_103         20   \n",
       "1        1_251 2022-02-02 07:55:19.149409   s_158752    c_8534          2   \n",
       "2       0_1277 2022-06-18 15:44:33.155329   s_225667    c_6714         18   \n",
       "3        2_209 2021-06-24 04:19:29.835891    s_52962    c_6941         24   \n",
       "4       0_1509 2023-01-11 08:22:08.194479   s_325227    c_4232         11   \n",
       "...        ...                        ...        ...       ...        ...   \n",
       "679327  0_1551 2022-01-15 13:05:06.246925   s_150195    c_8489         15   \n",
       "679328   1_639 2022-03-19 16:03:23.429229   s_181434    c_4370         19   \n",
       "679329  0_1425 2022-12-20 04:33:37.584749   s_314704     c_304         20   \n",
       "679330  0_1994 2021-07-16 20:36:35.350579    s_63204    c_2227         16   \n",
       "679331   1_523 2022-09-28 01:12:01.973763   s_274568    c_3873         28   \n",
       "\n",
       "        date_mois  date_annee  price  categ sex  birth  \n",
       "0               5        2022   4.18      0   f   1986  \n",
       "1               2        2022  15.99      1   m   1988  \n",
       "2               6        2022   7.99      0   f   1968  \n",
       "3               6        2021  69.99      2   m   2000  \n",
       "4               1        2023   4.99      0   m   1980  \n",
       "...           ...         ...    ...    ...  ..    ...  \n",
       "679327          1        2022  12.99      0   f   1951  \n",
       "679328          3        2022  10.99      1   f   1977  \n",
       "679329         12        2022  12.99      0   f   1988  \n",
       "679330          7        2021   4.98      0   m   1986  \n",
       "679331          9        2022  23.99      1   m   1995  \n",
       "\n",
       "[679332 rows x 11 columns]"
      ]
     },
     "execution_count": 26,
     "metadata": {},
     "output_type": "execute_result"
    }
   ],
   "source": [
    "df_final"
   ]
  },
  {
   "cell_type": "code",
   "execution_count": 27,
   "id": "57c63a36",
   "metadata": {},
   "outputs": [],
   "source": [
    "#calcul de la moyenne de prix de la catégorie 0: \n",
    "moyenne_categ_0=df_final.loc[(df_final['categ']==0),'price'].mean()"
   ]
  },
  {
   "cell_type": "code",
   "execution_count": 28,
   "id": "7d4768d0",
   "metadata": {},
   "outputs": [
    {
     "data": {
      "text/plain": [
       "id_prod       0\n",
       "date          0\n",
       "session_id    0\n",
       "client_id     0\n",
       "date_jour     0\n",
       "date_mois     0\n",
       "date_annee    0\n",
       "price         0\n",
       "categ         0\n",
       "sex           0\n",
       "birth         0\n",
       "dtype: int64"
      ]
     },
     "execution_count": 28,
     "metadata": {},
     "output_type": "execute_result"
    }
   ],
   "source": [
    "# Remplacement des donnees manquantes du prix du produit 0_2245:\n",
    "\n",
    "df_final['price'].fillna(value=moyenne_categ_0 , inplace=True)\n",
    "\n",
    "df_final.isna().sum()"
   ]
  },
  {
   "cell_type": "code",
   "execution_count": 29,
   "id": "03abe3a5",
   "metadata": {},
   "outputs": [
    {
     "data": {
      "text/html": [
       "<div>\n",
       "<style scoped>\n",
       "    .dataframe tbody tr th:only-of-type {\n",
       "        vertical-align: middle;\n",
       "    }\n",
       "\n",
       "    .dataframe tbody tr th {\n",
       "        vertical-align: top;\n",
       "    }\n",
       "\n",
       "    .dataframe thead th {\n",
       "        text-align: right;\n",
       "    }\n",
       "</style>\n",
       "<table border=\"1\" class=\"dataframe\">\n",
       "  <thead>\n",
       "    <tr style=\"text-align: right;\">\n",
       "      <th></th>\n",
       "      <th>id_prod</th>\n",
       "      <th>date</th>\n",
       "      <th>session_id</th>\n",
       "      <th>client_id</th>\n",
       "      <th>date_jour</th>\n",
       "      <th>date_mois</th>\n",
       "      <th>date_annee</th>\n",
       "      <th>price</th>\n",
       "      <th>categ</th>\n",
       "      <th>sex</th>\n",
       "      <th>birth</th>\n",
       "    </tr>\n",
       "  </thead>\n",
       "  <tbody>\n",
       "    <tr>\n",
       "      <th>0</th>\n",
       "      <td>0_1518</td>\n",
       "      <td>2022-05-20 13:21:29.043970</td>\n",
       "      <td>s_211425</td>\n",
       "      <td>c_103</td>\n",
       "      <td>20</td>\n",
       "      <td>5</td>\n",
       "      <td>2022</td>\n",
       "      <td>4.18</td>\n",
       "      <td>0</td>\n",
       "      <td>f</td>\n",
       "      <td>1986</td>\n",
       "    </tr>\n",
       "    <tr>\n",
       "      <th>1</th>\n",
       "      <td>1_251</td>\n",
       "      <td>2022-02-02 07:55:19.149409</td>\n",
       "      <td>s_158752</td>\n",
       "      <td>c_8534</td>\n",
       "      <td>2</td>\n",
       "      <td>2</td>\n",
       "      <td>2022</td>\n",
       "      <td>15.99</td>\n",
       "      <td>1</td>\n",
       "      <td>m</td>\n",
       "      <td>1988</td>\n",
       "    </tr>\n",
       "    <tr>\n",
       "      <th>2</th>\n",
       "      <td>0_1277</td>\n",
       "      <td>2022-06-18 15:44:33.155329</td>\n",
       "      <td>s_225667</td>\n",
       "      <td>c_6714</td>\n",
       "      <td>18</td>\n",
       "      <td>6</td>\n",
       "      <td>2022</td>\n",
       "      <td>7.99</td>\n",
       "      <td>0</td>\n",
       "      <td>f</td>\n",
       "      <td>1968</td>\n",
       "    </tr>\n",
       "    <tr>\n",
       "      <th>3</th>\n",
       "      <td>2_209</td>\n",
       "      <td>2021-06-24 04:19:29.835891</td>\n",
       "      <td>s_52962</td>\n",
       "      <td>c_6941</td>\n",
       "      <td>24</td>\n",
       "      <td>6</td>\n",
       "      <td>2021</td>\n",
       "      <td>69.99</td>\n",
       "      <td>2</td>\n",
       "      <td>m</td>\n",
       "      <td>2000</td>\n",
       "    </tr>\n",
       "    <tr>\n",
       "      <th>4</th>\n",
       "      <td>0_1509</td>\n",
       "      <td>2023-01-11 08:22:08.194479</td>\n",
       "      <td>s_325227</td>\n",
       "      <td>c_4232</td>\n",
       "      <td>11</td>\n",
       "      <td>1</td>\n",
       "      <td>2023</td>\n",
       "      <td>4.99</td>\n",
       "      <td>0</td>\n",
       "      <td>m</td>\n",
       "      <td>1980</td>\n",
       "    </tr>\n",
       "    <tr>\n",
       "      <th>...</th>\n",
       "      <td>...</td>\n",
       "      <td>...</td>\n",
       "      <td>...</td>\n",
       "      <td>...</td>\n",
       "      <td>...</td>\n",
       "      <td>...</td>\n",
       "      <td>...</td>\n",
       "      <td>...</td>\n",
       "      <td>...</td>\n",
       "      <td>...</td>\n",
       "      <td>...</td>\n",
       "    </tr>\n",
       "    <tr>\n",
       "      <th>679327</th>\n",
       "      <td>0_1551</td>\n",
       "      <td>2022-01-15 13:05:06.246925</td>\n",
       "      <td>s_150195</td>\n",
       "      <td>c_8489</td>\n",
       "      <td>15</td>\n",
       "      <td>1</td>\n",
       "      <td>2022</td>\n",
       "      <td>12.99</td>\n",
       "      <td>0</td>\n",
       "      <td>f</td>\n",
       "      <td>1951</td>\n",
       "    </tr>\n",
       "    <tr>\n",
       "      <th>679328</th>\n",
       "      <td>1_639</td>\n",
       "      <td>2022-03-19 16:03:23.429229</td>\n",
       "      <td>s_181434</td>\n",
       "      <td>c_4370</td>\n",
       "      <td>19</td>\n",
       "      <td>3</td>\n",
       "      <td>2022</td>\n",
       "      <td>10.99</td>\n",
       "      <td>1</td>\n",
       "      <td>f</td>\n",
       "      <td>1977</td>\n",
       "    </tr>\n",
       "    <tr>\n",
       "      <th>679329</th>\n",
       "      <td>0_1425</td>\n",
       "      <td>2022-12-20 04:33:37.584749</td>\n",
       "      <td>s_314704</td>\n",
       "      <td>c_304</td>\n",
       "      <td>20</td>\n",
       "      <td>12</td>\n",
       "      <td>2022</td>\n",
       "      <td>12.99</td>\n",
       "      <td>0</td>\n",
       "      <td>f</td>\n",
       "      <td>1988</td>\n",
       "    </tr>\n",
       "    <tr>\n",
       "      <th>679330</th>\n",
       "      <td>0_1994</td>\n",
       "      <td>2021-07-16 20:36:35.350579</td>\n",
       "      <td>s_63204</td>\n",
       "      <td>c_2227</td>\n",
       "      <td>16</td>\n",
       "      <td>7</td>\n",
       "      <td>2021</td>\n",
       "      <td>4.98</td>\n",
       "      <td>0</td>\n",
       "      <td>m</td>\n",
       "      <td>1986</td>\n",
       "    </tr>\n",
       "    <tr>\n",
       "      <th>679331</th>\n",
       "      <td>1_523</td>\n",
       "      <td>2022-09-28 01:12:01.973763</td>\n",
       "      <td>s_274568</td>\n",
       "      <td>c_3873</td>\n",
       "      <td>28</td>\n",
       "      <td>9</td>\n",
       "      <td>2022</td>\n",
       "      <td>23.99</td>\n",
       "      <td>1</td>\n",
       "      <td>m</td>\n",
       "      <td>1995</td>\n",
       "    </tr>\n",
       "  </tbody>\n",
       "</table>\n",
       "<p>679332 rows × 11 columns</p>\n",
       "</div>"
      ],
      "text/plain": [
       "       id_prod                       date session_id client_id  date_jour  \\\n",
       "0       0_1518 2022-05-20 13:21:29.043970   s_211425     c_103         20   \n",
       "1        1_251 2022-02-02 07:55:19.149409   s_158752    c_8534          2   \n",
       "2       0_1277 2022-06-18 15:44:33.155329   s_225667    c_6714         18   \n",
       "3        2_209 2021-06-24 04:19:29.835891    s_52962    c_6941         24   \n",
       "4       0_1509 2023-01-11 08:22:08.194479   s_325227    c_4232         11   \n",
       "...        ...                        ...        ...       ...        ...   \n",
       "679327  0_1551 2022-01-15 13:05:06.246925   s_150195    c_8489         15   \n",
       "679328   1_639 2022-03-19 16:03:23.429229   s_181434    c_4370         19   \n",
       "679329  0_1425 2022-12-20 04:33:37.584749   s_314704     c_304         20   \n",
       "679330  0_1994 2021-07-16 20:36:35.350579    s_63204    c_2227         16   \n",
       "679331   1_523 2022-09-28 01:12:01.973763   s_274568    c_3873         28   \n",
       "\n",
       "        date_mois  date_annee  price  categ sex  birth  \n",
       "0               5        2022   4.18      0   f   1986  \n",
       "1               2        2022  15.99      1   m   1988  \n",
       "2               6        2022   7.99      0   f   1968  \n",
       "3               6        2021  69.99      2   m   2000  \n",
       "4               1        2023   4.99      0   m   1980  \n",
       "...           ...         ...    ...    ...  ..    ...  \n",
       "679327          1        2022  12.99      0   f   1951  \n",
       "679328          3        2022  10.99      1   f   1977  \n",
       "679329         12        2022  12.99      0   f   1988  \n",
       "679330          7        2021   4.98      0   m   1986  \n",
       "679331          9        2022  23.99      1   m   1995  \n",
       "\n",
       "[679332 rows x 11 columns]"
      ]
     },
     "execution_count": 29,
     "metadata": {},
     "output_type": "execute_result"
    }
   ],
   "source": [
    "df_final"
   ]
  },
  {
   "cell_type": "code",
   "execution_count": 30,
   "id": "e1835601",
   "metadata": {},
   "outputs": [
    {
     "name": "stderr",
     "output_type": "stream",
     "text": [
      "C:\\Users\\camille.amiel\\AppData\\Local\\Temp\\ipykernel_7956\\2731385238.py:9: SettingWithCopyWarning: \n",
      "A value is trying to be set on a copy of a slice from a DataFrame\n",
      "\n",
      "See the caveats in the documentation: https://pandas.pydata.org/pandas-docs/stable/user_guide/indexing.html#returning-a-view-versus-a-copy\n",
      "  df_final['classe_age'].loc[df_final[df_final['age']>=30].index] = '30-40'\n",
      "C:\\Users\\camille.amiel\\AppData\\Local\\Temp\\ipykernel_7956\\2731385238.py:10: SettingWithCopyWarning: \n",
      "A value is trying to be set on a copy of a slice from a DataFrame\n",
      "\n",
      "See the caveats in the documentation: https://pandas.pydata.org/pandas-docs/stable/user_guide/indexing.html#returning-a-view-versus-a-copy\n",
      "  df_final['classe_age'].loc[df_final[df_final['age']>=40].index] = '40-50'\n",
      "C:\\Users\\camille.amiel\\AppData\\Local\\Temp\\ipykernel_7956\\2731385238.py:11: SettingWithCopyWarning: \n",
      "A value is trying to be set on a copy of a slice from a DataFrame\n",
      "\n",
      "See the caveats in the documentation: https://pandas.pydata.org/pandas-docs/stable/user_guide/indexing.html#returning-a-view-versus-a-copy\n",
      "  df_final['classe_age'].loc[df_final[df_final['age']>=50].index] = '50-60'\n",
      "C:\\Users\\camille.amiel\\AppData\\Local\\Temp\\ipykernel_7956\\2731385238.py:12: SettingWithCopyWarning: \n",
      "A value is trying to be set on a copy of a slice from a DataFrame\n",
      "\n",
      "See the caveats in the documentation: https://pandas.pydata.org/pandas-docs/stable/user_guide/indexing.html#returning-a-view-versus-a-copy\n",
      "  df_final['classe_age'].loc[df_final[df_final['age']>=60].index] = '60-70'\n",
      "C:\\Users\\camille.amiel\\AppData\\Local\\Temp\\ipykernel_7956\\2731385238.py:13: SettingWithCopyWarning: \n",
      "A value is trying to be set on a copy of a slice from a DataFrame\n",
      "\n",
      "See the caveats in the documentation: https://pandas.pydata.org/pandas-docs/stable/user_guide/indexing.html#returning-a-view-versus-a-copy\n",
      "  df_final['classe_age'].loc[df_final[df_final['age']>=70].index] = '70-80'\n",
      "C:\\Users\\camille.amiel\\AppData\\Local\\Temp\\ipykernel_7956\\2731385238.py:14: SettingWithCopyWarning: \n",
      "A value is trying to be set on a copy of a slice from a DataFrame\n",
      "\n",
      "See the caveats in the documentation: https://pandas.pydata.org/pandas-docs/stable/user_guide/indexing.html#returning-a-view-versus-a-copy\n",
      "  df_final['classe_age'].loc[df_final[df_final['age']>=80].index] = '80 et +'\n"
     ]
    },
    {
     "data": {
      "text/html": [
       "<div>\n",
       "<style scoped>\n",
       "    .dataframe tbody tr th:only-of-type {\n",
       "        vertical-align: middle;\n",
       "    }\n",
       "\n",
       "    .dataframe tbody tr th {\n",
       "        vertical-align: top;\n",
       "    }\n",
       "\n",
       "    .dataframe thead th {\n",
       "        text-align: right;\n",
       "    }\n",
       "</style>\n",
       "<table border=\"1\" class=\"dataframe\">\n",
       "  <thead>\n",
       "    <tr style=\"text-align: right;\">\n",
       "      <th></th>\n",
       "      <th>id_prod</th>\n",
       "      <th>date</th>\n",
       "      <th>session_id</th>\n",
       "      <th>client_id</th>\n",
       "      <th>date_jour</th>\n",
       "      <th>date_mois</th>\n",
       "      <th>date_annee</th>\n",
       "      <th>price</th>\n",
       "      <th>categ</th>\n",
       "      <th>sex</th>\n",
       "      <th>birth</th>\n",
       "      <th>age</th>\n",
       "      <th>classe_age</th>\n",
       "      <th>total_ventes</th>\n",
       "      <th>ventes_mensuelles</th>\n",
       "      <th>taille_panier_moyen</th>\n",
       "      <th>panier_moyen</th>\n",
       "      <th>total_achats</th>\n",
       "    </tr>\n",
       "  </thead>\n",
       "  <tbody>\n",
       "    <tr>\n",
       "      <th>106185</th>\n",
       "      <td>1_286</td>\n",
       "      <td>2021-12-06 08:37:51.368328</td>\n",
       "      <td>s_130197</td>\n",
       "      <td>c_7111</td>\n",
       "      <td>6</td>\n",
       "      <td>12</td>\n",
       "      <td>2021</td>\n",
       "      <td>29.44</td>\n",
       "      <td>1</td>\n",
       "      <td>m</td>\n",
       "      <td>1968</td>\n",
       "      <td>54</td>\n",
       "      <td>50-60</td>\n",
       "      <td>97</td>\n",
       "      <td>9.0</td>\n",
       "      <td>1.732143</td>\n",
       "      <td>18.299582</td>\n",
       "      <td>1814.230000</td>\n",
       "    </tr>\n",
       "    <tr>\n",
       "      <th>486681</th>\n",
       "      <td>0_1734</td>\n",
       "      <td>2021-11-05 14:41:21.766112</td>\n",
       "      <td>s_115151</td>\n",
       "      <td>c_580</td>\n",
       "      <td>5</td>\n",
       "      <td>11</td>\n",
       "      <td>2021</td>\n",
       "      <td>15.33</td>\n",
       "      <td>0</td>\n",
       "      <td>m</td>\n",
       "      <td>1988</td>\n",
       "      <td>34</td>\n",
       "      <td>30-40</td>\n",
       "      <td>340</td>\n",
       "      <td>31.0</td>\n",
       "      <td>2.931034</td>\n",
       "      <td>12.810337</td>\n",
       "      <td>4323.262752</td>\n",
       "    </tr>\n",
       "    <tr>\n",
       "      <th>147246</th>\n",
       "      <td>0_1798</td>\n",
       "      <td>2021-10-13 07:41:42.536968</td>\n",
       "      <td>s_104071</td>\n",
       "      <td>c_3135</td>\n",
       "      <td>13</td>\n",
       "      <td>10</td>\n",
       "      <td>2021</td>\n",
       "      <td>17.34</td>\n",
       "      <td>0</td>\n",
       "      <td>f</td>\n",
       "      <td>1983</td>\n",
       "      <td>39</td>\n",
       "      <td>30-40</td>\n",
       "      <td>142</td>\n",
       "      <td>13.0</td>\n",
       "      <td>2.897959</td>\n",
       "      <td>13.837685</td>\n",
       "      <td>1975.940000</td>\n",
       "    </tr>\n",
       "  </tbody>\n",
       "</table>\n",
       "</div>"
      ],
      "text/plain": [
       "       id_prod                       date session_id client_id  date_jour  \\\n",
       "106185   1_286 2021-12-06 08:37:51.368328   s_130197    c_7111          6   \n",
       "486681  0_1734 2021-11-05 14:41:21.766112   s_115151     c_580          5   \n",
       "147246  0_1798 2021-10-13 07:41:42.536968   s_104071    c_3135         13   \n",
       "\n",
       "        date_mois  date_annee  price  categ sex  birth  age classe_age  \\\n",
       "106185         12        2021  29.44      1   m   1968   54      50-60   \n",
       "486681         11        2021  15.33      0   m   1988   34      30-40   \n",
       "147246         10        2021  17.34      0   f   1983   39      30-40   \n",
       "\n",
       "        total_ventes  ventes_mensuelles  taille_panier_moyen  panier_moyen  \\\n",
       "106185            97                9.0             1.732143     18.299582   \n",
       "486681           340               31.0             2.931034     12.810337   \n",
       "147246           142               13.0             2.897959     13.837685   \n",
       "\n",
       "        total_achats  \n",
       "106185   1814.230000  \n",
       "486681   4323.262752  \n",
       "147246   1975.940000  "
      ]
     },
     "execution_count": 30,
     "metadata": {},
     "output_type": "execute_result"
    }
   ],
   "source": [
    "#ajout de variables pour notre analyse: \n",
    "\n",
    "# âge\n",
    "df_final['age'] = 2022 - df_final['birth'] # Âge du client\n",
    "df_final.sample()\n",
    "\n",
    "# Tranches d'âge\n",
    "df_final['classe_age'] = '18-30'\n",
    "df_final['classe_age'].loc[df_final[df_final['age']>=30].index] = '30-40'\n",
    "df_final['classe_age'].loc[df_final[df_final['age']>=40].index] = '40-50'\n",
    "df_final['classe_age'].loc[df_final[df_final['age']>=50].index] = '50-60'\n",
    "df_final['classe_age'].loc[df_final[df_final['age']>=60].index] = '60-70'\n",
    "df_final['classe_age'].loc[df_final[df_final['age']>=70].index] = '70-80'\n",
    "df_final['classe_age'].loc[df_final[df_final['age']>=80].index] = '80 et +'\n",
    "df_final.sample()\n",
    "\n",
    "df_final['date_fixe'] = df_final['date'].dt.date # Variable temporaire de date fixe (jour)\n",
    "\n",
    "# Total ventes\n",
    "df_final = df_final.merge(\n",
    "    df_final.groupby('client_id').count()['date'].reset_index().rename(columns={'date': 'total_ventes'}),\n",
    "    how='left', on='client_id')\n",
    "\n",
    "# Ventes mensuelles\n",
    "df_final['ventes_mensuelles'] = round(df_final['total_ventes'] / 11)\n",
    "df_final.sample()\n",
    "\n",
    "# Taille du panier moyen\n",
    "df_final = df_final.merge(\n",
    "    df_final.pivot_table(\n",
    "        index=['client_id', 'date_fixe'], \n",
    "        values='price', \n",
    "        aggfunc='count').reset_index().pivot_table(\n",
    "        index='client_id').reset_index().rename(\n",
    "        columns={'price': 'taille_panier_moyen'}), \n",
    "    on='client_id', how='left')\n",
    "\n",
    "# Prix du panier moyen\n",
    "df_final = df_final.merge(\n",
    "    df_final.pivot_table(\n",
    "        index=['client_id', 'date_fixe'], \n",
    "        values='price').reset_index().pivot_table(\n",
    "        index='client_id').reset_index().rename(\n",
    "        columns={'price': 'panier_moyen'}), \n",
    "    on='client_id', how='left').drop('date_fixe', axis=1)\n",
    "\n",
    "\n",
    "df_final = df_final.merge(\n",
    "    df_final.pivot_table(\n",
    "    index='client_id', values='price', \n",
    "    aggfunc='sum').reset_index().rename(\n",
    "    columns={'price': 'total_achats'}),\n",
    "    on='client_id', how='left')\n",
    "df_final.sample(3)"
   ]
  },
  {
   "cell_type": "markdown",
   "id": "acbab90f",
   "metadata": {},
   "source": [
    "<font size='5'><font color='darkgreen'><b>2ème Partie : Analyse du chiffre d'affaires</b>"
   ]
  },
  {
   "cell_type": "code",
   "execution_count": 31,
   "id": "7fda2d74",
   "metadata": {},
   "outputs": [
    {
     "data": {
      "text/html": [
       "<div>\n",
       "<style scoped>\n",
       "    .dataframe tbody tr th:only-of-type {\n",
       "        vertical-align: middle;\n",
       "    }\n",
       "\n",
       "    .dataframe tbody tr th {\n",
       "        vertical-align: top;\n",
       "    }\n",
       "\n",
       "    .dataframe thead th {\n",
       "        text-align: right;\n",
       "    }\n",
       "</style>\n",
       "<table border=\"1\" class=\"dataframe\">\n",
       "  <thead>\n",
       "    <tr style=\"text-align: right;\">\n",
       "      <th></th>\n",
       "      <th>client_id</th>\n",
       "      <th>panier_moyen</th>\n",
       "      <th>taille_panier_moyen</th>\n",
       "      <th>total_achats</th>\n",
       "      <th>total_ventes</th>\n",
       "      <th>ventes_mensuelles</th>\n",
       "    </tr>\n",
       "  </thead>\n",
       "  <tbody>\n",
       "    <tr>\n",
       "      <th>0</th>\n",
       "      <td>c_1609</td>\n",
       "      <td>12.698451</td>\n",
       "      <td>34.915068</td>\n",
       "      <td>324033.350000</td>\n",
       "      <td>25488</td>\n",
       "      <td>2317.0</td>\n",
       "    </tr>\n",
       "    <tr>\n",
       "      <th>1</th>\n",
       "      <td>c_4958</td>\n",
       "      <td>56.004691</td>\n",
       "      <td>7.165517</td>\n",
       "      <td>289760.340000</td>\n",
       "      <td>5195</td>\n",
       "      <td>472.0</td>\n",
       "    </tr>\n",
       "    <tr>\n",
       "      <th>2</th>\n",
       "      <td>c_6714</td>\n",
       "      <td>16.684393</td>\n",
       "      <td>13.031206</td>\n",
       "      <td>153662.749128</td>\n",
       "      <td>9187</td>\n",
       "      <td>835.0</td>\n",
       "    </tr>\n",
       "    <tr>\n",
       "      <th>3</th>\n",
       "      <td>c_3454</td>\n",
       "      <td>16.493235</td>\n",
       "      <td>9.278082</td>\n",
       "      <td>113669.844564</td>\n",
       "      <td>6773</td>\n",
       "      <td>616.0</td>\n",
       "    </tr>\n",
       "    <tr>\n",
       "      <th>4</th>\n",
       "      <td>c_3263</td>\n",
       "      <td>13.226564</td>\n",
       "      <td>2.985185</td>\n",
       "      <td>5276.870000</td>\n",
       "      <td>403</td>\n",
       "      <td>37.0</td>\n",
       "    </tr>\n",
       "    <tr>\n",
       "      <th>5</th>\n",
       "      <td>c_1570</td>\n",
       "      <td>14.795369</td>\n",
       "      <td>2.654676</td>\n",
       "      <td>5271.620000</td>\n",
       "      <td>369</td>\n",
       "      <td>34.0</td>\n",
       "    </tr>\n",
       "    <tr>\n",
       "      <th>6</th>\n",
       "      <td>c_2899</td>\n",
       "      <td>55.754703</td>\n",
       "      <td>1.640625</td>\n",
       "      <td>5214.050000</td>\n",
       "      <td>105</td>\n",
       "      <td>10.0</td>\n",
       "    </tr>\n",
       "    <tr>\n",
       "      <th>7</th>\n",
       "      <td>c_2140</td>\n",
       "      <td>12.595187</td>\n",
       "      <td>3.190476</td>\n",
       "      <td>5208.820000</td>\n",
       "      <td>402</td>\n",
       "      <td>37.0</td>\n",
       "    </tr>\n",
       "    <tr>\n",
       "      <th>8</th>\n",
       "      <td>c_7319</td>\n",
       "      <td>13.434349</td>\n",
       "      <td>2.708029</td>\n",
       "      <td>5155.770000</td>\n",
       "      <td>371</td>\n",
       "      <td>34.0</td>\n",
       "    </tr>\n",
       "    <tr>\n",
       "      <th>9</th>\n",
       "      <td>c_8026</td>\n",
       "      <td>13.678026</td>\n",
       "      <td>2.772059</td>\n",
       "      <td>5093.218188</td>\n",
       "      <td>377</td>\n",
       "      <td>34.0</td>\n",
       "    </tr>\n",
       "  </tbody>\n",
       "</table>\n",
       "</div>"
      ],
      "text/plain": [
       "  client_id  panier_moyen  taille_panier_moyen   total_achats  total_ventes  \\\n",
       "0    c_1609     12.698451            34.915068  324033.350000         25488   \n",
       "1    c_4958     56.004691             7.165517  289760.340000          5195   \n",
       "2    c_6714     16.684393            13.031206  153662.749128          9187   \n",
       "3    c_3454     16.493235             9.278082  113669.844564          6773   \n",
       "4    c_3263     13.226564             2.985185    5276.870000           403   \n",
       "5    c_1570     14.795369             2.654676    5271.620000           369   \n",
       "6    c_2899     55.754703             1.640625    5214.050000           105   \n",
       "7    c_2140     12.595187             3.190476    5208.820000           402   \n",
       "8    c_7319     13.434349             2.708029    5155.770000           371   \n",
       "9    c_8026     13.678026             2.772059    5093.218188           377   \n",
       "\n",
       "   ventes_mensuelles  \n",
       "0             2317.0  \n",
       "1              472.0  \n",
       "2              835.0  \n",
       "3              616.0  \n",
       "4               37.0  \n",
       "5               34.0  \n",
       "6               10.0  \n",
       "7               37.0  \n",
       "8               34.0  \n",
       "9               34.0  "
      ]
     },
     "execution_count": 31,
     "metadata": {},
     "output_type": "execute_result"
    }
   ],
   "source": [
    "ca_annuel = df_final.pivot_table(index='client_id', values=['total_achats','ventes_mensuelles','taille_panier_moyen','total_ventes','panier_moyen']).sort_values(by='total_achats', ascending=False).reset_index()\n",
    "\n",
    "ca_annuel.head(10)"
   ]
  },
  {
   "cell_type": "code",
   "execution_count": 32,
   "id": "d61f2051",
   "metadata": {},
   "outputs": [
    {
     "data": {
      "text/html": [
       "<div>\n",
       "<style scoped>\n",
       "    .dataframe tbody tr th:only-of-type {\n",
       "        vertical-align: middle;\n",
       "    }\n",
       "\n",
       "    .dataframe tbody tr th {\n",
       "        vertical-align: top;\n",
       "    }\n",
       "\n",
       "    .dataframe thead th {\n",
       "        text-align: right;\n",
       "    }\n",
       "</style>\n",
       "<table border=\"1\" class=\"dataframe\">\n",
       "  <thead>\n",
       "    <tr style=\"text-align: right;\">\n",
       "      <th></th>\n",
       "      <th>date_annee</th>\n",
       "      <th>date_mois</th>\n",
       "      <th>count</th>\n",
       "    </tr>\n",
       "  </thead>\n",
       "  <tbody>\n",
       "    <tr>\n",
       "      <th>0</th>\n",
       "      <td>2021</td>\n",
       "      <td>10</td>\n",
       "      <td>21606</td>\n",
       "    </tr>\n",
       "    <tr>\n",
       "      <th>1</th>\n",
       "      <td>2021</td>\n",
       "      <td>7</td>\n",
       "      <td>24742</td>\n",
       "    </tr>\n",
       "    <tr>\n",
       "      <th>2</th>\n",
       "      <td>2021</td>\n",
       "      <td>8</td>\n",
       "      <td>25659</td>\n",
       "    </tr>\n",
       "    <tr>\n",
       "      <th>3</th>\n",
       "      <td>2021</td>\n",
       "      <td>6</td>\n",
       "      <td>26857</td>\n",
       "    </tr>\n",
       "    <tr>\n",
       "      <th>4</th>\n",
       "      <td>2021</td>\n",
       "      <td>5</td>\n",
       "      <td>28293</td>\n",
       "    </tr>\n",
       "    <tr>\n",
       "      <th>5</th>\n",
       "      <td>2021</td>\n",
       "      <td>11</td>\n",
       "      <td>28321</td>\n",
       "    </tr>\n",
       "    <tr>\n",
       "      <th>6</th>\n",
       "      <td>2021</td>\n",
       "      <td>4</td>\n",
       "      <td>28457</td>\n",
       "    </tr>\n",
       "    <tr>\n",
       "      <th>7</th>\n",
       "      <td>2021</td>\n",
       "      <td>3</td>\n",
       "      <td>28610</td>\n",
       "    </tr>\n",
       "    <tr>\n",
       "      <th>8</th>\n",
       "      <td>2021</td>\n",
       "      <td>12</td>\n",
       "      <td>32464</td>\n",
       "    </tr>\n",
       "    <tr>\n",
       "      <th>9</th>\n",
       "      <td>2021</td>\n",
       "      <td>9</td>\n",
       "      <td>33326</td>\n",
       "    </tr>\n",
       "    <tr>\n",
       "      <th>10</th>\n",
       "      <td>2022</td>\n",
       "      <td>4</td>\n",
       "      <td>27616</td>\n",
       "    </tr>\n",
       "    <tr>\n",
       "      <th>11</th>\n",
       "      <td>2022</td>\n",
       "      <td>9</td>\n",
       "      <td>28315</td>\n",
       "    </tr>\n",
       "    <tr>\n",
       "      <th>12</th>\n",
       "      <td>2022</td>\n",
       "      <td>6</td>\n",
       "      <td>28511</td>\n",
       "    </tr>\n",
       "    <tr>\n",
       "      <th>13</th>\n",
       "      <td>2022</td>\n",
       "      <td>8</td>\n",
       "      <td>28552</td>\n",
       "    </tr>\n",
       "    <tr>\n",
       "      <th>14</th>\n",
       "      <td>2022</td>\n",
       "      <td>11</td>\n",
       "      <td>28574</td>\n",
       "    </tr>\n",
       "    <tr>\n",
       "      <th>15</th>\n",
       "      <td>2022</td>\n",
       "      <td>12</td>\n",
       "      <td>28625</td>\n",
       "    </tr>\n",
       "    <tr>\n",
       "      <th>16</th>\n",
       "      <td>2022</td>\n",
       "      <td>7</td>\n",
       "      <td>28682</td>\n",
       "    </tr>\n",
       "    <tr>\n",
       "      <th>17</th>\n",
       "      <td>2022</td>\n",
       "      <td>10</td>\n",
       "      <td>28974</td>\n",
       "    </tr>\n",
       "    <tr>\n",
       "      <th>18</th>\n",
       "      <td>2022</td>\n",
       "      <td>1</td>\n",
       "      <td>29348</td>\n",
       "    </tr>\n",
       "    <tr>\n",
       "      <th>19</th>\n",
       "      <td>2022</td>\n",
       "      <td>2</td>\n",
       "      <td>29605</td>\n",
       "    </tr>\n",
       "    <tr>\n",
       "      <th>20</th>\n",
       "      <td>2022</td>\n",
       "      <td>3</td>\n",
       "      <td>29707</td>\n",
       "    </tr>\n",
       "    <tr>\n",
       "      <th>21</th>\n",
       "      <td>2022</td>\n",
       "      <td>5</td>\n",
       "      <td>29991</td>\n",
       "    </tr>\n",
       "    <tr>\n",
       "      <th>22</th>\n",
       "      <td>2023</td>\n",
       "      <td>2</td>\n",
       "      <td>25552</td>\n",
       "    </tr>\n",
       "    <tr>\n",
       "      <th>23</th>\n",
       "      <td>2023</td>\n",
       "      <td>1</td>\n",
       "      <td>28945</td>\n",
       "    </tr>\n",
       "  </tbody>\n",
       "</table>\n",
       "</div>"
      ],
      "text/plain": [
       "    date_annee  date_mois  count\n",
       "0         2021         10  21606\n",
       "1         2021          7  24742\n",
       "2         2021          8  25659\n",
       "3         2021          6  26857\n",
       "4         2021          5  28293\n",
       "5         2021         11  28321\n",
       "6         2021          4  28457\n",
       "7         2021          3  28610\n",
       "8         2021         12  32464\n",
       "9         2021          9  33326\n",
       "10        2022          4  27616\n",
       "11        2022          9  28315\n",
       "12        2022          6  28511\n",
       "13        2022          8  28552\n",
       "14        2022         11  28574\n",
       "15        2022         12  28625\n",
       "16        2022          7  28682\n",
       "17        2022         10  28974\n",
       "18        2022          1  29348\n",
       "19        2022          2  29605\n",
       "20        2022          3  29707\n",
       "21        2022          5  29991\n",
       "22        2023          2  25552\n",
       "23        2023          1  28945"
      ]
     },
     "execution_count": 32,
     "metadata": {},
     "output_type": "execute_result"
    }
   ],
   "source": [
    "#  Nombre de commandes par année et par mois\n",
    "df_commandes_mois=df_final.groupby('date_annee')['date_mois'].value_counts(ascending=True).reset_index(name='count')\n",
    "\n",
    "df_commandes_mois"
   ]
  },
  {
   "cell_type": "code",
   "execution_count": 33,
   "id": "9903c296",
   "metadata": {},
   "outputs": [
    {
     "data": {
      "text/html": [
       "<div>\n",
       "<style scoped>\n",
       "    .dataframe tbody tr th:only-of-type {\n",
       "        vertical-align: middle;\n",
       "    }\n",
       "\n",
       "    .dataframe tbody tr th {\n",
       "        vertical-align: top;\n",
       "    }\n",
       "\n",
       "    .dataframe thead th {\n",
       "        text-align: right;\n",
       "    }\n",
       "</style>\n",
       "<table border=\"1\" class=\"dataframe\">\n",
       "  <thead>\n",
       "    <tr style=\"text-align: right;\">\n",
       "      <th></th>\n",
       "      <th>id_prod</th>\n",
       "      <th>price</th>\n",
       "    </tr>\n",
       "  </thead>\n",
       "  <tbody>\n",
       "    <tr>\n",
       "      <th>0</th>\n",
       "      <td>2_159</td>\n",
       "      <td>94893.50</td>\n",
       "    </tr>\n",
       "    <tr>\n",
       "      <th>1</th>\n",
       "      <td>2_135</td>\n",
       "      <td>69334.95</td>\n",
       "    </tr>\n",
       "    <tr>\n",
       "      <th>2</th>\n",
       "      <td>2_112</td>\n",
       "      <td>65407.76</td>\n",
       "    </tr>\n",
       "    <tr>\n",
       "      <th>3</th>\n",
       "      <td>2_102</td>\n",
       "      <td>60736.78</td>\n",
       "    </tr>\n",
       "    <tr>\n",
       "      <th>4</th>\n",
       "      <td>2_209</td>\n",
       "      <td>56971.86</td>\n",
       "    </tr>\n",
       "    <tr>\n",
       "      <th>...</th>\n",
       "      <td>...</td>\n",
       "      <td>...</td>\n",
       "    </tr>\n",
       "    <tr>\n",
       "      <th>3261</th>\n",
       "      <td>0_1601</td>\n",
       "      <td>1.99</td>\n",
       "    </tr>\n",
       "    <tr>\n",
       "      <th>3262</th>\n",
       "      <td>0_807</td>\n",
       "      <td>1.99</td>\n",
       "    </tr>\n",
       "    <tr>\n",
       "      <th>3263</th>\n",
       "      <td>0_1653</td>\n",
       "      <td>1.98</td>\n",
       "    </tr>\n",
       "    <tr>\n",
       "      <th>3264</th>\n",
       "      <td>0_1284</td>\n",
       "      <td>1.38</td>\n",
       "    </tr>\n",
       "    <tr>\n",
       "      <th>3265</th>\n",
       "      <td>0_1539</td>\n",
       "      <td>0.99</td>\n",
       "    </tr>\n",
       "  </tbody>\n",
       "</table>\n",
       "<p>3266 rows × 2 columns</p>\n",
       "</div>"
      ],
      "text/plain": [
       "     id_prod     price\n",
       "0      2_159  94893.50\n",
       "1      2_135  69334.95\n",
       "2      2_112  65407.76\n",
       "3      2_102  60736.78\n",
       "4      2_209  56971.86\n",
       "...      ...       ...\n",
       "3261  0_1601      1.99\n",
       "3262   0_807      1.99\n",
       "3263  0_1653      1.98\n",
       "3264  0_1284      1.38\n",
       "3265  0_1539      0.99\n",
       "\n",
       "[3266 rows x 2 columns]"
      ]
     },
     "execution_count": 33,
     "metadata": {},
     "output_type": "execute_result"
    }
   ],
   "source": [
    "# CA par livre\n",
    "chiffre_affaire = df_final.groupby('id_prod')['price'].sum().sort_values(ascending=False).reset_index()\n",
    "chiffre_affaire"
   ]
  },
  {
   "cell_type": "code",
   "execution_count": 34,
   "id": "c9ba2f94",
   "metadata": {},
   "outputs": [
    {
     "name": "stderr",
     "output_type": "stream",
     "text": [
      "C:\\Users\\camille.amiel\\AppData\\Local\\Temp\\ipykernel_7956\\4283214883.py:5: PerformanceWarning: dropping on a non-lexsorted multi-index without a level parameter may impact performance.\n",
      "  df_ca_mensuel.drop(['session_id', 'price'], axis='columns', inplace=True)\n"
     ]
    },
    {
     "data": {
      "text/html": [
       "<div>\n",
       "<style scoped>\n",
       "    .dataframe tbody tr th:only-of-type {\n",
       "        vertical-align: middle;\n",
       "    }\n",
       "\n",
       "    .dataframe tbody tr th {\n",
       "        vertical-align: top;\n",
       "    }\n",
       "\n",
       "    .dataframe thead tr th {\n",
       "        text-align: left;\n",
       "    }\n",
       "</style>\n",
       "<table border=\"1\" class=\"dataframe\">\n",
       "  <thead>\n",
       "    <tr>\n",
       "      <th></th>\n",
       "      <th>date_annee</th>\n",
       "      <th>date_mois</th>\n",
       "      <th>ca_mois</th>\n",
       "      <th>cmdes_mois</th>\n",
       "    </tr>\n",
       "    <tr>\n",
       "      <th></th>\n",
       "      <th></th>\n",
       "      <th></th>\n",
       "      <th></th>\n",
       "      <th></th>\n",
       "    </tr>\n",
       "  </thead>\n",
       "  <tbody>\n",
       "    <tr>\n",
       "      <th>0</th>\n",
       "      <td>2021</td>\n",
       "      <td>3</td>\n",
       "      <td>482536.353692</td>\n",
       "      <td>14203</td>\n",
       "    </tr>\n",
       "    <tr>\n",
       "      <th>1</th>\n",
       "      <td>2021</td>\n",
       "      <td>4</td>\n",
       "      <td>476258.234633</td>\n",
       "      <td>13972</td>\n",
       "    </tr>\n",
       "    <tr>\n",
       "      <th>2</th>\n",
       "      <td>2021</td>\n",
       "      <td>5</td>\n",
       "      <td>493028.575504</td>\n",
       "      <td>14169</td>\n",
       "    </tr>\n",
       "    <tr>\n",
       "      <th>3</th>\n",
       "      <td>2021</td>\n",
       "      <td>6</td>\n",
       "      <td>484163.027316</td>\n",
       "      <td>13839</td>\n",
       "    </tr>\n",
       "    <tr>\n",
       "      <th>4</th>\n",
       "      <td>2021</td>\n",
       "      <td>7</td>\n",
       "      <td>482877.952752</td>\n",
       "      <td>13573</td>\n",
       "    </tr>\n",
       "    <tr>\n",
       "      <th>5</th>\n",
       "      <td>2021</td>\n",
       "      <td>8</td>\n",
       "      <td>482380.533692</td>\n",
       "      <td>13593</td>\n",
       "    </tr>\n",
       "    <tr>\n",
       "      <th>6</th>\n",
       "      <td>2021</td>\n",
       "      <td>9</td>\n",
       "      <td>507368.338257</td>\n",
       "      <td>14850</td>\n",
       "    </tr>\n",
       "    <tr>\n",
       "      <th>7</th>\n",
       "      <td>2021</td>\n",
       "      <td>10</td>\n",
       "      <td>320873.207316</td>\n",
       "      <td>11553</td>\n",
       "    </tr>\n",
       "    <tr>\n",
       "      <th>8</th>\n",
       "      <td>2021</td>\n",
       "      <td>11</td>\n",
       "      <td>516274.111881</td>\n",
       "      <td>14608</td>\n",
       "    </tr>\n",
       "    <tr>\n",
       "      <th>9</th>\n",
       "      <td>2021</td>\n",
       "      <td>12</td>\n",
       "      <td>525991.747316</td>\n",
       "      <td>15567</td>\n",
       "    </tr>\n",
       "    <tr>\n",
       "      <th>10</th>\n",
       "      <td>2022</td>\n",
       "      <td>1</td>\n",
       "      <td>525392.180940</td>\n",
       "      <td>14979</td>\n",
       "    </tr>\n",
       "    <tr>\n",
       "      <th>11</th>\n",
       "      <td>2022</td>\n",
       "      <td>2</td>\n",
       "      <td>535688.520069</td>\n",
       "      <td>14339</td>\n",
       "    </tr>\n",
       "    <tr>\n",
       "      <th>12</th>\n",
       "      <td>2022</td>\n",
       "      <td>3</td>\n",
       "      <td>515573.550069</td>\n",
       "      <td>14827</td>\n",
       "    </tr>\n",
       "    <tr>\n",
       "      <th>13</th>\n",
       "      <td>2022</td>\n",
       "      <td>4</td>\n",
       "      <td>493147.874633</td>\n",
       "      <td>14086</td>\n",
       "    </tr>\n",
       "    <tr>\n",
       "      <th>14</th>\n",
       "      <td>2022</td>\n",
       "      <td>5</td>\n",
       "      <td>517302.811009</td>\n",
       "      <td>14960</td>\n",
       "    </tr>\n",
       "    <tr>\n",
       "      <th>15</th>\n",
       "      <td>2022</td>\n",
       "      <td>6</td>\n",
       "      <td>496090.587316</td>\n",
       "      <td>14391</td>\n",
       "    </tr>\n",
       "    <tr>\n",
       "      <th>16</th>\n",
       "      <td>2022</td>\n",
       "      <td>7</td>\n",
       "      <td>510910.778257</td>\n",
       "      <td>14653</td>\n",
       "    </tr>\n",
       "    <tr>\n",
       "      <th>17</th>\n",
       "      <td>2022</td>\n",
       "      <td>8</td>\n",
       "      <td>506552.375504</td>\n",
       "      <td>14587</td>\n",
       "    </tr>\n",
       "    <tr>\n",
       "      <th>18</th>\n",
       "      <td>2022</td>\n",
       "      <td>9</td>\n",
       "      <td>494210.273692</td>\n",
       "      <td>14264</td>\n",
       "    </tr>\n",
       "    <tr>\n",
       "      <th>19</th>\n",
       "      <td>2022</td>\n",
       "      <td>10</td>\n",
       "      <td>508024.151881</td>\n",
       "      <td>14660</td>\n",
       "    </tr>\n",
       "    <tr>\n",
       "      <th>20</th>\n",
       "      <td>2022</td>\n",
       "      <td>11</td>\n",
       "      <td>496781.960069</td>\n",
       "      <td>14226</td>\n",
       "    </tr>\n",
       "    <tr>\n",
       "      <th>21</th>\n",
       "      <td>2022</td>\n",
       "      <td>12</td>\n",
       "      <td>510283.329128</td>\n",
       "      <td>14635</td>\n",
       "    </tr>\n",
       "    <tr>\n",
       "      <th>22</th>\n",
       "      <td>2023</td>\n",
       "      <td>1</td>\n",
       "      <td>517615.017316</td>\n",
       "      <td>14758</td>\n",
       "    </tr>\n",
       "    <tr>\n",
       "      <th>23</th>\n",
       "      <td>2023</td>\n",
       "      <td>2</td>\n",
       "      <td>456754.227316</td>\n",
       "      <td>13074</td>\n",
       "    </tr>\n",
       "  </tbody>\n",
       "</table>\n",
       "</div>"
      ],
      "text/plain": [
       "   date_annee date_mois        ca_mois cmdes_mois\n",
       "                                                 \n",
       "0        2021         3  482536.353692      14203\n",
       "1        2021         4  476258.234633      13972\n",
       "2        2021         5  493028.575504      14169\n",
       "3        2021         6  484163.027316      13839\n",
       "4        2021         7  482877.952752      13573\n",
       "5        2021         8  482380.533692      13593\n",
       "6        2021         9  507368.338257      14850\n",
       "7        2021        10  320873.207316      11553\n",
       "8        2021        11  516274.111881      14608\n",
       "9        2021        12  525991.747316      15567\n",
       "10       2022         1  525392.180940      14979\n",
       "11       2022         2  535688.520069      14339\n",
       "12       2022         3  515573.550069      14827\n",
       "13       2022         4  493147.874633      14086\n",
       "14       2022         5  517302.811009      14960\n",
       "15       2022         6  496090.587316      14391\n",
       "16       2022         7  510910.778257      14653\n",
       "17       2022         8  506552.375504      14587\n",
       "18       2022         9  494210.273692      14264\n",
       "19       2022        10  508024.151881      14660\n",
       "20       2022        11  496781.960069      14226\n",
       "21       2022        12  510283.329128      14635\n",
       "22       2023         1  517615.017316      14758\n",
       "23       2023         2  456754.227316      13074"
      ]
     },
     "execution_count": 34,
     "metadata": {},
     "output_type": "execute_result"
    }
   ],
   "source": [
    "#chiffre d'affaire mensuel:\n",
    "df_ca_mensuel = df_final[['date_annee', 'date_mois','session_id', 'price']].groupby(['date_annee', 'date_mois']).agg(['sum','nunique']).reset_index()\n",
    "df_ca_mensuel['ca_mois'] = df_ca_mensuel['price']['sum']\n",
    "df_ca_mensuel['cmdes_mois'] = df_ca_mensuel['session_id']['nunique']\n",
    "df_ca_mensuel.drop(['session_id', 'price'], axis='columns', inplace=True)\n",
    "df_ca_mensuel"
   ]
  },
  {
   "cell_type": "code",
   "execution_count": 36,
   "id": "aced352d",
   "metadata": {},
   "outputs": [
    {
     "data": {
      "text/plain": [
       "<AxesSubplot:title={'center':'Evolution du CA'}, xlabel='date'>"
      ]
     },
     "execution_count": 36,
     "metadata": {},
     "output_type": "execute_result"
    },
    {
     "data": {
      "image/png": "[encoded data removed]",
      "text/plain": [
       "<Figure size 1080x360 with 1 Axes>"
      ]
     },
     "metadata": {
      "needs_background": "light"
     },
     "output_type": "display_data"
    }
   ],
   "source": [
    "plt.figure(figsize=(15,5))\n",
    "plt.title('Evolution du CA')\n",
    "df_evolution=df_final.set_index('date')['price'].resample('M').sum()\n",
    "df_evolution.plot()\n",
    "\n"
   ]
  },
  {
   "cell_type": "code",
   "execution_count": 96,
   "id": "906a4f0d",
   "metadata": {},
   "outputs": [
    {
     "name": "stdout",
     "output_type": "stream",
     "text": [
      "date\n",
      "2021-03-31              NaN\n",
      "2021-04-30              NaN\n",
      "2021-05-31    483941.054610\n",
      "2021-06-30    484483.279151\n",
      "2021-07-31    486689.851858\n",
      "2021-08-31    483140.504587\n",
      "2021-09-30    490875.608234\n",
      "2021-10-31    436874.026422\n",
      "2021-11-30    448171.885818\n",
      "2021-12-31    454379.688838\n",
      "2022-01-31    522552.680046\n",
      "2022-02-28    529024.149442\n",
      "2022-03-31    525551.417026\n",
      "2022-04-30    514803.314923\n",
      "2022-05-31    508674.745237\n",
      "2022-06-30    502180.424319\n",
      "2022-07-31    508101.392194\n",
      "2022-08-31    504517.913692\n",
      "2022-09-30    503891.142485\n",
      "2022-10-31    502928.933692\n",
      "2022-11-30    499672.128547\n",
      "2022-12-31    505029.813692\n",
      "2023-01-31    508226.768838\n",
      "2023-02-28    494884.191254\n",
      "Freq: M, Name: price, dtype: float64\n"
     ]
    },
    {
     "data": {
      "text/plain": [
       "Text(0.5, 1.0, \"Moyenne mobile du chiffre d'affaire\")"
      ]
     },
     "execution_count": 96,
     "metadata": {},
     "output_type": "execute_result"
    },
    {
     "data": {
      "image/png": "[encoded data removed]",
      "text/plain": [
       "<Figure size 1080x360 with 1 Axes>"
      ]
     },
     "metadata": {
      "needs_background": "light"
     },
     "output_type": "display_data"
    }
   ],
   "source": [
    "# Decomposition en moyenne mobile:\n",
    "MovingAverage= df_evolution.rolling(3).mean()\n",
    "print(MovingAverage)\n",
    "\n",
    "# Graphique:\n",
    "plt.figure(figsize = (15,5))\n",
    "MovingAverage.plot(color='darkorange')\n",
    "plt.xlabel(\"Date\")\n",
    "plt.ylabel(\"Chiffre d'affaires (€)\")\n",
    "plt.title(\"Moyenne mobile du chiffre d'affaire\")"
   ]
  },
  {
   "cell_type": "markdown",
   "id": "57dbc58b",
   "metadata": {},
   "source": [
    "Graphique de l'évolution du CA et de la moyenne mobile compilé:"
   ]
  },
  {
   "cell_type": "code",
   "execution_count": 80,
   "id": "36a6370d",
   "metadata": {},
   "outputs": [
    {
     "data": {
      "image/png": "[encoded data removed]",
      "text/plain": [
       "<Figure size 1080x360 with 1 Axes>"
      ]
     },
     "metadata": {
      "needs_background": "light"
     },
     "output_type": "display_data"
    }
   ],
   "source": [
    "plt.figure(figsize=(15,5)),\n",
    "df_evolution.plot()\n",
    "MovingAverage.plot()\n",
    "plt.show() "
   ]
  },
  {
   "cell_type": "code",
   "execution_count": 38,
   "id": "2086de81",
   "metadata": {},
   "outputs": [
    {
     "data": {
      "image/png": "[encoded data removed]",
      "text/plain": [
       "<Figure size 432x288 with 1 Axes>"
      ]
     },
     "metadata": {
      "needs_background": "light"
     },
     "output_type": "display_data"
    }
   ],
   "source": [
    "# le CA par catégories\n",
    "df_final.groupby(\"categ\")[\"price\"].sum().plot(kind = \"bar\")\n",
    "plt.title(\"Chiffre d'affaires par categories\", fontsize = 14, fontweight=\"bold\")\n",
    "plt.xticks(rotation=0, ha=\"center\")\n",
    "plt.xlabel(\"Catégories\")\n",
    "plt.ylabel(\"Chiffre d'affraire\")\n",
    "plt.show()"
   ]
  },
  {
   "cell_type": "code",
   "execution_count": 39,
   "id": "2a096ca9",
   "metadata": {},
   "outputs": [
    {
     "data": {
      "image/png": "[encoded data removed]",
      "text/plain": [
       "<Figure size 432x288 with 1 Axes>"
      ]
     },
     "metadata": {},
     "output_type": "display_data"
    }
   ],
   "source": [
    "# Volume des ventes par catégorie\n",
    "df_final['categ'].value_counts(normalize=True).plot(\n",
    "    kind='pie',\n",
    "    legend=True,\n",
    "    autopct='%1.1f%%')\n",
    "plt.title('Volume des transactions par catégorie')\n",
    "plt.show()"
   ]
  },
  {
   "cell_type": "code",
   "execution_count": 40,
   "id": "eb3c749f",
   "metadata": {},
   "outputs": [
    {
     "data": {
      "image/png": "[encoded data removed]",
      "text/plain": [
       "<Figure size 1080x216 with 1 Axes>"
      ]
     },
     "metadata": {
      "needs_background": "light"
     },
     "output_type": "display_data"
    }
   ],
   "source": [
    "# Distribution et moyenne des prix par catégorie\n",
    "plt.figure(figsize=(15,3))\n",
    "sns.boxplot(data=df_final, y='categ', x='price', orient='h')\n",
    "plt.title('Distribution des prix par catégorie')\n",
    "plt.show()"
   ]
  },
  {
   "cell_type": "markdown",
   "id": "fc89dd7f",
   "metadata": {},
   "source": [
    "On constate que les trois catégories correspondent à des tranches de prix ordonnées"
   ]
  },
  {
   "cell_type": "markdown",
   "id": "708b1883",
   "metadata": {},
   "source": [
    "<font size='5'><font color='darkgreen'><b>3ème Partie : Analyse de la clientèle</b>"
   ]
  },
  {
   "cell_type": "code",
   "execution_count": 41,
   "id": "07b08a0c",
   "metadata": {},
   "outputs": [
    {
     "name": "stdout",
     "output_type": "stream",
     "text": [
      "Top 10 clients:\n"
     ]
    },
    {
     "data": {
      "text/html": [
       "<div>\n",
       "<style scoped>\n",
       "    .dataframe tbody tr th:only-of-type {\n",
       "        vertical-align: middle;\n",
       "    }\n",
       "\n",
       "    .dataframe tbody tr th {\n",
       "        vertical-align: top;\n",
       "    }\n",
       "\n",
       "    .dataframe thead th {\n",
       "        text-align: right;\n",
       "    }\n",
       "</style>\n",
       "<table border=\"1\" class=\"dataframe\">\n",
       "  <thead>\n",
       "    <tr style=\"text-align: right;\">\n",
       "      <th></th>\n",
       "      <th>client_id</th>\n",
       "      <th>sex</th>\n",
       "      <th>birth</th>\n",
       "      <th>price</th>\n",
       "    </tr>\n",
       "  </thead>\n",
       "  <tbody>\n",
       "    <tr>\n",
       "      <th>0</th>\n",
       "      <td>c_1609</td>\n",
       "      <td>m</td>\n",
       "      <td>1980</td>\n",
       "      <td>324033.350000</td>\n",
       "    </tr>\n",
       "    <tr>\n",
       "      <th>1</th>\n",
       "      <td>c_4958</td>\n",
       "      <td>m</td>\n",
       "      <td>1999</td>\n",
       "      <td>289760.340000</td>\n",
       "    </tr>\n",
       "    <tr>\n",
       "      <th>2</th>\n",
       "      <td>c_6714</td>\n",
       "      <td>f</td>\n",
       "      <td>1968</td>\n",
       "      <td>153662.749128</td>\n",
       "    </tr>\n",
       "    <tr>\n",
       "      <th>3</th>\n",
       "      <td>c_3454</td>\n",
       "      <td>m</td>\n",
       "      <td>1969</td>\n",
       "      <td>113669.844564</td>\n",
       "    </tr>\n",
       "    <tr>\n",
       "      <th>4</th>\n",
       "      <td>c_3263</td>\n",
       "      <td>f</td>\n",
       "      <td>1985</td>\n",
       "      <td>5276.870000</td>\n",
       "    </tr>\n",
       "    <tr>\n",
       "      <th>5</th>\n",
       "      <td>c_1570</td>\n",
       "      <td>f</td>\n",
       "      <td>1979</td>\n",
       "      <td>5271.620000</td>\n",
       "    </tr>\n",
       "    <tr>\n",
       "      <th>6</th>\n",
       "      <td>c_2899</td>\n",
       "      <td>f</td>\n",
       "      <td>1994</td>\n",
       "      <td>5214.050000</td>\n",
       "    </tr>\n",
       "    <tr>\n",
       "      <th>7</th>\n",
       "      <td>c_2140</td>\n",
       "      <td>f</td>\n",
       "      <td>1977</td>\n",
       "      <td>5208.820000</td>\n",
       "    </tr>\n",
       "    <tr>\n",
       "      <th>8</th>\n",
       "      <td>c_7319</td>\n",
       "      <td>f</td>\n",
       "      <td>1974</td>\n",
       "      <td>5155.770000</td>\n",
       "    </tr>\n",
       "    <tr>\n",
       "      <th>9</th>\n",
       "      <td>c_8026</td>\n",
       "      <td>m</td>\n",
       "      <td>1978</td>\n",
       "      <td>5093.218188</td>\n",
       "    </tr>\n",
       "  </tbody>\n",
       "</table>\n",
       "</div>"
      ],
      "text/plain": [
       "  client_id sex  birth          price\n",
       "0    c_1609   m   1980  324033.350000\n",
       "1    c_4958   m   1999  289760.340000\n",
       "2    c_6714   f   1968  153662.749128\n",
       "3    c_3454   m   1969  113669.844564\n",
       "4    c_3263   f   1985    5276.870000\n",
       "5    c_1570   f   1979    5271.620000\n",
       "6    c_2899   f   1994    5214.050000\n",
       "7    c_2140   f   1977    5208.820000\n",
       "8    c_7319   f   1974    5155.770000\n",
       "9    c_8026   m   1978    5093.218188"
      ]
     },
     "execution_count": 41,
     "metadata": {},
     "output_type": "execute_result"
    }
   ],
   "source": [
    "#Top 10 meilleurs clients:\n",
    "top10_client = df_final.groupby(['client_id', 'sex', 'birth'])['price'].sum().sort_values(ascending=False).reset_index()\n",
    "\n",
    "print(\"Top 10 clients:\")\n",
    "top10_client.head(10)"
   ]
  },
  {
   "cell_type": "markdown",
   "id": "2cb3060e",
   "metadata": {},
   "source": [
    "on remarque que les 4 meilleurs clients se détachent du lot, nous pouvons les catégoriser comme des clients professionnels :"
   ]
  },
  {
   "cell_type": "code",
   "execution_count": 42,
   "id": "3c771729",
   "metadata": {},
   "outputs": [
    {
     "data": {
      "text/html": [
       "<div>\n",
       "<style scoped>\n",
       "    .dataframe tbody tr th:only-of-type {\n",
       "        vertical-align: middle;\n",
       "    }\n",
       "\n",
       "    .dataframe tbody tr th {\n",
       "        vertical-align: top;\n",
       "    }\n",
       "\n",
       "    .dataframe thead th {\n",
       "        text-align: right;\n",
       "    }\n",
       "</style>\n",
       "<table border=\"1\" class=\"dataframe\">\n",
       "  <thead>\n",
       "    <tr style=\"text-align: right;\">\n",
       "      <th></th>\n",
       "      <th>client_id</th>\n",
       "      <th>sex</th>\n",
       "      <th>birth</th>\n",
       "      <th>price</th>\n",
       "    </tr>\n",
       "  </thead>\n",
       "  <tbody>\n",
       "    <tr>\n",
       "      <th>0</th>\n",
       "      <td>c_1609</td>\n",
       "      <td>m</td>\n",
       "      <td>1980</td>\n",
       "      <td>324033.350000</td>\n",
       "    </tr>\n",
       "    <tr>\n",
       "      <th>1</th>\n",
       "      <td>c_4958</td>\n",
       "      <td>m</td>\n",
       "      <td>1999</td>\n",
       "      <td>289760.340000</td>\n",
       "    </tr>\n",
       "    <tr>\n",
       "      <th>2</th>\n",
       "      <td>c_6714</td>\n",
       "      <td>f</td>\n",
       "      <td>1968</td>\n",
       "      <td>153662.749128</td>\n",
       "    </tr>\n",
       "    <tr>\n",
       "      <th>3</th>\n",
       "      <td>c_3454</td>\n",
       "      <td>m</td>\n",
       "      <td>1969</td>\n",
       "      <td>113669.844564</td>\n",
       "    </tr>\n",
       "  </tbody>\n",
       "</table>\n",
       "</div>"
      ],
      "text/plain": [
       "  client_id sex  birth          price\n",
       "0    c_1609   m   1980  324033.350000\n",
       "1    c_4958   m   1999  289760.340000\n",
       "2    c_6714   f   1968  153662.749128\n",
       "3    c_3454   m   1969  113669.844564"
      ]
     },
     "execution_count": 42,
     "metadata": {},
     "output_type": "execute_result"
    }
   ],
   "source": [
    "top4=top10_client.head(4)\n",
    "top4"
   ]
  },
  {
   "cell_type": "code",
   "execution_count": 43,
   "id": "d086236b",
   "metadata": {},
   "outputs": [
    {
     "name": "stderr",
     "output_type": "stream",
     "text": [
      "C:\\Users\\camille.amiel\\AppData\\Local\\Temp\\ipykernel_7956\\332073424.py:3: SettingWithCopyWarning: \n",
      "A value is trying to be set on a copy of a slice from a DataFrame\n",
      "\n",
      "See the caveats in the documentation: https://pandas.pydata.org/pandas-docs/stable/user_guide/indexing.html#returning-a-view-versus-a-copy\n",
      "  df_final['client_type'].loc[df_final[df_final['client_id'].isin(top4['client_id'])].index] = 'B2B'\n"
     ]
    },
    {
     "data": {
      "text/html": [
       "<div>\n",
       "<style scoped>\n",
       "    .dataframe tbody tr th:only-of-type {\n",
       "        vertical-align: middle;\n",
       "    }\n",
       "\n",
       "    .dataframe tbody tr th {\n",
       "        vertical-align: top;\n",
       "    }\n",
       "\n",
       "    .dataframe thead th {\n",
       "        text-align: right;\n",
       "    }\n",
       "</style>\n",
       "<table border=\"1\" class=\"dataframe\">\n",
       "  <thead>\n",
       "    <tr style=\"text-align: right;\">\n",
       "      <th></th>\n",
       "      <th>id_prod</th>\n",
       "      <th>date</th>\n",
       "      <th>session_id</th>\n",
       "      <th>client_id</th>\n",
       "      <th>date_jour</th>\n",
       "      <th>date_mois</th>\n",
       "      <th>date_annee</th>\n",
       "      <th>price</th>\n",
       "      <th>categ</th>\n",
       "      <th>sex</th>\n",
       "      <th>birth</th>\n",
       "      <th>age</th>\n",
       "      <th>classe_age</th>\n",
       "      <th>total_ventes</th>\n",
       "      <th>ventes_mensuelles</th>\n",
       "      <th>taille_panier_moyen</th>\n",
       "      <th>panier_moyen</th>\n",
       "      <th>total_achats</th>\n",
       "      <th>client_type</th>\n",
       "    </tr>\n",
       "  </thead>\n",
       "  <tbody>\n",
       "    <tr>\n",
       "      <th>503757</th>\n",
       "      <td>1_431</td>\n",
       "      <td>2022-12-14 20:34:26.634775</td>\n",
       "      <td>s_312096</td>\n",
       "      <td>c_1332</td>\n",
       "      <td>14</td>\n",
       "      <td>12</td>\n",
       "      <td>2022</td>\n",
       "      <td>27.99</td>\n",
       "      <td>1</td>\n",
       "      <td>m</td>\n",
       "      <td>1983</td>\n",
       "      <td>39</td>\n",
       "      <td>30-40</td>\n",
       "      <td>193</td>\n",
       "      <td>18.0</td>\n",
       "      <td>2.382716</td>\n",
       "      <td>13.571919</td>\n",
       "      <td>2493.200000</td>\n",
       "      <td>B2C</td>\n",
       "    </tr>\n",
       "    <tr>\n",
       "      <th>490041</th>\n",
       "      <td>1_378</td>\n",
       "      <td>2022-07-09 10:59:39.379213</td>\n",
       "      <td>s_235852</td>\n",
       "      <td>c_6404</td>\n",
       "      <td>9</td>\n",
       "      <td>7</td>\n",
       "      <td>2022</td>\n",
       "      <td>26.61</td>\n",
       "      <td>1</td>\n",
       "      <td>f</td>\n",
       "      <td>1965</td>\n",
       "      <td>57</td>\n",
       "      <td>50-60</td>\n",
       "      <td>131</td>\n",
       "      <td>12.0</td>\n",
       "      <td>1.364583</td>\n",
       "      <td>16.675469</td>\n",
       "      <td>2209.600000</td>\n",
       "      <td>B2C</td>\n",
       "    </tr>\n",
       "    <tr>\n",
       "      <th>605926</th>\n",
       "      <td>0_1985</td>\n",
       "      <td>2021-06-24 03:25:16.018657</td>\n",
       "      <td>s_52939</td>\n",
       "      <td>c_1314</td>\n",
       "      <td>24</td>\n",
       "      <td>6</td>\n",
       "      <td>2021</td>\n",
       "      <td>5.99</td>\n",
       "      <td>0</td>\n",
       "      <td>m</td>\n",
       "      <td>1973</td>\n",
       "      <td>49</td>\n",
       "      <td>40-50</td>\n",
       "      <td>179</td>\n",
       "      <td>16.0</td>\n",
       "      <td>2.452055</td>\n",
       "      <td>15.033219</td>\n",
       "      <td>2473.270000</td>\n",
       "      <td>B2C</td>\n",
       "    </tr>\n",
       "    <tr>\n",
       "      <th>481255</th>\n",
       "      <td>0_1102</td>\n",
       "      <td>2022-03-20 22:32:46.023252</td>\n",
       "      <td>s_182024</td>\n",
       "      <td>c_2262</td>\n",
       "      <td>20</td>\n",
       "      <td>3</td>\n",
       "      <td>2022</td>\n",
       "      <td>4.63</td>\n",
       "      <td>0</td>\n",
       "      <td>m</td>\n",
       "      <td>1976</td>\n",
       "      <td>46</td>\n",
       "      <td>40-50</td>\n",
       "      <td>94</td>\n",
       "      <td>9.0</td>\n",
       "      <td>3.241379</td>\n",
       "      <td>11.904517</td>\n",
       "      <td>1080.650000</td>\n",
       "      <td>B2C</td>\n",
       "    </tr>\n",
       "    <tr>\n",
       "      <th>228442</th>\n",
       "      <td>0_1501</td>\n",
       "      <td>2021-07-02 15:03:49.669208</td>\n",
       "      <td>s_56912</td>\n",
       "      <td>c_1609</td>\n",
       "      <td>2</td>\n",
       "      <td>7</td>\n",
       "      <td>2021</td>\n",
       "      <td>11.99</td>\n",
       "      <td>0</td>\n",
       "      <td>m</td>\n",
       "      <td>1980</td>\n",
       "      <td>42</td>\n",
       "      <td>40-50</td>\n",
       "      <td>25488</td>\n",
       "      <td>2317.0</td>\n",
       "      <td>34.915068</td>\n",
       "      <td>12.698451</td>\n",
       "      <td>324033.350000</td>\n",
       "      <td>B2B</td>\n",
       "    </tr>\n",
       "    <tr>\n",
       "      <th>165338</th>\n",
       "      <td>0_2301</td>\n",
       "      <td>2022-07-15 04:16:00.296578</td>\n",
       "      <td>s_238568</td>\n",
       "      <td>c_170</td>\n",
       "      <td>15</td>\n",
       "      <td>7</td>\n",
       "      <td>2022</td>\n",
       "      <td>4.99</td>\n",
       "      <td>0</td>\n",
       "      <td>f</td>\n",
       "      <td>1986</td>\n",
       "      <td>36</td>\n",
       "      <td>30-40</td>\n",
       "      <td>56</td>\n",
       "      <td>5.0</td>\n",
       "      <td>3.111111</td>\n",
       "      <td>12.732870</td>\n",
       "      <td>735.820000</td>\n",
       "      <td>B2C</td>\n",
       "    </tr>\n",
       "    <tr>\n",
       "      <th>497298</th>\n",
       "      <td>0_2086</td>\n",
       "      <td>2022-12-08 18:01:12.075840</td>\n",
       "      <td>s_309060</td>\n",
       "      <td>c_4773</td>\n",
       "      <td>8</td>\n",
       "      <td>12</td>\n",
       "      <td>2022</td>\n",
       "      <td>3.61</td>\n",
       "      <td>0</td>\n",
       "      <td>m</td>\n",
       "      <td>1975</td>\n",
       "      <td>47</td>\n",
       "      <td>40-50</td>\n",
       "      <td>95</td>\n",
       "      <td>9.0</td>\n",
       "      <td>2.375000</td>\n",
       "      <td>11.910683</td>\n",
       "      <td>1152.730000</td>\n",
       "      <td>B2C</td>\n",
       "    </tr>\n",
       "    <tr>\n",
       "      <th>628625</th>\n",
       "      <td>0_1580</td>\n",
       "      <td>2021-12-12 07:44:00.281776</td>\n",
       "      <td>s_133165</td>\n",
       "      <td>c_6714</td>\n",
       "      <td>12</td>\n",
       "      <td>12</td>\n",
       "      <td>2021</td>\n",
       "      <td>13.26</td>\n",
       "      <td>0</td>\n",
       "      <td>f</td>\n",
       "      <td>1968</td>\n",
       "      <td>54</td>\n",
       "      <td>50-60</td>\n",
       "      <td>9187</td>\n",
       "      <td>835.0</td>\n",
       "      <td>13.031206</td>\n",
       "      <td>16.684393</td>\n",
       "      <td>153662.749128</td>\n",
       "      <td>B2B</td>\n",
       "    </tr>\n",
       "    <tr>\n",
       "      <th>175291</th>\n",
       "      <td>0_1528</td>\n",
       "      <td>2022-06-10 05:07:53.346830</td>\n",
       "      <td>s_221475</td>\n",
       "      <td>c_1252</td>\n",
       "      <td>10</td>\n",
       "      <td>6</td>\n",
       "      <td>2022</td>\n",
       "      <td>11.38</td>\n",
       "      <td>0</td>\n",
       "      <td>m</td>\n",
       "      <td>1975</td>\n",
       "      <td>47</td>\n",
       "      <td>40-50</td>\n",
       "      <td>289</td>\n",
       "      <td>26.0</td>\n",
       "      <td>2.491379</td>\n",
       "      <td>12.211297</td>\n",
       "      <td>3594.620000</td>\n",
       "      <td>B2C</td>\n",
       "    </tr>\n",
       "    <tr>\n",
       "      <th>58567</th>\n",
       "      <td>2_39</td>\n",
       "      <td>2022-04-01 17:49:51.953004</td>\n",
       "      <td>s_187793</td>\n",
       "      <td>c_4119</td>\n",
       "      <td>1</td>\n",
       "      <td>4</td>\n",
       "      <td>2022</td>\n",
       "      <td>57.99</td>\n",
       "      <td>2</td>\n",
       "      <td>m</td>\n",
       "      <td>2004</td>\n",
       "      <td>18</td>\n",
       "      <td>18-30</td>\n",
       "      <td>20</td>\n",
       "      <td>2.0</td>\n",
       "      <td>1.538462</td>\n",
       "      <td>77.656154</td>\n",
       "      <td>1360.650000</td>\n",
       "      <td>B2C</td>\n",
       "    </tr>\n",
       "  </tbody>\n",
       "</table>\n",
       "</div>"
      ],
      "text/plain": [
       "       id_prod                       date session_id client_id  date_jour  \\\n",
       "503757   1_431 2022-12-14 20:34:26.634775   s_312096    c_1332         14   \n",
       "490041   1_378 2022-07-09 10:59:39.379213   s_235852    c_6404          9   \n",
       "605926  0_1985 2021-06-24 03:25:16.018657    s_52939    c_1314         24   \n",
       "481255  0_1102 2022-03-20 22:32:46.023252   s_182024    c_2262         20   \n",
       "228442  0_1501 2021-07-02 15:03:49.669208    s_56912    c_1609          2   \n",
       "165338  0_2301 2022-07-15 04:16:00.296578   s_238568     c_170         15   \n",
       "497298  0_2086 2022-12-08 18:01:12.075840   s_309060    c_4773          8   \n",
       "628625  0_1580 2021-12-12 07:44:00.281776   s_133165    c_6714         12   \n",
       "175291  0_1528 2022-06-10 05:07:53.346830   s_221475    c_1252         10   \n",
       "58567     2_39 2022-04-01 17:49:51.953004   s_187793    c_4119          1   \n",
       "\n",
       "        date_mois  date_annee  price  categ sex  birth  age classe_age  \\\n",
       "503757         12        2022  27.99      1   m   1983   39      30-40   \n",
       "490041          7        2022  26.61      1   f   1965   57      50-60   \n",
       "605926          6        2021   5.99      0   m   1973   49      40-50   \n",
       "481255          3        2022   4.63      0   m   1976   46      40-50   \n",
       "228442          7        2021  11.99      0   m   1980   42      40-50   \n",
       "165338          7        2022   4.99      0   f   1986   36      30-40   \n",
       "497298         12        2022   3.61      0   m   1975   47      40-50   \n",
       "628625         12        2021  13.26      0   f   1968   54      50-60   \n",
       "175291          6        2022  11.38      0   m   1975   47      40-50   \n",
       "58567           4        2022  57.99      2   m   2004   18      18-30   \n",
       "\n",
       "        total_ventes  ventes_mensuelles  taille_panier_moyen  panier_moyen  \\\n",
       "503757           193               18.0             2.382716     13.571919   \n",
       "490041           131               12.0             1.364583     16.675469   \n",
       "605926           179               16.0             2.452055     15.033219   \n",
       "481255            94                9.0             3.241379     11.904517   \n",
       "228442         25488             2317.0            34.915068     12.698451   \n",
       "165338            56                5.0             3.111111     12.732870   \n",
       "497298            95                9.0             2.375000     11.910683   \n",
       "628625          9187              835.0            13.031206     16.684393   \n",
       "175291           289               26.0             2.491379     12.211297   \n",
       "58567             20                2.0             1.538462     77.656154   \n",
       "\n",
       "         total_achats client_type  \n",
       "503757    2493.200000         B2C  \n",
       "490041    2209.600000         B2C  \n",
       "605926    2473.270000         B2C  \n",
       "481255    1080.650000         B2C  \n",
       "228442  324033.350000         B2B  \n",
       "165338     735.820000         B2C  \n",
       "497298    1152.730000         B2C  \n",
       "628625  153662.749128         B2B  \n",
       "175291    3594.620000         B2C  \n",
       "58567     1360.650000         B2C  "
      ]
     },
     "execution_count": 43,
     "metadata": {},
     "output_type": "execute_result"
    }
   ],
   "source": [
    "# Création d'une catégorie 'Type' de client : particulier ou professionnel)\n",
    "df_final['client_type'] = 'B2C'\n",
    "df_final['client_type'].loc[df_final[df_final['client_id'].isin(top4['client_id'])].index] = 'B2B'\n",
    "\n",
    "# Création de 2 df pour les distinguer\n",
    "b2b = df_final[df_final['client_type']=='B2B']\n",
    "b2c = df_final[df_final['client_type']=='B2C']\n",
    "\n",
    "df_final.sample(10)"
   ]
  },
  {
   "cell_type": "code",
   "execution_count": 44,
   "id": "d90fab6c",
   "metadata": {},
   "outputs": [
    {
     "data": {
      "image/png": "[encoded data removed]",
      "text/plain": [
       "<Figure size 360x360 with 1 Axes>"
      ]
     },
     "metadata": {},
     "output_type": "display_data"
    }
   ],
   "source": [
    "# Proportion du volume des transactions entre B2B et B2C\n",
    "plt.figure(figsize=(5,5))\n",
    "df_final['client_type'].value_counts(normalize=True).plot(\n",
    "    kind='pie',\n",
    "    legend=True,\n",
    "    autopct='%1.1f%%')\n",
    "plt.title('Volume des transactions par type de client')\n",
    "plt.show()"
   ]
  },
  {
   "cell_type": "markdown",
   "id": "183c593d",
   "metadata": {},
   "source": [
    "On remarque que ces 4 clients de type professionnel représente à eux seuls environ 7% des transactions"
   ]
  },
  {
   "cell_type": "code",
   "execution_count": 45,
   "id": "fb8c7e5f",
   "metadata": {},
   "outputs": [
    {
     "name": "stdout",
     "output_type": "stream",
     "text": [
      "sex\n",
      "f    338402\n",
      "m    340930\n",
      "Name: client_id, dtype: int64\n"
     ]
    },
    {
     "data": {
      "image/png": "[encoded data removed]",
      "text/plain": [
       "<Figure size 432x288 with 1 Axes>"
      ]
     },
     "metadata": {},
     "output_type": "display_data"
    }
   ],
   "source": [
    "#Répartition des genres:\n",
    "df_genre = df_final.groupby([\"sex\"])[\"client_id\"].count()\n",
    "print(df_genre)\n",
    "\n",
    "#Graphique:\n",
    "fig2, ax2 = plt.subplots()\n",
    "ax2.pie(df_genre,\n",
    "        labels=[\"Femmes\",\"Hommes\"],\n",
    "        autopct=\"%1.1f%%\")\n",
    "ax2.axis(\"equal\")\n",
    "plt.title(\"Répartition des genres: \\n\")\n",
    "plt.show()"
   ]
  },
  {
   "cell_type": "markdown",
   "id": "def5c899",
   "metadata": {},
   "source": [
    "La parité homme-femme est présente dans l'ensemble de la clientèle de la librairie"
   ]
  },
  {
   "cell_type": "code",
   "execution_count": 46,
   "id": "c8a8ae9c",
   "metadata": {},
   "outputs": [
    {
     "name": "stdout",
     "output_type": "stream",
     "text": [
      "Total CA par genre:\n",
      " sex\n",
      "f    5.860928e+06\n",
      "m    5.995152e+06\n",
      "Name: price, dtype: float64\n",
      "Nombre de ventes par genre:\n",
      " sex\n",
      "f    338402\n",
      "m    340930\n",
      "Name: price, dtype: int64\n",
      "Moyenne des ventes par genre:\n",
      " sex\n",
      "f    17.319424\n",
      "m    17.584700\n",
      "Name: price, dtype: float64\n"
     ]
    },
    {
     "data": {
      "image/png": "[encoded data removed]",
      "text/plain": [
       "<Figure size 432x288 with 1 Axes>"
      ]
     },
     "metadata": {},
     "output_type": "display_data"
    }
   ],
   "source": [
    "#Répartition du CA par genres:\n",
    "df_ca_genre = df_final.groupby([\"sex\"])[\"price\"].sum()\n",
    "print(\"Total CA par genre:\\n\", df_ca_genre)\n",
    "\n",
    "df_nbventes_genre = df_final.groupby([\"sex\"])[\"price\"].count()\n",
    "print(\"Nombre de ventes par genre:\\n\", df_nbventes_genre)\n",
    "\n",
    "df_avgventes_genre = df_final.groupby([\"sex\"])[\"price\"].mean()\n",
    "print(\"Moyenne des ventes par genre:\\n\", df_avgventes_genre)\n",
    "\n",
    "\n",
    "# Graphique:\n",
    "fig3, ax3 = plt.subplots()\n",
    "ax3.pie(df_ca_genre,\n",
    "        labels=[\"Femmes\",\"Homme\"],\n",
    "        autopct=\"%1.1f%%\")\n",
    "ax3.axis(\"equal\")\n",
    "plt.title(\"Répartition du chiffre d'affaires par genres:\\n\")\n",
    "plt.show()"
   ]
  },
  {
   "cell_type": "markdown",
   "id": "b17dd67e",
   "metadata": {},
   "source": [
    "Et le chiffre d'affaires est réalisé par presque autant de femmes que d'hommes"
   ]
  },
  {
   "cell_type": "markdown",
   "id": "b68a2971",
   "metadata": {},
   "source": [
    "La courbe de Lorenz permet de calculer l’indice de Gini. Ce coefficient est une mesure du degré d’inégalité.\n",
    "L’indice de Gini correspond au rapport entre la surface hachurée et le triangle en dessous.\n",
    "L’indice de Gini varie entre 0 et 1. Si l’indice est de 0, cela signifie que la courbe de Lorenz est la diagonale, l’égalité\n",
    "est parfaite. Si l’indice est de 1, cela signifie qu’une seule personne détient tout le revenu, c’est l’inégalité maximale.\n",
    "Plus les inégalités de revenus sont importantes, plus la courbe de Lorenz s’éloigne de la diagonale, plus l’indice de\n",
    "Gini est élevé. "
   ]
  },
  {
   "cell_type": "code",
   "execution_count": 47,
   "id": "1454e71d",
   "metadata": {},
   "outputs": [
    {
     "name": "stdout",
     "output_type": "stream",
     "text": [
      "Incide de Gini : 0.44639552269807026\n"
     ]
    },
    {
     "data": {
      "image/png": "[encoded data removed]",
      "text/plain": [
       "<Figure size 432x288 with 1 Axes>"
      ]
     },
     "metadata": {
      "needs_background": "light"
     },
     "output_type": "display_data"
    }
   ],
   "source": [
    "# Courbe de Lorenz\n",
    "def lorenz(variable, title):\n",
    "    X = variable.values\n",
    "    X = np.sort(X)\n",
    "    \n",
    "    # Indice de Gini\n",
    "    def gini(array):\n",
    "        array\n",
    "        sorted_array = array.copy()\n",
    "        sorted_array.sort()\n",
    "        n = array.size\n",
    "        coef_ = 2. / n\n",
    "        const_ = (n + 1.) / n\n",
    "        weighted_sum = sum([(i+1)*yi for i, yi in enumerate(sorted_array)])\n",
    "        return coef_*weighted_sum/(sorted_array.sum()) - const_\n",
    "    print('Incide de Gini :', gini(X))\n",
    "    \n",
    "    # Courbe de Lorenz\n",
    "    X_lorenz = X.cumsum() / X.sum()\n",
    "    X_lorenz = np.insert(X_lorenz, 0, 0)\n",
    "    # X_lorenz[0], X_lorenz[-1]\n",
    "    y = np.arange(X_lorenz.size)/(X_lorenz.size-1)\n",
    "    lorenz = pd.DataFrame()\n",
    "    lorenz['X'] = pd.Series(X_lorenz)\n",
    "    lorenz['Y'] = pd.Series(y)\n",
    "    sns.scatterplot(data=lorenz, x='Y', y='X', marker='x')\n",
    "\n",
    "    # Diagonale\n",
    "    a = np.arange(0,1,.01)\n",
    "    x = a\n",
    "    y = a\n",
    "    \n",
    "    # Graphique\n",
    "    sns.lineplot(x=x,y=y)\n",
    "    plt.xlim([0,1])\n",
    "    plt.ylim([0,1])\n",
    "    plt.title(title)\n",
    "    plt.show()\n",
    "    \n",
    "lorenz(ca_annuel['total_achats'], 'Inégalités de prix entre tous les clients')"
   ]
  },
  {
   "cell_type": "markdown",
   "id": "973014ad",
   "metadata": {},
   "source": [
    "L'indice de Gini est nettement plus faible si on exclut les 4 professionnels:"
   ]
  },
  {
   "cell_type": "code",
   "execution_count": 48,
   "id": "44036f37",
   "metadata": {},
   "outputs": [
    {
     "name": "stdout",
     "output_type": "stream",
     "text": [
      "Incide de Gini : 0.40263087902112527\n"
     ]
    },
    {
     "data": {
      "image/png": "[encoded data removed]",
      "text/plain": [
       "<Figure size 432x288 with 1 Axes>"
      ]
     },
     "metadata": {
      "needs_background": "light"
     },
     "output_type": "display_data"
    }
   ],
   "source": [
    "# Inégalité des chiffres d'affaires annuels des clients particuliers\n",
    "lorenz(b2c.pivot_table(index='client_id')['total_achats'], 'Inégalités de prix entre clients particuliers')"
   ]
  },
  {
   "cell_type": "markdown",
   "id": "dc3993c6",
   "metadata": {},
   "source": [
    "L'indice de Gini est nettement plus faible si on exclut les 4 professionnels."
   ]
  },
  {
   "cell_type": "markdown",
   "id": "709b38f1",
   "metadata": {},
   "source": [
    "<font size='5'><font color='darkgreen'><b>4ème Partie : Analyse des clients professionnels</b>"
   ]
  },
  {
   "cell_type": "markdown",
   "id": "4fdc597e",
   "metadata": {},
   "source": [
    "Le volume des transactions par catégorie montre des habitudes différentes chez chacun de ces clients.\n",
    "\n",
    "Le client c_1609 ne consomme pas du tout la catégorie 2, tandis que le client c_4858 est le seul à consommer principalement cette catégorie. Vu que ce client détient de loin le plus gros panier moyen, la catégorie pourrait influer sur le prix du livre."
   ]
  },
  {
   "cell_type": "code",
   "execution_count": 49,
   "id": "837e64b5",
   "metadata": {},
   "outputs": [
    {
     "data": {
      "image/png": "[encoded data removed]",
      "text/plain": [
       "<Figure size 432x288 with 1 Axes>"
      ]
     },
     "metadata": {
      "needs_background": "light"
     },
     "output_type": "display_data"
    }
   ],
   "source": [
    "sns.countplot(data=b2b, x='client_id', hue='categ')\n",
    "plt.title('Volume d\\'achats des clients professionnels, par catégorie')\n",
    "plt.show()"
   ]
  },
  {
   "cell_type": "markdown",
   "id": "c51eac56",
   "metadata": {},
   "source": [
    "La distribution des prix d'achats confirme que le client c_4958 achète des livres bien plus chers les 3 autres clients:"
   ]
  },
  {
   "cell_type": "code",
   "execution_count": 50,
   "id": "eab5313a",
   "metadata": {},
   "outputs": [
    {
     "data": {
      "image/png": "[encoded data removed]",
      "text/plain": [
       "<Figure size 576x360 with 1 Axes>"
      ]
     },
     "metadata": {
      "needs_background": "light"
     },
     "output_type": "display_data"
    }
   ],
   "source": [
    "plt.figure(figsize=(8,5))\n",
    "sns.boxplot(data=b2b, y='price', x='client_id', showfliers=False)\n",
    "plt.title('Dstribution des prix d\\'achat des professionnels, par catégorie')\n",
    "plt.show()"
   ]
  },
  {
   "cell_type": "markdown",
   "id": "8b050e60",
   "metadata": {},
   "source": [
    "Analysons la périodicité des achats en fonction des catégories de livres:<br>\n",
    " - la catégorie 0 est surtout achetée en septembre<br>\n",
    " - la catégorie 1 en décembre<br>\n",
    " - la catégorie 2 au mois de février"
   ]
  },
  {
   "cell_type": "code",
   "execution_count": 51,
   "id": "0c3e5bfc",
   "metadata": {},
   "outputs": [
    {
     "name": "stdout",
     "output_type": "stream",
     "text": [
      "Client c_6714\n"
     ]
    },
    {
     "data": {
      "image/png": "[encoded data removed]",
      "text/plain": [
       "<Figure size 1080x432 with 1 Axes>"
      ]
     },
     "metadata": {
      "needs_background": "light"
     },
     "output_type": "display_data"
    },
    {
     "name": "stdout",
     "output_type": "stream",
     "text": [
      "Client c_4958\n"
     ]
    },
    {
     "data": {
      "image/png": "[encoded data removed]",
      "text/plain": [
       "<Figure size 1080x432 with 1 Axes>"
      ]
     },
     "metadata": {
      "needs_background": "light"
     },
     "output_type": "display_data"
    },
    {
     "name": "stdout",
     "output_type": "stream",
     "text": [
      "Client c_1609\n"
     ]
    },
    {
     "data": {
      "image/png": "[encoded data removed]",
      "text/plain": [
       "<Figure size 1080x432 with 1 Axes>"
      ]
     },
     "metadata": {
      "needs_background": "light"
     },
     "output_type": "display_data"
    },
    {
     "name": "stdout",
     "output_type": "stream",
     "text": [
      "Client c_3454\n"
     ]
    },
    {
     "data": {
      "image/png": "[encoded data removed]",
      "text/plain": [
       "<Figure size 1080x432 with 1 Axes>"
      ]
     },
     "metadata": {
      "needs_background": "light"
     },
     "output_type": "display_data"
    }
   ],
   "source": [
    "for i in b2b['client_id'].unique():\n",
    "    print('Client', i)\n",
    "    plt.figure(figsize=(15,6))\n",
    "    sns.histplot(data=b2b[b2b['client_id']==i], x='date', hue='categ')\n",
    "    plt.show()"
   ]
  },
  {
   "cell_type": "markdown",
   "id": "690f1487",
   "metadata": {},
   "source": [
    "<font size='5'><font color='darkgreen'><b>5ème Partie : Analyse des clients particuliers</b>"
   ]
  },
  {
   "cell_type": "markdown",
   "id": "d62f972d",
   "metadata": {},
   "source": [
    "<font size=''><font color='green'><b>Analyse de la variable \"sexe\"</b>"
   ]
  },
  {
   "cell_type": "markdown",
   "id": "d22e469f",
   "metadata": {},
   "source": [
    "La pyramide des âges ne montre aucune différence entre la clientèle femme et homme:"
   ]
  },
  {
   "cell_type": "code",
   "execution_count": 52,
   "id": "c58a2f8f",
   "metadata": {},
   "outputs": [
    {
     "data": {
      "image/png": "[encoded data removed]",
      "text/plain": [
       "<Figure size 432x288 with 2 Axes>"
      ]
     },
     "metadata": {
      "needs_background": "light"
     },
     "output_type": "display_data"
    }
   ],
   "source": [
    "fig, axes = plt.subplots(1, 2)\n",
    "fig.suptitle('Pyramide des âges par sexe')\n",
    "\n",
    "sns.histplot(ax=axes[0], y=b2c[b2c['sex']=='m']['age'], bins=12)\n",
    "axes[0].invert_xaxis()\n",
    "axes[0].set_title('Hommes')\n",
    "\n",
    "sns.histplot(ax=axes[1], y=b2c[b2c['sex']=='f']['age'], bins=12)\n",
    "axes[1].set_yticklabels([])\n",
    "axes[1].set_ylabel('')\n",
    "axes[1].set_title('Femmes')\n",
    "\n",
    "plt.subplots_adjust(wspace=0, hspace=0)\n",
    "plt.show()"
   ]
  },
  {
   "cell_type": "markdown",
   "id": "6e3a2bf9",
   "metadata": {},
   "source": [
    "La périodicité des ventes est similaire pour les femmes et les hommes:"
   ]
  },
  {
   "cell_type": "code",
   "execution_count": 53,
   "id": "6b591a7c",
   "metadata": {},
   "outputs": [
    {
     "data": {
      "image/png": "[encoded data removed]",
      "text/plain": [
       "<Figure size 1080x360 with 1 Axes>"
      ]
     },
     "metadata": {
      "needs_background": "light"
     },
     "output_type": "display_data"
    }
   ],
   "source": [
    "plt.figure(figsize=(15,5))\n",
    "sns.kdeplot(data=b2c, x='date', hue='sex')\n",
    "plt.title('Volume des ventes par sexe et date d\\'achat')\n",
    "plt.show()"
   ]
  },
  {
   "cell_type": "markdown",
   "id": "8c4d6d5f",
   "metadata": {},
   "source": [
    "Que ce soit une femme ou un homme, le type de catégorie achetée garde pratiquement les mêmes proportions:"
   ]
  },
  {
   "cell_type": "code",
   "execution_count": 54,
   "id": "be15b4d9",
   "metadata": {},
   "outputs": [
    {
     "data": {
      "image/png": "[encoded data removed]",
      "text/plain": [
       "<Figure size 402.375x360 with 1 Axes>"
      ]
     },
     "metadata": {
      "needs_background": "light"
     },
     "output_type": "display_data"
    }
   ],
   "source": [
    "sns.displot(data=b2c, x='sex', hue='categ')\n",
    "plt.title('Comparaison du type de catégories achetées par sexe pour les clients B2C')\n",
    "plt.show()"
   ]
  },
  {
   "cell_type": "markdown",
   "id": "5f2b250a",
   "metadata": {},
   "source": [
    "La distribution des prix est également similaire : le sexe ne nous renseigne pas sur les habitudes des clients de la librairie"
   ]
  },
  {
   "cell_type": "code",
   "execution_count": 55,
   "id": "3e1d2b7c",
   "metadata": {},
   "outputs": [
    {
     "data": {
      "image/png": "[encoded data removed]",
      "text/plain": [
       "<Figure size 576x216 with 1 Axes>"
      ]
     },
     "metadata": {
      "needs_background": "light"
     },
     "output_type": "display_data"
    }
   ],
   "source": [
    "plt.figure(figsize=(8,3))\n",
    "sns.violinplot(data=b2c, x='price', y='sex', showfliers=False, showmeans=True)\n",
    "plt.xlim([0,35])\n",
    "plt.title('Distribution des prix par sexe')\n",
    "plt.show()"
   ]
  },
  {
   "cell_type": "markdown",
   "id": "7097791d",
   "metadata": {},
   "source": [
    "<font size=''><font color='black'><b>Test de corrélation:</b>"
   ]
  },
  {
   "cell_type": "markdown",
   "id": "1c573142",
   "metadata": {},
   "source": [
    "Une matrice de corrélations peut nous éclairer sur les variables entre lesquelles il peut exister des corrélations:"
   ]
  },
  {
   "cell_type": "code",
   "execution_count": 57,
   "id": "c0dff717",
   "metadata": {},
   "outputs": [],
   "source": [
    "b2c_drop=b2c.drop(columns=['sex', 'date_jour','date_mois','date_annee', 'birth'])"
   ]
  },
  {
   "cell_type": "code",
   "execution_count": 58,
   "id": "b3610a5d",
   "metadata": {},
   "outputs": [
    {
     "name": "stderr",
     "output_type": "stream",
     "text": [
      "C:\\Users\\camille.amiel\\AppData\\Local\\Temp\\ipykernel_7956\\2494703062.py:4: DeprecationWarning: `np.bool` is a deprecated alias for the builtin `bool`. To silence this warning, use `bool` by itself. Doing this will not modify any behavior and is safe. If you specifically wanted the numpy scalar type, use `np.bool_` here.\n",
      "Deprecated in NumPy 1.20; for more details and guidance: https://numpy.org/devdocs/release/1.20.0-notes.html#deprecations\n",
      "  mask=np.triu(np.ones_like(b2c_drop.corr(), dtype=np.bool)),\n"
     ]
    },
    {
     "data": {
      "image/png": "[encoded data removed]",
      "text/plain": [
       "<Figure size 1152x432 with 2 Axes>"
      ]
     },
     "metadata": {
      "needs_background": "light"
     },
     "output_type": "display_data"
    }
   ],
   "source": [
    "plt.figure(figsize=(16, 6))\n",
    "heatmap = sns.heatmap(\n",
    "    b2c_drop.corr(), \n",
    "    mask=np.triu(np.ones_like(b2c_drop.corr(), dtype=np.bool)), \n",
    "    vmin=-1, vmax=1, annot=True, cmap='BrBG')\n",
    "heatmap.set_title('Triangle correlation heatmap', fontdict={'fontsize':16}, pad=16)\n",
    "plt.show()"
   ]
  },
  {
   "cell_type": "code",
   "execution_count": 59,
   "id": "5e6308b1",
   "metadata": {},
   "outputs": [],
   "source": [
    "#on résalise un second test qui montrera ou non l'indépendance des deux variables catégorie et sexe:"
   ]
  },
  {
   "cell_type": "markdown",
   "id": "f45fcb8f",
   "metadata": {},
   "source": [
    "<font size=''><font color='black'><b>Test d'indépendance du χ² :</b> "
   ]
  },
  {
   "cell_type": "markdown",
   "id": "9d0ab76c",
   "metadata": {},
   "source": [
    "La cardinalité est le nombre de modalités dans les 2 qualitatives à étudier. Plus la cardinalité est grande, plus il sera difficile de séparer distinctement les groupes.\n",
    "\n",
    "On mesure cette cardinalité en degrés de liberté :\n",
    "\n",
    "Degrés de liberté = ( nombre de modalités variable_A - 1 ) x ( nombre de modalités variable_B - 1 )\n",
    "\n",
    "On obtient donc 2 degrés de liberté dans la table de contingence entre 'categ' et 'sex'."
   ]
  },
  {
   "cell_type": "code",
   "execution_count": 60,
   "id": "36a4a7db",
   "metadata": {},
   "outputs": [
    {
     "name": "stdout",
     "output_type": "stream",
     "text": [
      "Table de contingence :\n",
      "sex         f       m\n",
      "categ                \n",
      "0      200904  186589\n",
      "1      111331  101017\n",
      "2       16980   15868\n",
      "\n",
      "------------------------------------------------------- \n",
      "\n",
      "Table de contingence normalisée :\n",
      "          sex                \n",
      "sex         f       m     All\n",
      "categ                        \n",
      "0       61.03   61.48   61.25\n",
      "1       33.82   33.29   33.56\n",
      "2        5.16    5.23    5.19\n",
      "All    100.00  100.00  100.00\n"
     ]
    }
   ],
   "source": [
    "# Table de contingence\n",
    "crosstab = pd.crosstab(b2c['categ'], b2c['sex'], margins=False)\n",
    "print('Table de contingence :')\n",
    "print(crosstab)\n",
    "\n",
    "import researchpy as rp\n",
    "\n",
    "# Table de contingence normalisée\n",
    "table, results = rp.crosstab(b2c['categ'], b2c['sex'], prop='col', test='chi-square')\n",
    "print('\\n' + '-' * 55, '\\n\\nTable de contingence normalisée :')\n",
    "print(table)"
   ]
  },
  {
   "cell_type": "code",
   "execution_count": 61,
   "id": "31ee73ee",
   "metadata": {},
   "outputs": [
    {
     "data": {
      "image/png": "[encoded data removed]",
      "text/plain": [
       "<Figure size 720x360 with 2 Axes>"
      ]
     },
     "metadata": {
      "needs_background": "light"
     },
     "output_type": "display_data"
    }
   ],
   "source": [
    "plt.figure(figsize=(10,5))\n",
    "sns.heatmap(crosstab)\n",
    "plt.title('Heatmap entre le sexe et la catégorie')\n",
    "plt.show()"
   ]
  },
  {
   "cell_type": "markdown",
   "id": "8939d5e2",
   "metadata": {},
   "source": [
    "Le test de normalité ne fait pas partie des conditions du χ² , vu qu'on ne mesure pas la normalité que sur des variables quantitatives.\n",
    "\n",
    "On doit malgré tout valider 2 conditions :\n",
    "\n",
    "au moins 1 valeur dans chaque cellule de la table de contingence au moins 80% des valeurs égales ou supérieures à 5"
   ]
  },
  {
   "cell_type": "code",
   "execution_count": 62,
   "id": "74658b56",
   "metadata": {},
   "outputs": [
    {
     "name": "stdout",
     "output_type": "stream",
     "text": [
      "Test de χ²\n",
      "Stat = 1.631\n",
      "p-value = 0.44241858939861489208311695620068349\n",
      "H0: the two samples are independent\n",
      "\n",
      "Conditions :\n",
      "- Observations used in the calculation of the contingency table are independent. \n",
      "- 25 or more examples in each cell of the contingency table.\n"
     ]
    }
   ],
   "source": [
    "# Test de χ² \n",
    "df_sample = b2c.sample(1500)\n",
    "table = pd.crosstab(df_sample['categ'], df_sample['sex'], margins=False)\n",
    "stat, p, dof, expected = stats.chi2_contingency(table)\n",
    "print('Test de χ²')\n",
    "print('Stat = %.3f\\np-value = %.35f' % (stat, p))\n",
    "if p > .05:\n",
    "    print('H0: the two samples are independent')\n",
    "else:\n",
    "    print('H1: there is a dependency between the samples.')\n",
    "print('\\nConditions :\\n'\n",
    "      '- Observations used in the calculation of the contingency table are independent.',\n",
    "      '\\n- 25 or more examples in each cell of the contingency table.')"
   ]
  },
  {
   "cell_type": "markdown",
   "id": "deec816b",
   "metadata": {},
   "source": [
    "Ici le test nous permet d'obtenir un résultat de 95% soit de confirmer qu'il n'y a pas de dépendances entre ces 2 variables sexe et catégorie."
   ]
  },
  {
   "cell_type": "markdown",
   "id": "56668097",
   "metadata": {},
   "source": [
    "<font size=''><font color='green'><b>Analyse de la variable \"âge\"</b>"
   ]
  },
  {
   "cell_type": "markdown",
   "id": "ad8c7d27",
   "metadata": {},
   "source": [
    "La clientèle principale se situe entre 30 et 50 ans:"
   ]
  },
  {
   "cell_type": "code",
   "execution_count": 63,
   "id": "e0aae017",
   "metadata": {},
   "outputs": [
    {
     "data": {
      "image/png": "[encoded data removed]",
      "text/plain": [
       "<Figure size 432x288 with 1 Axes>"
      ]
     },
     "metadata": {
      "needs_background": "light"
     },
     "output_type": "display_data"
    }
   ],
   "source": [
    "sns.boxplot(data=b2c, x='age', showfliers=False)\n",
    "sns.violinplot(data=b2c, x='age', showfliers=False)\n",
    "plt.title('Distribution des âges')\n",
    "plt.show()"
   ]
  },
  {
   "cell_type": "markdown",
   "id": "41db449f",
   "metadata": {},
   "source": [
    "Les 3 catégories sont consommées par toutes les classes d'âge.  \n",
    "On remarque que les acheteurs de la catégorie 0 sont principalement ces 30-50 ans, tandis que la catégorie 2 est consommée avant tout par les moins de 30 ans:"
   ]
  },
  {
   "cell_type": "code",
   "execution_count": 64,
   "id": "335ab332",
   "metadata": {},
   "outputs": [
    {
     "data": {
      "text/plain": [
       "<Figure size 576x360 with 0 Axes>"
      ]
     },
     "metadata": {},
     "output_type": "display_data"
    },
    {
     "data": {
      "image/png": "[encoded data removed]",
      "text/plain": [
       "<Figure size 402.375x360 with 1 Axes>"
      ]
     },
     "metadata": {
      "needs_background": "light"
     },
     "output_type": "display_data"
    }
   ],
   "source": [
    "plt.figure(figsize=(8,5))\n",
    "sns.displot(data=b2c, x='age', hue='categ', kind='kde', fill=True)\n",
    "plt.title('Volume des transactions par âge et catégorie')\n",
    "plt.show()"
   ]
  },
  {
   "cell_type": "markdown",
   "id": "03f5c800",
   "metadata": {},
   "source": [
    "Comme c'était le cas avec le client professionnel c_4958 né en 1999, les moins de 30 ans affichent des prix d'achat bien plus élevés que les autres clients.\n",
    "Les prix sont légèrement inférieurs chez les 30-50 ans (population consommant la catégorie 0 comme vu précédemment):"
   ]
  },
  {
   "cell_type": "code",
   "execution_count": 65,
   "id": "96429f2b",
   "metadata": {
    "scrolled": true
   },
   "outputs": [
    {
     "data": {
      "image/png": "[encoded data removed]",
      "text/plain": [
       "<Figure size 1080x360 with 1 Axes>"
      ]
     },
     "metadata": {
      "needs_background": "light"
     },
     "output_type": "display_data"
    }
   ],
   "source": [
    "plt.figure(figsize=(15, 5))\n",
    "sns.boxplot(data=df_final.sort_values(by='classe_age'), y='classe_age', x='price', showfliers=False)\n",
    "plt.title('Distribution des prix par classe d\\'âge')\n",
    "plt.show()"
   ]
  },
  {
   "cell_type": "markdown",
   "id": "4862d6f6",
   "metadata": {},
   "source": [
    "Le chiffre d'affaires annuel des clients particuliers est logiquement corrélé à la classe d'âge, car comme vu plus tôt :\n",
    "\n",
    "la catégorie 0 est la catégorie la plus achetée par les 30-50 ans\n",
    "la catégorie 2 est presque exclusivement achetée par les moins de 30 ans\n",
    "\n",
    "Les 30-50 ans concentrent ainsi les plus gros chiffres d'affaires, suivis par les moins de 30 ans:"
   ]
  },
  {
   "cell_type": "code",
   "execution_count": 66,
   "id": "15011c30",
   "metadata": {},
   "outputs": [
    {
     "data": {
      "image/png": "[encoded data removed]",
      "text/plain": [
       "<Figure size 1080x360 with 1 Axes>"
      ]
     },
     "metadata": {
      "needs_background": "light"
     },
     "output_type": "display_data"
    }
   ],
   "source": [
    "plt.figure(figsize=(15, 5))\n",
    "sns.boxplot(data=b2c.sort_values(by='classe_age'), y='classe_age', x='total_achats', showfliers=False, showmeans=True)\n",
    "plt.title('Distribution des chiffres d\\'affaires par classe d\\'âge')\n",
    "plt.show()"
   ]
  },
  {
   "cell_type": "code",
   "execution_count": 67,
   "id": "80ec038b",
   "metadata": {},
   "outputs": [
    {
     "data": {
      "image/png": "[encoded data removed]",
      "text/plain": [
       "<Figure size 1080x360 with 1 Axes>"
      ]
     },
     "metadata": {
      "needs_background": "light"
     },
     "output_type": "display_data"
    }
   ],
   "source": [
    "plt.figure(figsize=(15, 5))\n",
    "sns.scatterplot(data=b2c.sample(150), x='age', y='total_achats', hue='classe_age', s=100)\n",
    "plt.title('Distribution des prix par classe d\\'âge')\n",
    "plt.show()"
   ]
  },
  {
   "cell_type": "markdown",
   "id": "98cbd1a2",
   "metadata": {},
   "source": [
    "La fréquence d'achat par mois se répartie de la façon suivante:\n",
    "\n",
    "les moins de 30 ans achètent le même nombre de livres (jamais plus de 3 livres par mois)\n",
    "Un quart des 30-50 ans achète plus de 8 livres par mois\n",
    "les plus de 50 ans ont des habitudes plus variées, mais achètent rarement plus de 5 livres"
   ]
  },
  {
   "cell_type": "code",
   "execution_count": 68,
   "id": "6dae786a",
   "metadata": {},
   "outputs": [
    {
     "data": {
      "image/png": "[encoded data removed]",
      "text/plain": [
       "<Figure size 1440x360 with 1 Axes>"
      ]
     },
     "metadata": {
      "needs_background": "light"
     },
     "output_type": "display_data"
    }
   ],
   "source": [
    "plt.figure(figsize=(20,5))\n",
    "sns.boxplot(data=b2c.pivot_table(index=['client_id']), y='ventes_mensuelles', x='age', showfliers=False)\n",
    "plt.xticks(rotation=90)\n",
    "plt.title('Distribution des fréquences d\\'achat par âge')\n",
    "plt.show()"
   ]
  },
  {
   "cell_type": "markdown",
   "id": "8e040522",
   "metadata": {},
   "source": [
    "La taille du panier moyen suit la même logique que la fréquence d'achat par âge :"
   ]
  },
  {
   "cell_type": "code",
   "execution_count": 69,
   "id": "51912623",
   "metadata": {},
   "outputs": [
    {
     "data": {
      "image/png": "[encoded data removed]",
      "text/plain": [
       "<Figure size 1440x360 with 1 Axes>"
      ]
     },
     "metadata": {
      "needs_background": "light"
     },
     "output_type": "display_data"
    }
   ],
   "source": [
    "plt.figure(figsize=(20,5))\n",
    "sns.boxplot(data=b2c.pivot_table(index=['client_id']),y='taille_panier_moyen', x='age', showfliers=False, showmeans=True)\n",
    "plt.xticks(rotation=90)\n",
    "plt.title('Distribution de la taille du panier moyen, par âge')\n",
    "plt.show()"
   ]
  },
  {
   "cell_type": "markdown",
   "id": "a2d7e04f",
   "metadata": {},
   "source": [
    "<font size=''><font color='black'><b>Test de Kruskal-Wallis :</b> "
   ]
  },
  {
   "cell_type": "code",
   "execution_count": 70,
   "id": "36fe555d",
   "metadata": {},
   "outputs": [
    {
     "data": {
      "text/html": [
       "<div>\n",
       "<style scoped>\n",
       "    .dataframe tbody tr th:only-of-type {\n",
       "        vertical-align: middle;\n",
       "    }\n",
       "\n",
       "    .dataframe tbody tr th {\n",
       "        vertical-align: top;\n",
       "    }\n",
       "\n",
       "    .dataframe thead th {\n",
       "        text-align: right;\n",
       "    }\n",
       "</style>\n",
       "<table border=\"1\" class=\"dataframe\">\n",
       "  <thead>\n",
       "    <tr style=\"text-align: right;\">\n",
       "      <th></th>\n",
       "      <th>classe_age</th>\n",
       "      <th>price</th>\n",
       "    </tr>\n",
       "  </thead>\n",
       "  <tbody>\n",
       "    <tr>\n",
       "      <th>0</th>\n",
       "      <td>30-40</td>\n",
       "      <td>4.18</td>\n",
       "    </tr>\n",
       "    <tr>\n",
       "      <th>1</th>\n",
       "      <td>30-40</td>\n",
       "      <td>15.99</td>\n",
       "    </tr>\n",
       "    <tr>\n",
       "      <th>2</th>\n",
       "      <td>50-60</td>\n",
       "      <td>7.99</td>\n",
       "    </tr>\n",
       "    <tr>\n",
       "      <th>3</th>\n",
       "      <td>18-30</td>\n",
       "      <td>69.99</td>\n",
       "    </tr>\n",
       "    <tr>\n",
       "      <th>4</th>\n",
       "      <td>40-50</td>\n",
       "      <td>4.99</td>\n",
       "    </tr>\n",
       "  </tbody>\n",
       "</table>\n",
       "</div>"
      ],
      "text/plain": [
       "  classe_age  price\n",
       "0      30-40   4.18\n",
       "1      30-40  15.99\n",
       "2      50-60   7.99\n",
       "3      18-30  69.99\n",
       "4      40-50   4.99"
      ]
     },
     "execution_count": 70,
     "metadata": {},
     "output_type": "execute_result"
    }
   ],
   "source": [
    "df_tranche_prix=df_final[['classe_age','price']]\n",
    "df_tranche_prix.head()"
   ]
  },
  {
   "cell_type": "code",
   "execution_count": 71,
   "id": "25744053",
   "metadata": {},
   "outputs": [
    {
     "data": {
      "text/plain": [
       "array(['30-40', '50-60', '18-30', '40-50', '60-70', '70-80', '80 et +'],\n",
       "      dtype=object)"
      ]
     },
     "execution_count": 71,
     "metadata": {},
     "output_type": "execute_result"
    }
   ],
   "source": [
    "df_tranche_prix['classe_age'].unique()"
   ]
  },
  {
   "cell_type": "code",
   "execution_count": 72,
   "id": "d99c481e",
   "metadata": {},
   "outputs": [],
   "source": [
    "#Listes des prix pour chaque classes d'âge:\n",
    "classe_0=df_tranche_prix['price'].loc[df_tranche_prix['classe_age']=='18-30'].to_list()\n",
    "classe_1=df_tranche_prix['price'].loc[df_tranche_prix['classe_age']=='30-40'].to_list()\n",
    "classe_2=df_tranche_prix['price'].loc[df_tranche_prix['classe_age']=='40-50'].to_list()\n",
    "classe_3=df_tranche_prix['price'].loc[df_tranche_prix['classe_age']=='50-60'].to_list()\n",
    "classe_4=df_tranche_prix['price'].loc[df_tranche_prix['classe_age']=='60-70'].to_list()\n",
    "classe_5=df_tranche_prix['price'].loc[df_tranche_prix['classe_age']=='70-80'].to_list()\n",
    "classe_6=df_tranche_prix['price'].loc[df_tranche_prix['classe_age']=='80 et +'].to_list()"
   ]
  },
  {
   "cell_type": "markdown",
   "id": "330d255b",
   "metadata": {},
   "source": [
    "Existe-t-il une corrélation entre le CA et la classe d'âge ? \n",
    "\n",
    "hypothèses:    \n",
    "H0= il n'y a pas de relation significative    \n",
    "H1= il y a une corrélation     \n",
    "choix du test Kruskal-Wallis (ANOVA) variable quantitative x variables qualitatives (6 classes d'âges)"
   ]
  },
  {
   "cell_type": "code",
   "execution_count": 73,
   "id": "d84d2138",
   "metadata": {},
   "outputs": [
    {
     "data": {
      "text/plain": [
       "KruskalResult(statistic=75618.98630928832, pvalue=0.0)"
      ]
     },
     "execution_count": 73,
     "metadata": {},
     "output_type": "execute_result"
    }
   ],
   "source": [
    "stats.kruskal(classe_0, classe_1, classe_2, classe_3, classe_4, classe_5, classe_6)"
   ]
  },
  {
   "cell_type": "markdown",
   "id": "5c4e33a6",
   "metadata": {},
   "source": [
    "p_value < alpha on rejette donc l'hypothèse H0, il existe donc bien une corrélation entre la classe d'âge et le prix"
   ]
  },
  {
   "cell_type": "markdown",
   "id": "48d6c824",
   "metadata": {},
   "source": [
    "<font size=''><font color='black'><b>Test de Student :</b> "
   ]
  },
  {
   "cell_type": "code",
   "execution_count": 74,
   "id": "36880bf8",
   "metadata": {},
   "outputs": [
    {
     "name": "stdout",
     "output_type": "stream",
     "text": [
      "-4.928989100914486\n"
     ]
    },
    {
     "name": "stderr",
     "output_type": "stream",
     "text": [
      "C:\\Users\\camille.amiel\\AppData\\Local\\Temp\\ipykernel_7956\\467000231.py:2: FutureWarning: Dropping of nuisance columns in DataFrame reductions (with 'numeric_only=None') is deprecated; in a future version this will raise TypeError.  Select only valid columns before calling the reduction.\n",
      "  se_panier_moyen=df_sample.std()['panier_moyen']/np.sqrt(10)\n",
      "C:\\Users\\camille.amiel\\AppData\\Local\\Temp\\ipykernel_7956\\467000231.py:3: FutureWarning: Dropping of nuisance columns in DataFrame reductions (with 'numeric_only=None') is deprecated; in a future version this will raise TypeError.  Select only valid columns before calling the reduction.\n",
      "  se_age=df_sample.std()['age']/np.sqrt(10)\n",
      "C:\\Users\\camille.amiel\\AppData\\Local\\Temp\\ipykernel_7956\\467000231.py:5: FutureWarning: DataFrame.mean and DataFrame.median with numeric_only=None will include datetime64 and datetime64tz columns in a future version.\n",
      "  t_stat=(df_sample.mean()['panier_moyen'] - df_sample.mean()['age'])/sed\n",
      "C:\\Users\\camille.amiel\\AppData\\Local\\Temp\\ipykernel_7956\\467000231.py:5: FutureWarning: Dropping of nuisance columns in DataFrame reductions (with 'numeric_only=None') is deprecated; in a future version this will raise TypeError.  Select only valid columns before calling the reduction.\n",
      "  t_stat=(df_sample.mean()['panier_moyen'] - df_sample.mean()['age'])/sed\n"
     ]
    }
   ],
   "source": [
    "#T Stat:\n",
    "se_panier_moyen=df_sample.std()['panier_moyen']/np.sqrt(10)\n",
    "se_age=df_sample.std()['age']/np.sqrt(10)\n",
    "sed=np.sqrt((se_panier_moyen**2) + (se_age**2))\n",
    "t_stat=(df_sample.mean()['panier_moyen'] - df_sample.mean()['age'])/sed\n",
    "print(t_stat)"
   ]
  },
  {
   "cell_type": "code",
   "execution_count": 75,
   "id": "978b41cc",
   "metadata": {},
   "outputs": [
    {
     "name": "stdout",
     "output_type": "stream",
     "text": [
      "Test de Student\n",
      "\n",
      "t=-4.928989100914486, p=0.0\n",
      "H1: une ou plus des moyennes des échantillons sont inégales\n"
     ]
    }
   ],
   "source": [
    "#Test de Student entre la variable âge et panier moyen\n",
    "stat, p = stats.ttest_ind(df_sample['panier_moyen'], df_sample['age'])\n",
    "print('Test de Student\\n')\n",
    "print(f't={t_stat}, p={p}')\n",
    "if p > 0.05:\n",
    "    print('H0: les moyennes des échantillons sont égales')\n",
    "else:\n",
    "    print('H1: une ou plus des moyennes des échantillons sont inégales')"
   ]
  },
  {
   "cell_type": "markdown",
   "id": "6c4cc38f",
   "metadata": {},
   "source": [
    "Le résultat du test Student prouve qu'il existe une corrélation importante entre l'âge des clients et leurs paniers moyens"
   ]
  },
  {
   "cell_type": "markdown",
   "id": "9a86ae7e",
   "metadata": {},
   "source": [
    "<font size=''><font color='green'><b>Analyse de la variable \"produit\"</b>"
   ]
  },
  {
   "cell_type": "markdown",
   "id": "666cad08",
   "metadata": {},
   "source": [
    "Comme chez les clients B2B, la périodicité des ventes apparaît corrélée à la catégorie :\n",
    "\n",
    "- la catégorie 0 à la rentrée scolaire \n",
    "- la catégorie 1 pendant les fêtes de Noël\n",
    "- la catégorie 2 pendant l'été et au mois de février "
   ]
  },
  {
   "cell_type": "code",
   "execution_count": 76,
   "id": "b2839d7a",
   "metadata": {},
   "outputs": [
    {
     "data": {
      "image/png": "[encoded data removed]",
      "text/plain": [
       "<Figure size 1080x360 with 1 Axes>"
      ]
     },
     "metadata": {
      "needs_background": "light"
     },
     "output_type": "display_data"
    }
   ],
   "source": [
    "plt.figure(figsize=(15,5))\n",
    "sns.histplot(data=b2c, x='date', hue='categ', multiple='stack', binwidth=7)\n",
    "plt.xticks(rotation=45)\n",
    "plt.title('Volume des transactions par période et catégorie')\n",
    "plt.show()"
   ]
  },
  {
   "cell_type": "code",
   "execution_count": 77,
   "id": "ecd845d2",
   "metadata": {},
   "outputs": [
    {
     "name": "stdout",
     "output_type": "stream",
     "text": [
      "Catégorie 0\n"
     ]
    },
    {
     "data": {
      "image/png": "[encoded data removed]",
      "text/plain": [
       "<Figure size 720x360 with 1 Axes>"
      ]
     },
     "metadata": {
      "needs_background": "light"
     },
     "output_type": "display_data"
    },
    {
     "name": "stdout",
     "output_type": "stream",
     "text": [
      "Catégorie 1\n"
     ]
    },
    {
     "data": {
      "image/png": "[encoded data removed]",
      "text/plain": [
       "<Figure size 720x360 with 1 Axes>"
      ]
     },
     "metadata": {
      "needs_background": "light"
     },
     "output_type": "display_data"
    },
    {
     "name": "stdout",
     "output_type": "stream",
     "text": [
      "Catégorie 2\n"
     ]
    },
    {
     "data": {
      "image/png": "[encoded data removed]",
      "text/plain": [
       "<Figure size 720x360 with 1 Axes>"
      ]
     },
     "metadata": {
      "needs_background": "light"
     },
     "output_type": "display_data"
    }
   ],
   "source": [
    "for i in sorted(df_final['categ'].unique()):\n",
    "    plt.figure(figsize=(10,5))\n",
    "    print('Catégorie', i)\n",
    "    sns.histplot(data=df_final[df_final['categ']==i], x='date', binwidth=10)\n",
    "    plt.show()"
   ]
  },
  {
   "cell_type": "markdown",
   "id": "4bafb0fe",
   "metadata": {},
   "source": [
    "<font size=''><font color='black'><b>Test de Welch :</b> "
   ]
  },
  {
   "cell_type": "code",
   "execution_count": 78,
   "id": "93c9e87a",
   "metadata": {},
   "outputs": [
    {
     "name": "stdout",
     "output_type": "stream",
     "text": [
      "Test de Welch\n",
      "\n",
      "p-value : 0.0 \n",
      "stat : 56.37394668400334\n",
      "H1: une ou plus des moyennes des échantillons sont inégales\n"
     ]
    }
   ],
   "source": [
    "# Test de Welch entre catégorielle et quantitative\n",
    "stat, p = stats.ttest_ind(df_sample['ventes_mensuelles'], df_sample['categ'])\n",
    "print('Test de Welch\\n')\n",
    "print('p-value :', p, '\\nstat :', stat)\n",
    "if p > 0.05:\n",
    "    print('H0: les moyennes des échantillons sont égales')\n",
    "else:\n",
    "    print('H1: une ou plus des moyennes des échantillons sont inégales')"
   ]
  },
  {
   "cell_type": "markdown",
   "id": "5dbedb3f",
   "metadata": {},
   "source": [
    "Le test de Welch valide ici la corrélation entre prix et le nombre de ventes mensuelles"
   ]
  },
  {
   "cell_type": "code",
   "execution_count": null,
   "id": "e6f48d25",
   "metadata": {},
   "outputs": [],
   "source": []
  },
  {
   "cell_type": "code",
   "execution_count": null,
   "id": "dacf8189",
   "metadata": {},
   "outputs": [],
   "source": []
  }
 ],
 "metadata": {
  "kernelspec": {
   "display_name": "Python 3 (ipykernel)",
   "language": "python",
   "name": "python3"
  },
  "language_info": {
   "codemirror_mode": {
    "name": "ipython",
    "version": 3
   },
   "file_extension": ".py",
   "mimetype": "text/x-python",
   "name": "python",
   "nbconvert_exporter": "python",
   "pygments_lexer": "ipython3",
   "version": "3.9.13"
  }
 },
 "nbformat": 4,
 "nbformat_minor": 5
}
